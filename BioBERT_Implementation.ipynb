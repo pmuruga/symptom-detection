{
 "cells": [
  {
   "cell_type": "markdown",
   "metadata": {
    "id": "cGr1_HU46DWt"
   },
   "source": [
    "## Symptom Detection with BioBERT Implementation\n",
    "Import and install the necessary packages, and get the file with the data from the Lindvall Lab. Read it into a pandas DataFrame.\n"
   ]
  },
  {
   "cell_type": "code",
   "execution_count": null,
   "metadata": {
    "id": "30mk5SLRCY80"
   },
   "outputs": [],
   "source": [
    "!pip install scipy==1.7.1\n",
    "from scipy.stats import bootstrap\n",
    "\n",
    "# choose the file with what you want to upload\n",
    "from google.colab import files\n",
    "uploaded = files.upload()"
   ]
  },
  {
   "cell_type": "code",
   "execution_count": null,
   "metadata": {
    "id": "yqZ63qDCDgf1"
   },
   "outputs": [],
   "source": [
    "import numpy as np\n",
    "import pandas as pd\n",
    "import io\n",
    "import torch\n",
    "import nltk \n",
    "from nltk.corpus import stopwords\n",
    "nltk.download('stopwords')\n",
    "nltk.download('punkt')\n",
    "\n",
    "from nltk.tokenize import RegexpTokenizer\n",
    "from nltk.tokenize import word_tokenize\n",
    "!pip install nltk"
   ]
  },
  {
   "cell_type": "code",
   "execution_count": null,
   "metadata": {
    "id": "tz8hGsTBEb5T"
   },
   "outputs": [],
   "source": [
    "# here, df_unique is the file with the data that I uploaded in the first cell\n",
    "df = pd.read_csv(io.BytesIO(uploaded['df_unique.csv']))\n",
    "df.head()"
   ]
  },
  {
   "cell_type": "markdown",
   "metadata": {
    "id": "wKhMZDwS6iOu"
   },
   "source": [
    "Clone the git repository with the BioBERT embedding implementation"
   ]
  },
  {
   "cell_type": "code",
   "execution_count": null,
   "metadata": {
    "id": "JEf_9uucwWYo"
   },
   "outputs": [],
   "source": [
    "# get to the biobert git repo and clone into local runtime\n",
    "!git clone https://github.com/dmis-lab/biobert-pytorch.git\n",
    "%cd ./biobert-pytorch/\n",
    "!pip install transformers==3.0.0\n",
    "!./download.sh\n",
    "!pip install h5py\n",
    "%cd embedding/\n",
    "!pwd"
   ]
  },
  {
   "cell_type": "markdown",
   "metadata": {
    "id": "QVKLhZMx6vKz"
   },
   "source": [
    "Data pre-processing. The steps are as follows:\n",
    "\n",
    "\n",
    "1.   Binarize the ground truth labels on the turns such that turns with avg_symptoms <= 1 go to 0 and the rest go to 1.\n",
    "2.   Remove stop words and punctuation from the text of each turn\n",
    "\n"
   ]
  },
  {
   "cell_type": "code",
   "execution_count": null,
   "metadata": {
    "id": "9MfJSmmbpLrH"
   },
   "outputs": [],
   "source": [
    "# re-binarize the turns so they're in [0,1] = 0 and [2, 3] = 1\n",
    "df.bin_symptoms = np.where(df.avg_symptoms <= 1, 0, 1)\n",
    "df.head()"
   ]
  },
  {
   "cell_type": "code",
   "execution_count": null,
   "metadata": {
    "id": "npQ3hR7YTgsD"
   },
   "outputs": [],
   "source": [
    "# data pre-processing to get the turns as a list separated by enters\n",
    "# 1: remove stop words and punctuation\n",
    "def remove_stopwords_punct(text):\n",
    "  text_tokens = word_tokenize(text)\n",
    "  tokens_without_sw = [word for word in text_tokens if not word in stopwords.words('english')]\n",
    "  tokenizer = RegexpTokenizer(r'\\w+')\n",
    "  no_sw_text = ' '.join(tokens_without_sw)\n",
    "  tokens_without_punct = tokenizer.tokenize(no_sw_text)\n",
    "  return \" \".join(tokens_without_punct)\n",
    "\n",
    "df['turn_text'] = df['turn_text'].apply(remove_stopwords_punct)\n",
    "df = df[df.turn_text != '']\n",
    "df = df.reset_index(drop=True)\n",
    "\n",
    "# 2: put each value in the dataframe into a text file that you can load the next time around\n",
    "with open('symptoms_turn_text.txt', 'w') as f:\n",
    "    for turn in df.turn_text:\n",
    "      f.write(turn + '\\n')\n"
   ]
  },
  {
   "cell_type": "markdown",
   "metadata": {
    "id": "Zfr1l34G7LRh"
   },
   "source": [
    "Run the pre-processed turns through the pre-trained BioBERT embedding module to get a vector of 768 numbers for each turn. Use h5py to read the results into a CSV file that can be saved and loaded into a dataframe."
   ]
  },
  {
   "cell_type": "code",
   "execution_count": null,
   "metadata": {
    "id": "4z4IDaBTzDVu"
   },
   "outputs": [],
   "source": [
    "!python run_embedding.py \\\n",
    "    --model_name_or_path dmis-lab/biobert-base-cased-v1.1 \\\n",
    "    --max_seq_length  170 \\\n",
    "    --data_path symptoms_turn_text.txt  \\\n",
    "    --output_path keyword_turn_embeddings.h5 \\\n",
    "    --batch_size 64 \\\n",
    "    --pooling mean"
   ]
  },
  {
   "cell_type": "code",
   "execution_count": null,
   "metadata": {
    "id": "AJYQyo-7OUDh"
   },
   "outputs": [],
   "source": [
    "import h5py\n",
    "# create a dataframe with conversation #, binary classification, embedding and turn text\n",
    "final_data = pd.DataFrame(columns=['conv_id', 'turn_text', 'embedding', 'binary_symptom'])\n",
    "\n",
    "count = 0\n",
    "with h5py.File('turn_embeddings.h5', 'r') as o:\n",
    "  import pdb\n",
    "  pdb.set_trace()\n",
    "\n",
    "  for key in o.keys():\n",
    "    turn_info = df.loc[df['turn_text'] == key]\n",
    "    turn_info = turn_info.iloc[0]\n",
    "\n",
    "    embedding = list(o[key]['embedding'])\n",
    "    final_data = final_data.append({'conv_id': turn_info.conv_id, 'turn_text': key, 'embedding': embedding, 'binary_symptom': turn_info.bin_symptoms}, ignore_index=True)\n",
    "\n",
    "    if count % 500 == 0:\n",
    "      print(count)\n",
    "    count += 1\n",
    "\n",
    "final_data.to_csv('/content/biobert-pytorch/embedding/final_data.csv')\n",
    "\n",
    "\n",
    "# embedding = list(o['About That left side right']['embedding'])\n"
   ]
  },
  {
   "cell_type": "markdown",
   "metadata": {
    "id": "HL-mP9KC200V"
   },
   "source": [
    "Load the csv file into a dataframe. Note that the length of final data is 55,000, not 79,000 because turns with the same text after pre-processing are combined.\n"
   ]
  },
  {
   "cell_type": "code",
   "execution_count": null,
   "metadata": {
    "colab": {
     "base_uri": "https://localhost:8080/"
    },
    "id": "TUrX7xm624JF",
    "outputId": "92da6e6f-f9c2-4d42-89bd-8cfb5cc3a709"
   },
   "outputs": [
    {
     "data": {
      "text/plain": [
       "55073"
      ]
     },
     "execution_count": 6,
     "metadata": {},
     "output_type": "execute_result"
    }
   ],
   "source": [
    "#  CODE TO LOAD DF FROM CSV #\n",
    "final_data = pd.read_csv('/content/final_data.csv')\n",
    "len(final_data)"
   ]
  },
  {
   "cell_type": "code",
   "execution_count": null,
   "metadata": {
    "id": "iZ3xqJB1_k0U"
   },
   "outputs": [],
   "source": [
    "# Here's what one line of the dataframe looks like\n",
    "final_data.loc[final_data['turn_text'] == 'Right first press right I felt right']"
   ]
  },
  {
   "cell_type": "markdown",
   "metadata": {
    "id": "_QsYpQa77wv7"
   },
   "source": [
    "Code for defining and training the model for the Linear Classification.\n",
    "* Note: pt_test, pt_train and pt_val are files shared between group members that contain the way for splitting the patients into the different sets that we all standardized to."
   ]
  },
  {
   "cell_type": "code",
   "execution_count": null,
   "metadata": {
    "id": "reBem6OMUHPe"
   },
   "outputs": [],
   "source": [
    "# TODO train a small classifier to take the embeddings and classify\n",
    "import torch.nn as nn\n",
    "import torch.optim as optim\n",
    "from torch.utils.data import Dataset, DataLoader\n",
    "\n",
    "device = torch.device(\"cpu\" if torch.cuda.is_available() else \"cpu\")\n",
    "class SymptomClassifier(nn.Module):\n",
    "  def __init__(self):\n",
    "    super().__init__()\n",
    "    self.layer_1 = nn.Linear(768, 64)\n",
    "    self.layer_2 = nn.Linear(64, 64)\n",
    "    self.layer_out = nn.Linear(64, 1) \n",
    "    \n",
    "    self.relu = nn.ReLU()\n",
    "    self.dropout = nn.Dropout(p=0.1)\n",
    "    self.batchnorm1 = nn.BatchNorm1d(64)\n",
    "    self.batchnorm2 = nn.BatchNorm1d(64)\n",
    "        \n",
    "  def forward(self, inputs):\n",
    "      x = self.relu(self.layer_1(inputs))\n",
    "      x = self.batchnorm1(x)\n",
    "      x = self.relu(self.layer_2(x))\n",
    "      x = self.batchnorm2(x)\n",
    "      x = self.dropout(x)\n",
    "      x = self.layer_out(x)\n",
    "      x = x.squeeze()\n",
    "      return x\n",
    "\n",
    "\n",
    "class SymptomDataset(Dataset):\n",
    "  def __init__(self, npy_file, df, og_df):\n",
    "      \"\"\"\n",
    "      Args:\n",
    "          csv_file (string): Path to the csv file with annotations.\n",
    "          root_dir (string): Directory with all the images.\n",
    "          transform (callable, optional): Optional transform to be applied\n",
    "              on a sample.\n",
    "      \"\"\"\n",
    "      # npy_file is the file pranav sent to me of patients for a given split\n",
    "      patients = np.load(npy_file, allow_pickle=True)\n",
    "      conversations = []\n",
    "      for patient_id in patients:\n",
    "        conv_ids = set(og_df.loc[og_df['pt_id'] == patient_id]['conv_id'])\n",
    "        conversations.extend(list(conv_ids))\n",
    "\n",
    "      self.turns_df = df.loc[df['conv_id'].isin(conversations)]\n",
    "      self.turns_df = self.turns_df.reset_index()\n",
    "\n",
    "  def __len__(self):\n",
    "      return len(self.turns_df)\n",
    "\n",
    "  def __getitem__(self, idx):\n",
    "      if torch.is_tensor(idx):\n",
    "          idx = idx.tolist()\n",
    "\n",
    "      turn = self.turns_df.iloc[idx]\n",
    "      embedding = turn.embedding\n",
    "      embedding = eval(embedding)\n",
    "      embedding = torch.tensor(embedding)\n",
    "      label = turn.binary_symptom\n",
    "      text = turn.turn_text\n",
    "      sample = [embedding, label, text]\n",
    "\n",
    "      return sample\n",
    "\n",
    "\n",
    "def train(model, trainloader):\n",
    "  model = model.to(device)\n",
    "  model.train()\n",
    "  \n",
    "  criterion = nn.BCEWithLogitsLoss(pos_weight=torch.Tensor([20.0]).to(device))\n",
    "  optimizer = optim.Adam(model.parameters(), lr=0.001)\n",
    "\n",
    "  for epoch in range(10):\n",
    "    running_loss = 0.0\n",
    "    epoch_acc = 0\n",
    "    for i, data in enumerate(trainloader, 0):\n",
    "        # get the inputs; data is a list of [inputs, labels]\n",
    "        inputs, labels, texts = data\n",
    "        inputs = inputs.to(device)\n",
    "        labels = labels.to(device)\n",
    "\n",
    "        # zero the parameter gradients\n",
    "        optimizer.zero_grad()\n",
    "\n",
    "        # forward + backward + optimize\n",
    "        outputs = model(inputs)\n",
    "        loss = criterion(outputs, labels.float())\n",
    "        acc = binary_acc_val(outputs, labels)\n",
    "\n",
    "        loss.backward()\n",
    "        optimizer.step()\n",
    "\n",
    "        # print statistics\n",
    "        running_loss += loss.item()\n",
    "        epoch_acc += acc.item()\n",
    "    print(f'[{epoch}, {i:5d}] loss: {running_loss / len(trainloader):.3f} Acc: {epoch_acc/len(trainloader):.3f}')\n",
    "\n",
    "\n",
    "  print('Finished Training')\n",
    "\n"
   ]
  },
  {
   "cell_type": "code",
   "execution_count": null,
   "metadata": {
    "id": "4gXPeJNH7OU3"
   },
   "outputs": [],
   "source": [
    "traindataset = SymptomDataset(npy_file='/content/pt_train.npy', df=final_data, og_df=df_unprocessed)\n",
    "testdataset = SymptomDataset(npy_file='/content/pt_test.npy', df=final_data, og_df=df_unprocessed)\n",
    "valdataset = SymptomDataset(npy_file='/content/pt_val.npy', df=final_data, og_df=df_unprocessed)\n",
    "\n",
    "trainloader = DataLoader(traindataset, batch_size=20, shuffle=True)\n",
    "testloader = DataLoader(testdataset, batch_size=10, shuffle=True)\n",
    "valloader = DataLoader(valdataset, batch_size=10, shuffle=True)\n",
    "\n",
    "model = SymptomClassifier()\n",
    "\n",
    "train(model, trainloader)\n",
    "\n"
   ]
  },
  {
   "cell_type": "markdown",
   "metadata": {
    "id": "f548eNW08FhX"
   },
   "source": [
    "Validation and Testing Code to analyze model performance"
   ]
  },
  {
   "cell_type": "code",
   "execution_count": null,
   "metadata": {
    "id": "OzpnjbnWKDym"
   },
   "outputs": [],
   "source": [
    "def binary_acc_val(y_pred, y_test):\n",
    "    threshold = torch.tensor([0.7]).to(device)\n",
    "    outputs = torch.sigmoid(y_pred)\n",
    "    y_pred_tag = (outputs>threshold).float()*1\n",
    "\n",
    "    correct_results_sum = (y_pred_tag == y_test).sum().float()\n",
    "    acc = correct_results_sum/y_test.shape[0]\n",
    "    acc = torch.round(acc * 100)\n",
    "    \n",
    "    return acc\n",
    "\n",
    "\n",
    "def binary_acc_test(y_pred, y_test):\n",
    "\n",
    "    correct_results_sum = (y_pred == y_test).sum()\n",
    "    import pdb\n",
    "    pdb.set_trace()\n",
    "    acc = correct_results_sum/y_test.shape[0]\n",
    "    acc = torch.round(acc * 100)\n",
    "    \n",
    "    return acc\n",
    "\n",
    "\n"
   ]
  },
  {
   "cell_type": "code",
   "execution_count": null,
   "metadata": {
    "colab": {
     "base_uri": "https://localhost:8080/",
     "height": 392
    },
    "id": "zGKADf_kFv-m",
    "outputId": "c11f3fde-f2a5-4763-c3cb-c80355e02164"
   },
   "outputs": [
    {
     "name": "stderr",
     "output_type": "stream",
     "text": [
      "/usr/local/lib/python3.7/dist-packages/ipykernel_launcher.py:45: UserWarning: To copy construct from a tensor, it is recommended to use sourceTensor.clone().detach() or sourceTensor.clone().detach().requires_grad_(True), rather than torch.tensor(sourceTensor).\n",
      "/usr/local/lib/python3.7/dist-packages/ipykernel_launcher.py:46: UserWarning: To copy construct from a tensor, it is recommended to use sourceTensor.clone().detach() or sourceTensor.clone().detach().requires_grad_(True), rather than torch.tensor(sourceTensor).\n"
     ]
    },
    {
     "name": "stdout",
     "output_type": "stream",
     "text": [
      "ACCURACY:  0.7604494382022472\n",
      "BootstrapResult(confidence_interval=ConfidenceInterval(low=0.7476348314606742, high=0.7728089887640449), standard_error=0.006166778830104497)\n",
      "AUC:  0.8524661946433885\n",
      "BootstrapResult(confidence_interval=ConfidenceInterval(low=0.7564398965010434, high=0.7923243689739131), standard_error=0.008873364426313625)\n"
     ]
    },
    {
     "data": {
      "image/png": "[encoded data removed]",
      "text/plain": [
       "<Figure size 432x288 with 1 Axes>"
      ]
     },
     "metadata": {
      "needs_background": "light"
     },
     "output_type": "display_data"
    }
   ],
   "source": [
    "from sklearn.metrics import recall_score\n",
    "from sklearn.metrics import roc_curve, roc_auc_score, accuracy_score\n",
    "import matplotlib.pyplot as plt\n",
    "\n",
    "def get_threshold(y_true, y_pred):\n",
    "  min_val = -10\n",
    "  max_val = 10\n",
    "\n",
    "  while np.abs(max_val - min_val) > 1e-4:\n",
    "      current_thresh = (max_val + min_val)/2\n",
    "\n",
    "      if recall_score(y_true, y_pred > current_thresh) > 0.8:\n",
    "          min_val = current_thresh\n",
    "      else:\n",
    "          max_val = current_thresh\n",
    "  print(recall_score(y_true, y_pred > current_thresh))\n",
    "  return current_thresh\n",
    "\n",
    "def test_model(model, loader):\n",
    "  model.eval()\n",
    "  y_pred_list = []\n",
    "  y_gt = []\n",
    "  y_texts = []\n",
    "  with torch.no_grad():\n",
    "    for i, data in enumerate(loader, 0):\n",
    "      inputs, labels, texts = data\n",
    "      inputs = inputs.to(device)\n",
    "      labels = labels.to(device)\n",
    "      outputs = model(inputs)\n",
    "      y_pred = torch.sigmoid(outputs)\n",
    "      y_pred_list.extend(y_pred)\n",
    "      y_gt.extend(labels)\n",
    "      y_texts.extend(texts)\n",
    "\n",
    "  y_pred_list = torch.tensor(y_pred_list)\n",
    "  y_gt = torch.tensor(y_gt)\n",
    "  \n",
    "  return y_gt, y_pred_list, y_texts\n",
    "\n",
    "y_true, y_pred, y_texts = test_model(model, testloader)\n",
    "y_true = torch.tensor(y_true).to(device)\n",
    "y_pred = torch.tensor(y_pred).to(device)\n",
    "\n",
    "threshold = torch.tensor([0.7]).to(device)\n",
    "\n",
    "predictions = (y_pred>threshold).float()*1\n",
    "\n",
    "acc = accuracy_score(y_true, predictions)\n",
    "\n",
    "\n",
    "auc = roc_auc_score(y_true,y_pred)\n",
    "\n",
    "print(\"ACCURACY: \", acc)\n",
    "print(bootstrap((y_true, predictions), accuracy_score, vectorized = False, paired = True, random_state = 42, method = \"basic\", n_resamples = 1000))\n",
    "print(\"AUC: \", auc)\n",
    "print(bootstrap((y_true,y_pred > threshold), roc_auc_score, vectorized = False, paired = True, random_state = 42, method = \"basic\", n_resamples = 1000))\n",
    "\n",
    "fpr, tpr, thresholds = roc_curve(y_true, y_pred)\n",
    "plt.plot(fpr,tpr, color='darkorange')\n",
    "plt.plot([0, 1], [0, 1], color=\"navy\", lw=2, linestyle=\"--\")\n",
    "plt.show()"
   ]
  },
  {
   "cell_type": "code",
   "execution_count": null,
   "metadata": {
    "id": "bEGvJ9kiY79-"
   },
   "outputs": [],
   "source": [
    "from sklearn.metrics import confusion_matrix, ConfusionMatrixDisplay\n",
    "\n",
    "# predictions_test = (y_pred>torch.tensor(.7)).float()*1\n",
    "cm = confusion_matrix(y_true, predictions)\n",
    "disp = ConfusionMatrixDisplay(confusion_matrix=cm)\n",
    "disp.plot()\n",
    "# predictions_higher_threshold = (y_pred>torch.tensor(.7)).float()*1\n",
    "# predictions_higher_threshold"
   ]
  }
 ],
 "metadata": {
  "accelerator": "GPU",
  "colab": {
   "collapsed_sections": [],
   "machine_shape": "hm",
   "name": "BioBERT Implementation.ipynb",
   "provenance": []
  },
  "kernelspec": {
   "display_name": "Python 3 (ipykernel)",
   "language": "python",
   "name": "python3"
  },
  "language_info": {
   "codemirror_mode": {
    "name": "ipython",
    "version": 3
   },
   "file_extension": ".py",
   "mimetype": "text/x-python",
   "name": "python",
   "nbconvert_exporter": "python",
   "pygments_lexer": "ipython3",
   "version": "3.9.12"
  }
 },
 "nbformat": 4,
 "nbformat_minor": 1
}
