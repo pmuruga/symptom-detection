{
  "nbformat": 4,
  "nbformat_minor": 0,
  "metadata": {
    "colab": {
      "name": "Duffy BOW and LR processed data",
      "provenance": [],
      "collapsed_sections": []
    },
    "kernelspec": {
      "name": "python3",
      "display_name": "Python 3"
    },
    "language_info": {
      "name": "python"
    }
  },
  "cells": [
    {
      "cell_type": "code",
      "execution_count": null,
      "metadata": {
        "colab": {
          "base_uri": "https://localhost:8080/"
        },
        "id": "ypvk4ZD-cGa8",
        "outputId": "83bdcdd9-4f90-440f-f099-066d39a7a2b6"
      },
      "outputs": [
        {
          "output_type": "stream",
          "name": "stdout",
          "text": [
            "Drive already mounted at /content/drive; to attempt to forcibly remount, call drive.mount(\"/content/drive\", force_remount=True).\n"
          ]
        }
      ],
      "source": [
        "from google.colab import drive\n",
        "drive.mount('/content/drive')"
      ]
    },
    {
      "cell_type": "code",
      "source": [
        "import pandas as pd\n",
        "import numpy as np\n",
        "\n",
        "cv_data = pd.read_csv(\"/content/drive/MyDrive/6.871/group project/cv_data.csv\")\n",
        "labels_df = pd.read_csv(\"/content/drive/MyDrive/6.871/group project/df_unique.csv\")"
      ],
      "metadata": {
        "id": "m1RIr6EBeJA1"
      },
      "execution_count": null,
      "outputs": []
    },
    {
      "cell_type": "code",
      "source": [
        "# data splitting\n",
        "import random\n",
        "feat_names_lab = list(cv_data)\n",
        "def stratify_idx(df, pats, split = (0.8, 0.1, 0.1), load = False, save = False):\n",
        "    if load:\n",
        "        train_indices = np.load(\"train_indices.npy\")\n",
        "        val_indices = np.load(\"val_indices.npy\")\n",
        "        test_indices = np.load(\"test_indices.npy\")\n",
        "\n",
        "    if not load:\n",
        "\n",
        "        pt_ids, pt_lengths = np.unique(df[\"pt_id\"], return_counts=True)\n",
        "        # Set random seed for replicable result\n",
        "        random.seed(42)\n",
        "        # 0 for training, 1 for validation, 2 for testing\n",
        "        assignment = np.array(random.choices(population=[0, 1, 2], weights=split, k=len(pt_ids)))\n",
        "        pt_train = pats[np.nonzero(assignment == 0)[0]]\n",
        "        pt_val = pats[np.nonzero(assignment == 1)[0]]\n",
        "        pt_test = pats[np.nonzero(assignment == 2)[0]]\n",
        "\n",
        "\n",
        "        train_indices = df.query('pt_id in @pt_train').index\n",
        "        val_indices = df.query('pt_id in @pt_val').index\n",
        "        test_indices = df.query('pt_id in @pt_test').index\n",
        "\n",
        "    if save:\n",
        "        np.save(\"pt_train\", pt_train)\n",
        "        np.save(\"pt_val\", pt_val)\n",
        "        np.save(\"pt_test\", pt_test)\n",
        "\n",
        "        np.save(\"train_indices\", train_indices)\n",
        "        np.save(\"val_indices\", val_indices)\n",
        "        np.save(\"test_indices\", test_indices)\n",
        "\n",
        "    return train_indices, val_indices, test_indices\n",
        "  \n",
        "indices = stratify_idx(labels_df, pats = labels_df['pt_id'].unique(), split = (0.8, 0.1, 0.1), load = False, save = False)\n",
        "\n",
        "#split into train, val and test\n",
        "train_X = labels_df.iloc[indices[0]][feat_names_lab].values\n",
        "val_X = labels_df.iloc[indices[1]][feat_names_lab].values\n",
        "test_X = labels_df.iloc[indices[2]][feat_names_lab].values\n",
        "\n",
        "train_y = labels_df.iloc[indices[0]][\"bin_symptoms\"].values\n",
        "val_y = labels_df.iloc[indices[1]][\"bin_symptoms\"].values\n",
        "test_y = labels_df.iloc[indices[2]][\"bin_symptoms\"].values"
      ],
      "metadata": {
        "id": "bPPu6jH0jt2s"
      },
      "execution_count": null,
      "outputs": []
    },
    {
      "cell_type": "code",
      "source": [
        "# write a loop going through all C and penalty values, select the values with best validation accuracy (see chunk below)\n",
        "from sklearn.preprocessing import MinMaxScaler, StandardScaler\n",
        "\n",
        "from sklearn.linear_model import LogisticRegression\n",
        "from sklearn.model_selection import GridSearchCV\n",
        "from sklearn.model_selection import cross_val_score\n",
        "\n",
        "from sklearn.metrics import confusion_matrix\n",
        "from sklearn.metrics import plot_confusion_matrix\n",
        "from sklearn.metrics import accuracy_score\n",
        "from sklearn.metrics import f1_score\n",
        "from sklearn.metrics import recall_score\n",
        "from sklearn.metrics import precision_score\n",
        "from sklearn.metrics import roc_curve\n",
        "from sklearn.metrics import roc_auc_score\n",
        "from sklearn.pipeline import Pipeline\n",
        "\n",
        "d = {'C': [0.1,0.25,0.5,1., 0.1,0.25,0.5,1.], 'penalty': ['l1', 'l1', 'l1', 'l1', 'l2', 'l2', 'l2', 'l2']}\n",
        "d = pd.DataFrame(data=d)\n",
        "for i in d.index:\n",
        "  pipe = Pipeline([('norm', StandardScaler()), ('LR', LogisticRegression(C=d[\"C\"][i], penalty=d[\"penalty\"][i], solver='liblinear'))])\n",
        "  pipe.fit(train_X, train_y)\n",
        "  ypred = pipe.predict(val_X)\n",
        "  #accuracy\n",
        "  d.loc[i, \"validation_acc\"] = accuracy_score(val_y, ypred)\n",
        "\n",
        "max_validation_acc = d[\"validation_acc\"].max()\n",
        "C_best = d[d[\"validation_acc\"] == max_validation_acc ][[\"C\"]].squeeze()\n",
        "penalty_best = d[d[\"validation_acc\"] == max_validation_acc ][[\"penalty\"]].squeeze()\n"
      ],
      "metadata": {
        "id": "FAZu6X8_UaWd"
      },
      "execution_count": null,
      "outputs": []
    },
    {
      "cell_type": "code",
      "source": [
        "# getting predictions on test data\n",
        "pipe = Pipeline([('norm', StandardScaler()), ('LR', LogisticRegression(C=C_best, penalty=penalty_best, solver='liblinear'))])\n",
        "model_best = pipe.fit(train_X, train_y)\n",
        "model_best.fit(train_X, train_y)\n",
        "ypred2 = model_best.predict(test_X)\n"
      ],
      "metadata": {
        "colab": {
          "base_uri": "https://localhost:8080/"
        },
        "id": "VXR54z6Y7cGs",
        "outputId": "792c69f4-2015-4432-b4f6-0ab2f77597d7"
      },
      "execution_count": null,
      "outputs": [
        {
          "output_type": "stream",
          "name": "stdout",
          "text": [
            "test accuracy: 0.877863827040981\n"
          ]
        }
      ]
    },
    {
      "cell_type": "code",
      "source": [
        ""
      ],
      "metadata": {
        "id": "57HVrRn-IXo8"
      },
      "execution_count": null,
      "outputs": []
    },
    {
      "cell_type": "code",
      "source": [
        "from sklearn import metrics\n",
        "#Confusion matrix, Accuracy, sensitivity and specificity\n",
        "# Creating the confusion matrix\n",
        "\n",
        "#acc = accuracy_score(y_df_test, ypred2)\n",
        "cm = metrics.confusion_matrix(test_y, ypred2)\n",
        "# Assigning columns names\n",
        "cm_df = pd.DataFrame(cm, \n",
        "            columns = ['Predicted Negative', 'Predicted Positive'],\n",
        "            index = ['Actual Negative', 'Actual Positive'])\n",
        "# Showing the confusion matrix\n",
        "cm_df"
      ],
      "metadata": {
        "colab": {
          "base_uri": "https://localhost:8080/",
          "height": 112
        },
        "id": "VbaHEENSeYyb",
        "outputId": "38837c1d-5cc3-487a-9ee8-0ae44f29a92f"
      },
      "execution_count": null,
      "outputs": [
        {
          "output_type": "execute_result",
          "data": {
            "text/plain": [
              "                 Predicted Negative  Predicted Positive\n",
              "Actual Negative                5049                 120\n",
              "Actual Positive                 637                 392"
            ],
            "text/html": [
              "\n",
              "  <div id=\"df-389fef76-d880-419c-83d8-5670024c4bd4\">\n",
              "    <div class=\"colab-df-container\">\n",
              "      <div>\n",
              "<style scoped>\n",
              "    .dataframe tbody tr th:only-of-type {\n",
              "        vertical-align: middle;\n",
              "    }\n",
              "\n",
              "    .dataframe tbody tr th {\n",
              "        vertical-align: top;\n",
              "    }\n",
              "\n",
              "    .dataframe thead th {\n",
              "        text-align: right;\n",
              "    }\n",
              "</style>\n",
              "<table border=\"1\" class=\"dataframe\">\n",
              "  <thead>\n",
              "    <tr style=\"text-align: right;\">\n",
              "      <th></th>\n",
              "      <th>Predicted Negative</th>\n",
              "      <th>Predicted Positive</th>\n",
              "    </tr>\n",
              "  </thead>\n",
              "  <tbody>\n",
              "    <tr>\n",
              "      <th>Actual Negative</th>\n",
              "      <td>5049</td>\n",
              "      <td>120</td>\n",
              "    </tr>\n",
              "    <tr>\n",
              "      <th>Actual Positive</th>\n",
              "      <td>637</td>\n",
              "      <td>392</td>\n",
              "    </tr>\n",
              "  </tbody>\n",
              "</table>\n",
              "</div>\n",
              "      <button class=\"colab-df-convert\" onclick=\"convertToInteractive('df-389fef76-d880-419c-83d8-5670024c4bd4')\"\n",
              "              title=\"Convert this dataframe to an interactive table.\"\n",
              "              style=\"display:none;\">\n",
              "        \n",
              "  <svg xmlns=\"http://www.w3.org/2000/svg\" height=\"24px\"viewBox=\"0 0 24 24\"\n",
              "       width=\"24px\">\n",
              "    <path d=\"M0 0h24v24H0V0z\" fill=\"none\"/>\n",
              "    <path d=\"M18.56 5.44l.94 2.06.94-2.06 2.06-.94-2.06-.94-.94-2.06-.94 2.06-2.06.94zm-11 1L8.5 8.5l.94-2.06 2.06-.94-2.06-.94L8.5 2.5l-.94 2.06-2.06.94zm10 10l.94 2.06.94-2.06 2.06-.94-2.06-.94-.94-2.06-.94 2.06-2.06.94z\"/><path d=\"M17.41 7.96l-1.37-1.37c-.4-.4-.92-.59-1.43-.59-.52 0-1.04.2-1.43.59L10.3 9.45l-7.72 7.72c-.78.78-.78 2.05 0 2.83L4 21.41c.39.39.9.59 1.41.59.51 0 1.02-.2 1.41-.59l7.78-7.78 2.81-2.81c.8-.78.8-2.07 0-2.86zM5.41 20L4 18.59l7.72-7.72 1.47 1.35L5.41 20z\"/>\n",
              "  </svg>\n",
              "      </button>\n",
              "      \n",
              "  <style>\n",
              "    .colab-df-container {\n",
              "      display:flex;\n",
              "      flex-wrap:wrap;\n",
              "      gap: 12px;\n",
              "    }\n",
              "\n",
              "    .colab-df-convert {\n",
              "      background-color: #E8F0FE;\n",
              "      border: none;\n",
              "      border-radius: 50%;\n",
              "      cursor: pointer;\n",
              "      display: none;\n",
              "      fill: #1967D2;\n",
              "      height: 32px;\n",
              "      padding: 0 0 0 0;\n",
              "      width: 32px;\n",
              "    }\n",
              "\n",
              "    .colab-df-convert:hover {\n",
              "      background-color: #E2EBFA;\n",
              "      box-shadow: 0px 1px 2px rgba(60, 64, 67, 0.3), 0px 1px 3px 1px rgba(60, 64, 67, 0.15);\n",
              "      fill: #174EA6;\n",
              "    }\n",
              "\n",
              "    [theme=dark] .colab-df-convert {\n",
              "      background-color: #3B4455;\n",
              "      fill: #D2E3FC;\n",
              "    }\n",
              "\n",
              "    [theme=dark] .colab-df-convert:hover {\n",
              "      background-color: #434B5C;\n",
              "      box-shadow: 0px 1px 3px 1px rgba(0, 0, 0, 0.15);\n",
              "      filter: drop-shadow(0px 1px 2px rgba(0, 0, 0, 0.3));\n",
              "      fill: #FFFFFF;\n",
              "    }\n",
              "  </style>\n",
              "\n",
              "      <script>\n",
              "        const buttonEl =\n",
              "          document.querySelector('#df-389fef76-d880-419c-83d8-5670024c4bd4 button.colab-df-convert');\n",
              "        buttonEl.style.display =\n",
              "          google.colab.kernel.accessAllowed ? 'block' : 'none';\n",
              "\n",
              "        async function convertToInteractive(key) {\n",
              "          const element = document.querySelector('#df-389fef76-d880-419c-83d8-5670024c4bd4');\n",
              "          const dataTable =\n",
              "            await google.colab.kernel.invokeFunction('convertToInteractive',\n",
              "                                                     [key], {});\n",
              "          if (!dataTable) return;\n",
              "\n",
              "          const docLinkHtml = 'Like what you see? Visit the ' +\n",
              "            '<a target=\"_blank\" href=https://colab.research.google.com/notebooks/data_table.ipynb>data table notebook</a>'\n",
              "            + ' to learn more about interactive tables.';\n",
              "          element.innerHTML = '';\n",
              "          dataTable['output_type'] = 'display_data';\n",
              "          await google.colab.output.renderOutput(dataTable, element);\n",
              "          const docLink = document.createElement('div');\n",
              "          docLink.innerHTML = docLinkHtml;\n",
              "          element.appendChild(docLink);\n",
              "        }\n",
              "      </script>\n",
              "    </div>\n",
              "  </div>\n",
              "  "
            ]
          },
          "metadata": {},
          "execution_count": 8
        }
      ]
    },
    {
      "cell_type": "code",
      "source": [
        "# Creating a function to report confusion metrics\n",
        "def confusion_metrics (conf_matrix):\n",
        "# save confusion matrix and slice into four pieces\n",
        "    TP = conf_matrix[1][1]\n",
        "    TN = conf_matrix[0][0]\n",
        "    FP = conf_matrix[0][1]\n",
        "    FN = conf_matrix[1][0]\n",
        "    print('True Positives:', TP)\n",
        "    print('True Negatives:', TN)\n",
        "    print('False Positives:', FP)\n",
        "    print('False Negatives:', FN)\n",
        "    \n",
        "    # calculate accuracy\n",
        "    conf_accuracy = (float (TP+TN) / float(TP + TN + FP + FN))\n",
        "    \n",
        "    # calculate mis-classification\n",
        "    conf_misclassification = 1- conf_accuracy\n",
        "    \n",
        "    # calculate the sensitivity\n",
        "    conf_sensitivity = (TP / float(TP + FN))\n",
        "    # calculate the specificity\n",
        "    conf_specificity = (TN / float(TN + FP))\n",
        "    \n",
        "    # calculate precision\n",
        "    conf_precision = (TN / float(TN + FP))\n",
        "    # calculate f_1 score\n",
        "    conf_f1 = 2 * ((conf_precision * conf_sensitivity) / (conf_precision + conf_sensitivity))\n",
        "    print('-'*50)\n",
        "    print(f'Accuracy: {round(conf_accuracy,2)}') \n",
        "    print(f'Mis-Classification: {round(conf_misclassification,2)}') \n",
        "    print(f'Sensitivity: {round(conf_sensitivity,2)}') \n",
        "    print(f'Specificity: {round(conf_specificity,2)}') \n",
        "    print(f'Precision: {round(conf_precision,2)}')\n",
        "    print(f'f_1 Score: {round(conf_f1,2)}')"
      ],
      "metadata": {
        "id": "k4CBMNJC86vZ"
      },
      "execution_count": null,
      "outputs": []
    },
    {
      "cell_type": "code",
      "source": [
        "confusion_metrics(cm)"
      ],
      "metadata": {
        "colab": {
          "base_uri": "https://localhost:8080/"
        },
        "id": "P4rbTtQY9Ybf",
        "outputId": "4da43ef7-151d-4089-fe10-e12efa454f9d"
      },
      "execution_count": null,
      "outputs": [
        {
          "output_type": "stream",
          "name": "stdout",
          "text": [
            "True Positives: 392\n",
            "True Negatives: 5049\n",
            "False Positives: 120\n",
            "False Negatives: 637\n",
            "--------------------------------------------------\n",
            "Accuracy: 0.88\n",
            "Mis-Classification: 0.12\n",
            "Sensitivity: 0.38\n",
            "Specificity: 0.98\n",
            "Precision: 0.98\n",
            "f_1 Score: 0.55\n"
          ]
        }
      ]
    },
    {
      "cell_type": "code",
      "source": [
        "roc_auc_score(test_y, ypred2)"
      ],
      "metadata": {
        "colab": {
          "base_uri": "https://localhost:8080/"
        },
        "id": "jJVMcQ0yB5P6",
        "outputId": "561f0cfd-3a38-421b-8556-24dec5e4a3a4"
      },
      "execution_count": null,
      "outputs": [
        {
          "output_type": "execute_result",
          "data": {
            "text/plain": [
              "0.6788685294198933"
            ]
          },
          "metadata": {},
          "execution_count": 11
        }
      ]
    },
    {
      "cell_type": "code",
      "source": [
        "# feature importance\n",
        "#lr = pipe['LR']\n",
        "#feature_importance = pd.DataFrame({\n",
        "#    'features': feat_names_lab,\n",
        "#    'coefs': lr.coef_[-1,:]\n",
        "#})\n",
        "\n",
        "#feature_importance.sort_values(by = 'coefs', ascending = False).head(30)"
      ],
      "metadata": {
        "id": "6qDK5pWPeXCc"
      },
      "execution_count": null,
      "outputs": []
    },
    {
      "cell_type": "code",
      "source": [
        "np.save(\"y_pred_bowlr\", ypred2)\n",
        "np.save(\"y_true_bowlr\", test_y)"
      ],
      "metadata": {
        "id": "xWSuMZG6qK5l"
      },
      "execution_count": null,
      "outputs": []
    },
    {
      "cell_type": "markdown",
      "source": [
        ""
      ],
      "metadata": {
        "id": "1FbUhUKSM7cU"
      }
    },
    {
      "cell_type": "code",
      "source": [
        "# getting the predicted probabilities\n",
        "label_probs = pipe.predict_proba(test_X)\n",
        "np.save(\"label_probs\", label_probs)"
      ],
      "metadata": {
        "id": "BliF_lWlOs0Q"
      },
      "execution_count": null,
      "outputs": []
    },
    {
      "cell_type": "code",
      "source": [
        "# feature importance\n",
        "output = {'feature': feat_names_lab, 'coefficient': model_best.named_steps['LR'].coef_[0] }\n",
        "output = pd.DataFrame(data=output)\n",
        "output['abs_coeff'] = output['coefficient'].abs()\n",
        "features_ranked = output.sort_values(by=['abs_coeff'], ascending=False).head(10)\n"
      ],
      "metadata": {
        "id": "Vw6IYJW_HaAW"
      },
      "execution_count": null,
      "outputs": []
    },
    {
      "cell_type": "code",
      "source": [
        "features_ranked"
      ],
      "metadata": {
        "colab": {
          "base_uri": "https://localhost:8080/",
          "height": 363
        },
        "id": "iwVP6GQgWNT2",
        "outputId": "e6565d60-de60-41d6-957d-464588e9475c"
      },
      "execution_count": null,
      "outputs": [
        {
          "output_type": "execute_result",
          "data": {
            "text/plain": [
              "           feature  coefficient  abs_coeff\n",
              "83   _generalpain_     0.831062   0.831062\n",
              "245        consent    -0.388663   0.388663\n",
              "96       _numbness     0.342983   0.342983\n",
              "101     _swelling_     0.321771   0.321771\n",
              "95        _nausea_     0.309570   0.309570\n",
              "80       _fatigue_     0.298565   0.298565\n",
              "89      _insomnia_     0.290818   0.290818\n",
              "142         asking    -0.281849   0.281849\n",
              "77      _diarrhea_     0.263931   0.263931\n",
              "238        comment    -0.260747   0.260747"
            ],
            "text/html": [
              "\n",
              "  <div id=\"df-bd299c15-d803-418d-ad02-fc41ca23c069\">\n",
              "    <div class=\"colab-df-container\">\n",
              "      <div>\n",
              "<style scoped>\n",
              "    .dataframe tbody tr th:only-of-type {\n",
              "        vertical-align: middle;\n",
              "    }\n",
              "\n",
              "    .dataframe tbody tr th {\n",
              "        vertical-align: top;\n",
              "    }\n",
              "\n",
              "    .dataframe thead th {\n",
              "        text-align: right;\n",
              "    }\n",
              "</style>\n",
              "<table border=\"1\" class=\"dataframe\">\n",
              "  <thead>\n",
              "    <tr style=\"text-align: right;\">\n",
              "      <th></th>\n",
              "      <th>feature</th>\n",
              "      <th>coefficient</th>\n",
              "      <th>abs_coeff</th>\n",
              "    </tr>\n",
              "  </thead>\n",
              "  <tbody>\n",
              "    <tr>\n",
              "      <th>83</th>\n",
              "      <td>_generalpain_</td>\n",
              "      <td>0.831062</td>\n",
              "      <td>0.831062</td>\n",
              "    </tr>\n",
              "    <tr>\n",
              "      <th>245</th>\n",
              "      <td>consent</td>\n",
              "      <td>-0.388663</td>\n",
              "      <td>0.388663</td>\n",
              "    </tr>\n",
              "    <tr>\n",
              "      <th>96</th>\n",
              "      <td>_numbness</td>\n",
              "      <td>0.342983</td>\n",
              "      <td>0.342983</td>\n",
              "    </tr>\n",
              "    <tr>\n",
              "      <th>101</th>\n",
              "      <td>_swelling_</td>\n",
              "      <td>0.321771</td>\n",
              "      <td>0.321771</td>\n",
              "    </tr>\n",
              "    <tr>\n",
              "      <th>95</th>\n",
              "      <td>_nausea_</td>\n",
              "      <td>0.309570</td>\n",
              "      <td>0.309570</td>\n",
              "    </tr>\n",
              "    <tr>\n",
              "      <th>80</th>\n",
              "      <td>_fatigue_</td>\n",
              "      <td>0.298565</td>\n",
              "      <td>0.298565</td>\n",
              "    </tr>\n",
              "    <tr>\n",
              "      <th>89</th>\n",
              "      <td>_insomnia_</td>\n",
              "      <td>0.290818</td>\n",
              "      <td>0.290818</td>\n",
              "    </tr>\n",
              "    <tr>\n",
              "      <th>142</th>\n",
              "      <td>asking</td>\n",
              "      <td>-0.281849</td>\n",
              "      <td>0.281849</td>\n",
              "    </tr>\n",
              "    <tr>\n",
              "      <th>77</th>\n",
              "      <td>_diarrhea_</td>\n",
              "      <td>0.263931</td>\n",
              "      <td>0.263931</td>\n",
              "    </tr>\n",
              "    <tr>\n",
              "      <th>238</th>\n",
              "      <td>comment</td>\n",
              "      <td>-0.260747</td>\n",
              "      <td>0.260747</td>\n",
              "    </tr>\n",
              "  </tbody>\n",
              "</table>\n",
              "</div>\n",
              "      <button class=\"colab-df-convert\" onclick=\"convertToInteractive('df-bd299c15-d803-418d-ad02-fc41ca23c069')\"\n",
              "              title=\"Convert this dataframe to an interactive table.\"\n",
              "              style=\"display:none;\">\n",
              "        \n",
              "  <svg xmlns=\"http://www.w3.org/2000/svg\" height=\"24px\"viewBox=\"0 0 24 24\"\n",
              "       width=\"24px\">\n",
              "    <path d=\"M0 0h24v24H0V0z\" fill=\"none\"/>\n",
              "    <path d=\"M18.56 5.44l.94 2.06.94-2.06 2.06-.94-2.06-.94-.94-2.06-.94 2.06-2.06.94zm-11 1L8.5 8.5l.94-2.06 2.06-.94-2.06-.94L8.5 2.5l-.94 2.06-2.06.94zm10 10l.94 2.06.94-2.06 2.06-.94-2.06-.94-.94-2.06-.94 2.06-2.06.94z\"/><path d=\"M17.41 7.96l-1.37-1.37c-.4-.4-.92-.59-1.43-.59-.52 0-1.04.2-1.43.59L10.3 9.45l-7.72 7.72c-.78.78-.78 2.05 0 2.83L4 21.41c.39.39.9.59 1.41.59.51 0 1.02-.2 1.41-.59l7.78-7.78 2.81-2.81c.8-.78.8-2.07 0-2.86zM5.41 20L4 18.59l7.72-7.72 1.47 1.35L5.41 20z\"/>\n",
              "  </svg>\n",
              "      </button>\n",
              "      \n",
              "  <style>\n",
              "    .colab-df-container {\n",
              "      display:flex;\n",
              "      flex-wrap:wrap;\n",
              "      gap: 12px;\n",
              "    }\n",
              "\n",
              "    .colab-df-convert {\n",
              "      background-color: #E8F0FE;\n",
              "      border: none;\n",
              "      border-radius: 50%;\n",
              "      cursor: pointer;\n",
              "      display: none;\n",
              "      fill: #1967D2;\n",
              "      height: 32px;\n",
              "      padding: 0 0 0 0;\n",
              "      width: 32px;\n",
              "    }\n",
              "\n",
              "    .colab-df-convert:hover {\n",
              "      background-color: #E2EBFA;\n",
              "      box-shadow: 0px 1px 2px rgba(60, 64, 67, 0.3), 0px 1px 3px 1px rgba(60, 64, 67, 0.15);\n",
              "      fill: #174EA6;\n",
              "    }\n",
              "\n",
              "    [theme=dark] .colab-df-convert {\n",
              "      background-color: #3B4455;\n",
              "      fill: #D2E3FC;\n",
              "    }\n",
              "\n",
              "    [theme=dark] .colab-df-convert:hover {\n",
              "      background-color: #434B5C;\n",
              "      box-shadow: 0px 1px 3px 1px rgba(0, 0, 0, 0.15);\n",
              "      filter: drop-shadow(0px 1px 2px rgba(0, 0, 0, 0.3));\n",
              "      fill: #FFFFFF;\n",
              "    }\n",
              "  </style>\n",
              "\n",
              "      <script>\n",
              "        const buttonEl =\n",
              "          document.querySelector('#df-bd299c15-d803-418d-ad02-fc41ca23c069 button.colab-df-convert');\n",
              "        buttonEl.style.display =\n",
              "          google.colab.kernel.accessAllowed ? 'block' : 'none';\n",
              "\n",
              "        async function convertToInteractive(key) {\n",
              "          const element = document.querySelector('#df-bd299c15-d803-418d-ad02-fc41ca23c069');\n",
              "          const dataTable =\n",
              "            await google.colab.kernel.invokeFunction('convertToInteractive',\n",
              "                                                     [key], {});\n",
              "          if (!dataTable) return;\n",
              "\n",
              "          const docLinkHtml = 'Like what you see? Visit the ' +\n",
              "            '<a target=\"_blank\" href=https://colab.research.google.com/notebooks/data_table.ipynb>data table notebook</a>'\n",
              "            + ' to learn more about interactive tables.';\n",
              "          element.innerHTML = '';\n",
              "          dataTable['output_type'] = 'display_data';\n",
              "          await google.colab.output.renderOutput(dataTable, element);\n",
              "          const docLink = document.createElement('div');\n",
              "          docLink.innerHTML = docLinkHtml;\n",
              "          element.appendChild(docLink);\n",
              "        }\n",
              "      </script>\n",
              "    </div>\n",
              "  </div>\n",
              "  "
            ]
          },
          "metadata": {},
          "execution_count": 36
        }
      ]
    },
    {
      "cell_type": "code",
      "source": [
        "features_ranked.plot.bar(x='feature', y='abs_coeff', rot=90, kind=\"barh\")"
      ],
      "metadata": {
        "colab": {
          "base_uri": "https://localhost:8080/",
          "height": 357
        },
        "id": "gAt5IcmCWIZu",
        "outputId": "d63938b9-125b-4a4d-b354-694b7217add7"
      },
      "execution_count": null,
      "outputs": [
        {
          "output_type": "execute_result",
          "data": {
            "text/plain": [
              "<matplotlib.axes._subplots.AxesSubplot at 0x7f63fd80cc50>"
            ]
          },
          "metadata": {},
          "execution_count": 39
        },
        {
          "output_type": "display_data",
          "data": {
            "text/plain": [
              "<Figure size 432x288 with 1 Axes>"
            ],
            "image/png": "[encoded data removed]"
          },
          "metadata": {
            "needs_background": "light"
          }
        }
      ]
    },
    {
      "cell_type": "code",
      "source": [
        "# getting the bootstrapped accuracy / AUC / precision / recall as in the table\n",
        "#%pip install scipy==1.7.1\n",
        "from scipy.stats import bootstrap\n",
        "thresh = 0.5"
      ],
      "metadata": {
        "id": "vYnmH91Po96a"
      },
      "execution_count": null,
      "outputs": []
    },
    {
      "cell_type": "code",
      "source": [
        "boot_prec = bootstrap((test_y,ypred2 > thresh), precision_score, vectorized = False, paired = True, random_state = 42, method = 'basic', n_resamples = 1000)\n",
        "(boot_prec.confidence_interval.high + boot_prec.confidence_interval.low)/2"
      ],
      "metadata": {
        "colab": {
          "base_uri": "https://localhost:8080/"
        },
        "id": "V79JiVhGG9To",
        "outputId": "5542c050-3d3e-4262-b0e4-66fcb33c0244"
      },
      "execution_count": null,
      "outputs": [
        {
          "output_type": "execute_result",
          "data": {
            "text/plain": [
              "0.7680292151877217"
            ]
          },
          "metadata": {},
          "execution_count": 29
        }
      ]
    },
    {
      "cell_type": "code",
      "source": [
        "boot_prec.standard_error"
      ],
      "metadata": {
        "colab": {
          "base_uri": "https://localhost:8080/"
        },
        "id": "iULB01h2Jz3p",
        "outputId": "a9974486-583e-4d8f-995b-7eb994729193"
      },
      "execution_count": null,
      "outputs": [
        {
          "output_type": "execute_result",
          "data": {
            "text/plain": [
              "0.018983568900135597"
            ]
          },
          "metadata": {},
          "execution_count": 28
        }
      ]
    },
    {
      "cell_type": "code",
      "source": [
        "boot_auc = bootstrap((test_y,ypred2 > thresh), roc_auc_score, vectorized = False, paired = True, random_state = 42, method = 'basic', n_resamples = 1000)\n",
        "(boot_auc.confidence_interval.high + boot_auc.confidence_interval.low)/2"
      ],
      "metadata": {
        "colab": {
          "base_uri": "https://localhost:8080/"
        },
        "id": "zHsj_-2GunIJ",
        "outputId": "afa109ee-77cc-450b-c03f-084d8701e0bc"
      },
      "execution_count": null,
      "outputs": [
        {
          "output_type": "execute_result",
          "data": {
            "text/plain": [
              "0.6788083549957036"
            ]
          },
          "metadata": {},
          "execution_count": 31
        }
      ]
    },
    {
      "cell_type": "code",
      "source": [
        "boot_auc.standard_error"
      ],
      "metadata": {
        "colab": {
          "base_uri": "https://localhost:8080/"
        },
        "id": "aZDHCn-4K1AO",
        "outputId": "7bbb1b41-b106-42e4-f15c-abea6d15c074"
      },
      "execution_count": null,
      "outputs": [
        {
          "output_type": "execute_result",
          "data": {
            "text/plain": [
              "0.008179812932163872"
            ]
          },
          "metadata": {},
          "execution_count": 32
        }
      ]
    },
    {
      "cell_type": "code",
      "source": [
        "boot_acc = bootstrap((test_y,ypred2 > thresh), accuracy_score, vectorized = False, paired = True, random_state = 42, method = 'basic', n_resamples = 1000)\n",
        "(boot_acc.confidence_interval.high + boot_acc.confidence_interval.low)/2"
      ],
      "metadata": {
        "colab": {
          "base_uri": "https://localhost:8080/"
        },
        "id": "ZOEsnd49u6zm",
        "outputId": "608bad23-0558-4310-c56e-920d46a024f2"
      },
      "execution_count": null,
      "outputs": [
        {
          "output_type": "execute_result",
          "data": {
            "text/plain": [
              "0.8781058405937399"
            ]
          },
          "metadata": {},
          "execution_count": 30
        }
      ]
    },
    {
      "cell_type": "code",
      "source": [
        "boot_acc.standard_error"
      ],
      "metadata": {
        "id": "PF9wANoMLdQa"
      },
      "execution_count": null,
      "outputs": []
    },
    {
      "cell_type": "code",
      "source": [
        "boot_rec = bootstrap((test_y,ypred2 > thresh), recall_score, vectorized = False, paired = True, random_state = 42, method = 'basic', n_resamples = 1000)\n",
        "(boot_rec.confidence_interval.high + boot_rec.confidence_interval.low)/2"
      ],
      "metadata": {
        "colab": {
          "base_uri": "https://localhost:8080/"
        },
        "id": "VnaD1drjABdz",
        "outputId": "5d879d99-0a02-4e84-89c1-16cfbd4f082d"
      },
      "execution_count": null,
      "outputs": [
        {
          "output_type": "execute_result",
          "data": {
            "text/plain": [
              "0.38046777794789444"
            ]
          },
          "metadata": {},
          "execution_count": 33
        }
      ]
    },
    {
      "cell_type": "code",
      "source": [
        "boot_rec.standard_error"
      ],
      "metadata": {
        "colab": {
          "base_uri": "https://localhost:8080/"
        },
        "id": "Iw1GDZFWL3HD",
        "outputId": "9b3f0fc2-6c23-4ba0-939f-b028904d5a34"
      },
      "execution_count": null,
      "outputs": [
        {
          "output_type": "execute_result",
          "data": {
            "text/plain": [
              "0.016259220930405764"
            ]
          },
          "metadata": {},
          "execution_count": 34
        }
      ]
    }
  ]
}