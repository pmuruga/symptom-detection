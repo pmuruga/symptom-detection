{
  "cells": [
    {
      "cell_type": "markdown",
      "id": "NRKApAjCWdox",
      "metadata": {
        "id": "NRKApAjCWdox"
      },
      "source": [
        "# Import Packages and Pre-trained Models"
      ]
    },
    {
      "cell_type": "code",
      "execution_count": null,
      "id": "6a5ca0bc",
      "metadata": {
        "colab": {
          "base_uri": "https://localhost:8080/"
        },
        "id": "6a5ca0bc",
        "outputId": "d590b802-e144-4599-ae68-fe7ba9e9e4fe"
      },
      "outputs": [
        {
          "name": "stdout",
          "output_type": "stream",
          "text": [
            "\u001b[K     |████████████████████████████████| 4.9 MB 2.1 MB/s \n",
            "\u001b[K     |████████████████████████████████| 462 kB 42.7 MB/s \n",
            "\u001b[K     |████████████████████████████████| 1.8 MB 3.9 MB/s \n",
            "\u001b[K     |████████████████████████████████| 1.1 MB 26.8 MB/s \n",
            "\u001b[K     |████████████████████████████████| 596 kB 38.9 MB/s \n",
            "\u001b[K     |████████████████████████████████| 1.2 MB 36.1 MB/s \n",
            "\u001b[K     |████████████████████████████████| 237 kB 38.1 MB/s \n",
            "\u001b[K     |████████████████████████████████| 352 kB 40.5 MB/s \n",
            "\u001b[K     |████████████████████████████████| 99 kB 5.3 MB/s \n",
            "\u001b[K     |████████████████████████████████| 90 kB 7.5 MB/s \n",
            "\u001b[K     |████████████████████████████████| 43 kB 1.5 MB/s \n",
            "\u001b[K     |████████████████████████████████| 47.8 MB 77 kB/s \n",
            "\u001b[?25h  Building wheel for py-cpuinfo (setup.py) ... \u001b[?25l\u001b[?25hdone\n",
            "  Building wheel for seqeval (setup.py) ... \u001b[?25l\u001b[?25hdone\n"
          ]
        }
      ],
      "source": [
        "!pip install -q -U \"tensorflow-text==2.8.*\"\n",
        "!pip install -q tf-models-official==2.7.0"
      ]
    },
    {
      "cell_type": "code",
      "execution_count": null,
      "id": "Ox7EWQWYJuOb",
      "metadata": {
        "colab": {
          "base_uri": "https://localhost:8080/"
        },
        "id": "Ox7EWQWYJuOb",
        "outputId": "367388af-f8f3-4a75-f8dd-94e11fa9a344"
      },
      "outputs": [
        {
          "name": "stdout",
          "output_type": "stream",
          "text": [
            "Requirement already satisfied: scipy in /usr/local/lib/python3.7/dist-packages (1.4.1)\n",
            "Collecting scipy\n",
            "  Downloading scipy-1.7.3-cp37-cp37m-manylinux_2_12_x86_64.manylinux2010_x86_64.whl (38.1 MB)\n",
            "\u001b[K     |████████████████████████████████| 38.1 MB 1.4 MB/s \n",
            "\u001b[?25hRequirement already satisfied: numpy<1.23.0,>=1.16.5 in /usr/local/lib/python3.7/dist-packages (from scipy) (1.21.6)\n",
            "Installing collected packages: scipy\n",
            "  Attempting uninstall: scipy\n",
            "    Found existing installation: scipy 1.4.1\n",
            "    Uninstalling scipy-1.4.1:\n",
            "      Successfully uninstalled scipy-1.4.1\n",
            "\u001b[31mERROR: pip's dependency resolver does not currently take into account all the packages that are installed. This behaviour is the source of the following dependency conflicts.\n",
            "albumentations 0.1.12 requires imgaug<0.2.7,>=0.2.5, but you have imgaug 0.2.9 which is incompatible.\u001b[0m\n",
            "Successfully installed scipy-1.7.3\n"
          ]
        }
      ],
      "source": [
        "!pip install -U scipy"
      ]
    },
    {
      "cell_type": "code",
      "execution_count": null,
      "id": "06e9e545",
      "metadata": {
        "id": "06e9e545"
      },
      "outputs": [],
      "source": [
        "import os\n",
        "import sys\n",
        "import random\n",
        "import numpy as np\n",
        "import pandas as pd\n",
        "import tensorflow as tf\n",
        "import shutil\n",
        "\n",
        "import tensorflow as tf\n",
        "import tensorflow_hub as hub\n",
        "#if running for the first time, please run the second cell first \n",
        "import tensorflow_text as text\n",
        "from official.nlp import optimization  # to create AdamW optimizer\n",
        "import matplotlib.pyplot as plt\n",
        "tf.get_logger().setLevel('ERROR')\n",
        "from tensorflow import keras\n",
        "from sklearn.metrics import accuracy_score\n",
        "from sklearn.metrics import roc_auc_score\n",
        "from sklearn.metrics import precision_score\n",
        "from sklearn.metrics import recall_score\n",
        "from scipy.stats import bootstrap"
      ]
    },
    {
      "cell_type": "code",
      "execution_count": null,
      "id": "bafc9db2",
      "metadata": {
        "colab": {
          "base_uri": "https://localhost:8080/"
        },
        "id": "bafc9db2",
        "outputId": "523f6229-1617-462c-a7c2-03b524599158"
      },
      "outputs": [
        {
          "name": "stdout",
          "output_type": "stream",
          "text": [
            "BERT model selected           : https://tfhub.dev/tensorflow/small_bert/bert_en_uncased_L-4_H-512_A-8/1\n",
            "Preprocess model auto-selected: https://tfhub.dev/tensorflow/bert_en_uncased_preprocess/3\n"
          ]
        }
      ],
      "source": [
        "#mapping to the corresponding directory for each model \n",
        "#retrieved from tensorflow website \n",
        "\n",
        "bert_model_name = 'small_bert/bert_en_uncased_L-4_H-512_A-8' \n",
        "\n",
        "map_name_to_handle = {\n",
        "    'bert_en_uncased_L-12_H-768_A-12':\n",
        "        'https://tfhub.dev/tensorflow/bert_en_uncased_L-12_H-768_A-12/3',\n",
        "    'bert_en_cased_L-12_H-768_A-12':\n",
        "        'https://tfhub.dev/tensorflow/bert_en_cased_L-12_H-768_A-12/3',\n",
        "    'bert_multi_cased_L-12_H-768_A-12':\n",
        "        'https://tfhub.dev/tensorflow/bert_multi_cased_L-12_H-768_A-12/3',\n",
        "    'small_bert/bert_en_uncased_L-2_H-128_A-2':\n",
        "        'https://tfhub.dev/tensorflow/small_bert/bert_en_uncased_L-2_H-128_A-2/1',\n",
        "    'small_bert/bert_en_uncased_L-2_H-256_A-4':\n",
        "        'https://tfhub.dev/tensorflow/small_bert/bert_en_uncased_L-2_H-256_A-4/1',\n",
        "    'small_bert/bert_en_uncased_L-2_H-512_A-8':\n",
        "        'https://tfhub.dev/tensorflow/small_bert/bert_en_uncased_L-2_H-512_A-8/1',\n",
        "    'small_bert/bert_en_uncased_L-2_H-768_A-12':\n",
        "        'https://tfhub.dev/tensorflow/small_bert/bert_en_uncased_L-2_H-768_A-12/1',\n",
        "    'small_bert/bert_en_uncased_L-4_H-128_A-2':\n",
        "        'https://tfhub.dev/tensorflow/small_bert/bert_en_uncased_L-4_H-128_A-2/1',\n",
        "    'small_bert/bert_en_uncased_L-4_H-256_A-4':\n",
        "        'https://tfhub.dev/tensorflow/small_bert/bert_en_uncased_L-4_H-256_A-4/1',\n",
        "    'small_bert/bert_en_uncased_L-4_H-512_A-8':\n",
        "        'https://tfhub.dev/tensorflow/small_bert/bert_en_uncased_L-4_H-512_A-8/1',\n",
        "    'small_bert/bert_en_uncased_L-4_H-768_A-12':\n",
        "        'https://tfhub.dev/tensorflow/small_bert/bert_en_uncased_L-4_H-768_A-12/1',\n",
        "    'small_bert/bert_en_uncased_L-6_H-128_A-2':\n",
        "        'https://tfhub.dev/tensorflow/small_bert/bert_en_uncased_L-6_H-128_A-2/1',\n",
        "    'small_bert/bert_en_uncased_L-6_H-256_A-4':\n",
        "        'https://tfhub.dev/tensorflow/small_bert/bert_en_uncased_L-6_H-256_A-4/1',\n",
        "    'small_bert/bert_en_uncased_L-6_H-512_A-8':\n",
        "        'https://tfhub.dev/tensorflow/small_bert/bert_en_uncased_L-6_H-512_A-8/1',\n",
        "    'small_bert/bert_en_uncased_L-6_H-768_A-12':\n",
        "        'https://tfhub.dev/tensorflow/small_bert/bert_en_uncased_L-6_H-768_A-12/1',\n",
        "    'small_bert/bert_en_uncased_L-8_H-128_A-2':\n",
        "        'https://tfhub.dev/tensorflow/small_bert/bert_en_uncased_L-8_H-128_A-2/1',\n",
        "    'small_bert/bert_en_uncased_L-8_H-256_A-4':\n",
        "        'https://tfhub.dev/tensorflow/small_bert/bert_en_uncased_L-8_H-256_A-4/1',\n",
        "    'small_bert/bert_en_uncased_L-8_H-512_A-8':\n",
        "        'https://tfhub.dev/tensorflow/small_bert/bert_en_uncased_L-8_H-512_A-8/1',\n",
        "    'small_bert/bert_en_uncased_L-8_H-768_A-12':\n",
        "        'https://tfhub.dev/tensorflow/small_bert/bert_en_uncased_L-8_H-768_A-12/1',\n",
        "    'small_bert/bert_en_uncased_L-10_H-128_A-2':\n",
        "        'https://tfhub.dev/tensorflow/small_bert/bert_en_uncased_L-10_H-128_A-2/1',\n",
        "    'small_bert/bert_en_uncased_L-10_H-256_A-4':\n",
        "        'https://tfhub.dev/tensorflow/small_bert/bert_en_uncased_L-10_H-256_A-4/1',\n",
        "    'small_bert/bert_en_uncased_L-10_H-512_A-8':\n",
        "        'https://tfhub.dev/tensorflow/small_bert/bert_en_uncased_L-10_H-512_A-8/1',\n",
        "    'small_bert/bert_en_uncased_L-10_H-768_A-12':\n",
        "        'https://tfhub.dev/tensorflow/small_bert/bert_en_uncased_L-10_H-768_A-12/1',\n",
        "    'small_bert/bert_en_uncased_L-12_H-128_A-2':\n",
        "        'https://tfhub.dev/tensorflow/small_bert/bert_en_uncased_L-12_H-128_A-2/1',\n",
        "    'small_bert/bert_en_uncased_L-12_H-256_A-4':\n",
        "        'https://tfhub.dev/tensorflow/small_bert/bert_en_uncased_L-12_H-256_A-4/1',\n",
        "    'small_bert/bert_en_uncased_L-12_H-512_A-8':\n",
        "        'https://tfhub.dev/tensorflow/small_bert/bert_en_uncased_L-12_H-512_A-8/1',\n",
        "    'small_bert/bert_en_uncased_L-12_H-768_A-12':\n",
        "        'https://tfhub.dev/tensorflow/small_bert/bert_en_uncased_L-12_H-768_A-12/1',\n",
        "    'albert_en_base':\n",
        "        'https://tfhub.dev/tensorflow/albert_en_base/2',\n",
        "    'electra_small':\n",
        "        'https://tfhub.dev/google/electra_small/2',\n",
        "    'electra_base':\n",
        "        'https://tfhub.dev/google/electra_base/2',\n",
        "    'experts_pubmed':\n",
        "        'https://tfhub.dev/google/experts/bert/pubmed/2',\n",
        "    'experts_wiki_books':\n",
        "        'https://tfhub.dev/google/experts/bert/wiki_books/2',\n",
        "    'talking-heads_base':\n",
        "        'https://tfhub.dev/tensorflow/talkheads_ggelu_bert_en_base/1',\n",
        "}\n",
        "\n",
        "map_model_to_preprocess = {\n",
        "    'bert_en_uncased_L-12_H-768_A-12':\n",
        "        'https://tfhub.dev/tensorflow/bert_en_uncased_preprocess/3',\n",
        "    'bert_en_cased_L-12_H-768_A-12':\n",
        "        'https://tfhub.dev/tensorflow/bert_en_cased_preprocess/3',\n",
        "    'small_bert/bert_en_uncased_L-2_H-128_A-2':\n",
        "        'https://tfhub.dev/tensorflow/bert_en_uncased_preprocess/3',\n",
        "    'small_bert/bert_en_uncased_L-2_H-256_A-4':\n",
        "        'https://tfhub.dev/tensorflow/bert_en_uncased_preprocess/3',\n",
        "    'small_bert/bert_en_uncased_L-2_H-512_A-8':\n",
        "        'https://tfhub.dev/tensorflow/bert_en_uncased_preprocess/3',\n",
        "    'small_bert/bert_en_uncased_L-2_H-768_A-12':\n",
        "        'https://tfhub.dev/tensorflow/bert_en_uncased_preprocess/3',\n",
        "    'small_bert/bert_en_uncased_L-4_H-128_A-2':\n",
        "        'https://tfhub.dev/tensorflow/bert_en_uncased_preprocess/3',\n",
        "    'small_bert/bert_en_uncased_L-4_H-256_A-4':\n",
        "        'https://tfhub.dev/tensorflow/bert_en_uncased_preprocess/3',\n",
        "    'small_bert/bert_en_uncased_L-4_H-512_A-8':\n",
        "        'https://tfhub.dev/tensorflow/bert_en_uncased_preprocess/3',\n",
        "    'small_bert/bert_en_uncased_L-4_H-768_A-12':\n",
        "        'https://tfhub.dev/tensorflow/bert_en_uncased_preprocess/3',\n",
        "    'small_bert/bert_en_uncased_L-6_H-128_A-2':\n",
        "        'https://tfhub.dev/tensorflow/bert_en_uncased_preprocess/3',\n",
        "    'small_bert/bert_en_uncased_L-6_H-256_A-4':\n",
        "        'https://tfhub.dev/tensorflow/bert_en_uncased_preprocess/3',\n",
        "    'small_bert/bert_en_uncased_L-6_H-512_A-8':\n",
        "        'https://tfhub.dev/tensorflow/bert_en_uncased_preprocess/3',\n",
        "    'small_bert/bert_en_uncased_L-6_H-768_A-12':\n",
        "        'https://tfhub.dev/tensorflow/bert_en_uncased_preprocess/3',\n",
        "    'small_bert/bert_en_uncased_L-8_H-128_A-2':\n",
        "        'https://tfhub.dev/tensorflow/bert_en_uncased_preprocess/3',\n",
        "    'small_bert/bert_en_uncased_L-8_H-256_A-4':\n",
        "        'https://tfhub.dev/tensorflow/bert_en_uncased_preprocess/3',\n",
        "    'small_bert/bert_en_uncased_L-8_H-512_A-8':\n",
        "        'https://tfhub.dev/tensorflow/bert_en_uncased_preprocess/3',\n",
        "    'small_bert/bert_en_uncased_L-8_H-768_A-12':\n",
        "        'https://tfhub.dev/tensorflow/bert_en_uncased_preprocess/3',\n",
        "    'small_bert/bert_en_uncased_L-10_H-128_A-2':\n",
        "        'https://tfhub.dev/tensorflow/bert_en_uncased_preprocess/3',\n",
        "    'small_bert/bert_en_uncased_L-10_H-256_A-4':\n",
        "        'https://tfhub.dev/tensorflow/bert_en_uncased_preprocess/3',\n",
        "    'small_bert/bert_en_uncased_L-10_H-512_A-8':\n",
        "        'https://tfhub.dev/tensorflow/bert_en_uncased_preprocess/3',\n",
        "    'small_bert/bert_en_uncased_L-10_H-768_A-12':\n",
        "        'https://tfhub.dev/tensorflow/bert_en_uncased_preprocess/3',\n",
        "    'small_bert/bert_en_uncased_L-12_H-128_A-2':\n",
        "        'https://tfhub.dev/tensorflow/bert_en_uncased_preprocess/3',\n",
        "    'small_bert/bert_en_uncased_L-12_H-256_A-4':\n",
        "        'https://tfhub.dev/tensorflow/bert_en_uncased_preprocess/3',\n",
        "    'small_bert/bert_en_uncased_L-12_H-512_A-8':\n",
        "        'https://tfhub.dev/tensorflow/bert_en_uncased_preprocess/3',\n",
        "    'small_bert/bert_en_uncased_L-12_H-768_A-12':\n",
        "        'https://tfhub.dev/tensorflow/bert_en_uncased_preprocess/3',\n",
        "    'bert_multi_cased_L-12_H-768_A-12':\n",
        "        'https://tfhub.dev/tensorflow/bert_multi_cased_preprocess/3',\n",
        "    'albert_en_base':\n",
        "        'https://tfhub.dev/tensorflow/albert_en_preprocess/3',\n",
        "    'electra_small':\n",
        "        'https://tfhub.dev/tensorflow/bert_en_uncased_preprocess/3',\n",
        "    'electra_base':\n",
        "        'https://tfhub.dev/tensorflow/bert_en_uncased_preprocess/3',\n",
        "    'experts_pubmed':\n",
        "        'https://tfhub.dev/tensorflow/bert_en_uncased_preprocess/3',\n",
        "    'experts_wiki_books':\n",
        "        'https://tfhub.dev/tensorflow/bert_en_uncased_preprocess/3',\n",
        "    'talking-heads_base':\n",
        "        'https://tfhub.dev/tensorflow/bert_en_uncased_preprocess/3',\n",
        "}\n",
        "\n",
        "tfhub_handle_encoder = map_name_to_handle[bert_model_name]\n",
        "tfhub_handle_preprocess = map_model_to_preprocess[bert_model_name]\n",
        "\n",
        "print(f'BERT model selected           : {tfhub_handle_encoder}')\n",
        "print(f'Preprocess model auto-selected: {tfhub_handle_preprocess}')"
      ]
    },
    {
      "cell_type": "markdown",
      "id": "gIaFSDKUWyz4",
      "metadata": {
        "id": "gIaFSDKUWyz4"
      },
      "source": [
        "# Read Data"
      ]
    },
    {
      "cell_type": "code",
      "execution_count": null,
      "id": "hI8nuTTWRWX6",
      "metadata": {
        "colab": {
          "base_uri": "https://localhost:8080/",
          "height": 73,
          "resources": {
            "http://localhost:8080/nbextensions/google.colab/files.js": {
              "data": "Ly8gQ29weXJpZ2h0IDIwMTcgR29vZ2xlIExMQwovLwovLyBMaWNlbnNlZCB1bmRlciB0aGUgQXBhY2hlIExpY2Vuc2UsIFZlcnNpb24gMi4wICh0aGUgIkxpY2Vuc2UiKTsKLy8geW91IG1heSBub3QgdXNlIHRoaXMgZmlsZSBleGNlcHQgaW4gY29tcGxpYW5jZSB3aXRoIHRoZSBMaWNlbnNlLgovLyBZb3UgbWF5IG9idGFpbiBhIGNvcHkgb2YgdGhlIExpY2Vuc2UgYXQKLy8KLy8gICAgICBodHRwOi8vd3d3LmFwYWNoZS5vcmcvbGljZW5zZXMvTElDRU5TRS0yLjAKLy8KLy8gVW5sZXNzIHJlcXVpcmVkIGJ5IGFwcGxpY2FibGUgbGF3IG9yIGFncmVlZCB0byBpbiB3cml0aW5nLCBzb2Z0d2FyZQovLyBkaXN0cmlidXRlZCB1bmRlciB0aGUgTGljZW5zZSBpcyBkaXN0cmlidXRlZCBvbiBhbiAiQVMgSVMiIEJBU0lTLAovLyBXSVRIT1VUIFdBUlJBTlRJRVMgT1IgQ09ORElUSU9OUyBPRiBBTlkgS0lORCwgZWl0aGVyIGV4cHJlc3Mgb3IgaW1wbGllZC4KLy8gU2VlIHRoZSBMaWNlbnNlIGZvciB0aGUgc3BlY2lmaWMgbGFuZ3VhZ2UgZ292ZXJuaW5nIHBlcm1pc3Npb25zIGFuZAovLyBsaW1pdGF0aW9ucyB1bmRlciB0aGUgTGljZW5zZS4KCi8qKgogKiBAZmlsZW92ZXJ2aWV3IEhlbHBlcnMgZm9yIGdvb2dsZS5jb2xhYiBQeXRob24gbW9kdWxlLgogKi8KKGZ1bmN0aW9uKHNjb3BlKSB7CmZ1bmN0aW9uIHNwYW4odGV4dCwgc3R5bGVBdHRyaWJ1dGVzID0ge30pIHsKICBjb25zdCBlbGVtZW50ID0gZG9jdW1lbnQuY3JlYXRlRWxlbWVudCgnc3BhbicpOwogIGVsZW1lbnQudGV4dENvbnRlbnQgPSB0ZXh0OwogIGZvciAoY29uc3Qga2V5IG9mIE9iamVjdC5rZXlzKHN0eWxlQXR0cmlidXRlcykpIHsKICAgIGVsZW1lbnQuc3R5bGVba2V5XSA9IHN0eWxlQXR0cmlidXRlc1trZXldOwogIH0KICByZXR1cm4gZWxlbWVudDsKfQoKLy8gTWF4IG51bWJlciBvZiBieXRlcyB3aGljaCB3aWxsIGJlIHVwbG9hZGVkIGF0IGEgdGltZS4KY29uc3QgTUFYX1BBWUxPQURfU0laRSA9IDEwMCAqIDEwMjQ7CgpmdW5jdGlvbiBfdXBsb2FkRmlsZXMoaW5wdXRJZCwgb3V0cHV0SWQpIHsKICBjb25zdCBzdGVwcyA9IHVwbG9hZEZpbGVzU3RlcChpbnB1dElkLCBvdXRwdXRJZCk7CiAgY29uc3Qgb3V0cHV0RWxlbWVudCA9IGRvY3VtZW50LmdldEVsZW1lbnRCeUlkKG91dHB1dElkKTsKICAvLyBDYWNoZSBzdGVwcyBvbiB0aGUgb3V0cHV0RWxlbWVudCB0byBtYWtlIGl0IGF2YWlsYWJsZSBmb3IgdGhlIG5leHQgY2FsbAogIC8vIHRvIHVwbG9hZEZpbGVzQ29udGludWUgZnJvbSBQeXRob24uCiAgb3V0cHV0RWxlbWVudC5zdGVwcyA9IHN0ZXBzOwoKICByZXR1cm4gX3VwbG9hZEZpbGVzQ29udGludWUob3V0cHV0SWQpOwp9CgovLyBUaGlzIGlzIHJvdWdobHkgYW4gYXN5bmMgZ2VuZXJhdG9yIChub3Qgc3VwcG9ydGVkIGluIHRoZSBicm93c2VyIHlldCksCi8vIHdoZXJlIHRoZXJlIGFyZSBtdWx0aXBsZSBhc3luY2hyb25vdXMgc3RlcHMgYW5kIHRoZSBQeXRob24gc2lkZSBpcyBnb2luZwovLyB0byBwb2xsIGZvciBjb21wbGV0aW9uIG9mIGVhY2ggc3RlcC4KLy8gVGhpcyB1c2VzIGEgUHJvbWlzZSB0byBibG9jayB0aGUgcHl0aG9uIHNpZGUgb24gY29tcGxldGlvbiBvZiBlYWNoIHN0ZXAsCi8vIHRoZW4gcGFzc2VzIHRoZSByZXN1bHQgb2YgdGhlIHByZXZpb3VzIHN0ZXAgYXMgdGhlIGlucHV0IHRvIHRoZSBuZXh0IHN0ZXAuCmZ1bmN0aW9uIF91cGxvYWRGaWxlc0NvbnRpbnVlKG91dHB1dElkKSB7CiAgY29uc3Qgb3V0cHV0RWxlbWVudCA9IGRvY3VtZW50LmdldEVsZW1lbnRCeUlkKG91dHB1dElkKTsKICBjb25zdCBzdGVwcyA9IG91dHB1dEVsZW1lbnQuc3RlcHM7CgogIGNvbnN0IG5leHQgPSBzdGVwcy5uZXh0KG91dHB1dEVsZW1lbnQubGFzdFByb21pc2VWYWx1ZSk7CiAgcmV0dXJuIFByb21pc2UucmVzb2x2ZShuZXh0LnZhbHVlLnByb21pc2UpLnRoZW4oKHZhbHVlKSA9PiB7CiAgICAvLyBDYWNoZSB0aGUgbGFzdCBwcm9taXNlIHZhbHVlIHRvIG1ha2UgaXQgYXZhaWxhYmxlIHRvIHRoZSBuZXh0CiAgICAvLyBzdGVwIG9mIHRoZSBnZW5lcmF0b3IuCiAgICBvdXRwdXRFbGVtZW50Lmxhc3RQcm9taXNlVmFsdWUgPSB2YWx1ZTsKICAgIHJldHVybiBuZXh0LnZhbHVlLnJlc3BvbnNlOwogIH0pOwp9CgovKioKICogR2VuZXJhdG9yIGZ1bmN0aW9uIHdoaWNoIGlzIGNhbGxlZCBiZXR3ZWVuIGVhY2ggYXN5bmMgc3RlcCBvZiB0aGUgdXBsb2FkCiAqIHByb2Nlc3MuCiAqIEBwYXJhbSB7c3RyaW5nfSBpbnB1dElkIEVsZW1lbnQgSUQgb2YgdGhlIGlucHV0IGZpbGUgcGlja2VyIGVsZW1lbnQuCiAqIEBwYXJhbSB7c3RyaW5nfSBvdXRwdXRJZCBFbGVtZW50IElEIG9mIHRoZSBvdXRwdXQgZGlzcGxheS4KICogQHJldHVybiB7IUl0ZXJhYmxlPCFPYmplY3Q+fSBJdGVyYWJsZSBvZiBuZXh0IHN0ZXBzLgogKi8KZnVuY3Rpb24qIHVwbG9hZEZpbGVzU3RlcChpbnB1dElkLCBvdXRwdXRJZCkgewogIGNvbnN0IGlucHV0RWxlbWVudCA9IGRvY3VtZW50LmdldEVsZW1lbnRCeUlkKGlucHV0SWQpOwogIGlucHV0RWxlbWVudC5kaXNhYmxlZCA9IGZhbHNlOwoKICBjb25zdCBvdXRwdXRFbGVtZW50ID0gZG9jdW1lbnQuZ2V0RWxlbWVudEJ5SWQob3V0cHV0SWQpOwogIG91dHB1dEVsZW1lbnQuaW5uZXJIVE1MID0gJyc7CgogIGNvbnN0IHBpY2tlZFByb21pc2UgPSBuZXcgUHJvbWlzZSgocmVzb2x2ZSkgPT4gewogICAgaW5wdXRFbGVtZW50LmFkZEV2ZW50TGlzdGVuZXIoJ2NoYW5nZScsIChlKSA9PiB7CiAgICAgIHJlc29sdmUoZS50YXJnZXQuZmlsZXMpOwogICAgfSk7CiAgfSk7CgogIGNvbnN0IGNhbmNlbCA9IGRvY3VtZW50LmNyZWF0ZUVsZW1lbnQoJ2J1dHRvbicpOwogIGlucHV0RWxlbWVudC5wYXJlbnRFbGVtZW50LmFwcGVuZENoaWxkKGNhbmNlbCk7CiAgY2FuY2VsLnRleHRDb250ZW50ID0gJ0NhbmNlbCB1cGxvYWQnOwogIGNvbnN0IGNhbmNlbFByb21pc2UgPSBuZXcgUHJvbWlzZSgocmVzb2x2ZSkgPT4gewogICAgY2FuY2VsLm9uY2xpY2sgPSAoKSA9PiB7CiAgICAgIHJlc29sdmUobnVsbCk7CiAgICB9OwogIH0pOwoKICAvLyBXYWl0IGZvciB0aGUgdXNlciB0byBwaWNrIHRoZSBmaWxlcy4KICBjb25zdCBmaWxlcyA9IHlpZWxkIHsKICAgIHByb21pc2U6IFByb21pc2UucmFjZShbcGlja2VkUHJvbWlzZSwgY2FuY2VsUHJvbWlzZV0pLAogICAgcmVzcG9uc2U6IHsKICAgICAgYWN0aW9uOiAnc3RhcnRpbmcnLAogICAgfQogIH07CgogIGNhbmNlbC5yZW1vdmUoKTsKCiAgLy8gRGlzYWJsZSB0aGUgaW5wdXQgZWxlbWVudCBzaW5jZSBmdXJ0aGVyIHBpY2tzIGFyZSBub3QgYWxsb3dlZC4KICBpbnB1dEVsZW1lbnQuZGlzYWJsZWQgPSB0cnVlOwoKICBpZiAoIWZpbGVzKSB7CiAgICByZXR1cm4gewogICAgICByZXNwb25zZTogewogICAgICAgIGFjdGlvbjogJ2NvbXBsZXRlJywKICAgICAgfQogICAgfTsKICB9CgogIGZvciAoY29uc3QgZmlsZSBvZiBmaWxlcykgewogICAgY29uc3QgbGkgPSBkb2N1bWVudC5jcmVhdGVFbGVtZW50KCdsaScpOwogICAgbGkuYXBwZW5kKHNwYW4oZmlsZS5uYW1lLCB7Zm9udFdlaWdodDogJ2JvbGQnfSkpOwogICAgbGkuYXBwZW5kKHNwYW4oCiAgICAgICAgYCgke2ZpbGUudHlwZSB8fCAnbi9hJ30pIC0gJHtmaWxlLnNpemV9IGJ5dGVzLCBgICsKICAgICAgICBgbGFzdCBtb2RpZmllZDogJHsKICAgICAgICAgICAgZmlsZS5sYXN0TW9kaWZpZWREYXRlID8gZmlsZS5sYXN0TW9kaWZpZWREYXRlLnRvTG9jYWxlRGF0ZVN0cmluZygpIDoKICAgICAgICAgICAgICAgICAgICAgICAgICAgICAgICAgICAgJ24vYSd9IC0gYCkpOwogICAgY29uc3QgcGVyY2VudCA9IHNwYW4oJzAlIGRvbmUnKTsKICAgIGxpLmFwcGVuZENoaWxkKHBlcmNlbnQpOwoKICAgIG91dHB1dEVsZW1lbnQuYXBwZW5kQ2hpbGQobGkpOwoKICAgIGNvbnN0IGZpbGVEYXRhUHJvbWlzZSA9IG5ldyBQcm9taXNlKChyZXNvbHZlKSA9PiB7CiAgICAgIGNvbnN0IHJlYWRlciA9IG5ldyBGaWxlUmVhZGVyKCk7CiAgICAgIHJlYWRlci5vbmxvYWQgPSAoZSkgPT4gewogICAgICAgIHJlc29sdmUoZS50YXJnZXQucmVzdWx0KTsKICAgICAgfTsKICAgICAgcmVhZGVyLnJlYWRBc0FycmF5QnVmZmVyKGZpbGUpOwogICAgfSk7CiAgICAvLyBXYWl0IGZvciB0aGUgZGF0YSB0byBiZSByZWFkeS4KICAgIGxldCBmaWxlRGF0YSA9IHlpZWxkIHsKICAgICAgcHJvbWlzZTogZmlsZURhdGFQcm9taXNlLAogICAgICByZXNwb25zZTogewogICAgICAgIGFjdGlvbjogJ2NvbnRpbnVlJywKICAgICAgfQogICAgfTsKCiAgICAvLyBVc2UgYSBjaHVua2VkIHNlbmRpbmcgdG8gYXZvaWQgbWVzc2FnZSBzaXplIGxpbWl0cy4gU2VlIGIvNjIxMTU2NjAuCiAgICBsZXQgcG9zaXRpb24gPSAwOwogICAgZG8gewogICAgICBjb25zdCBsZW5ndGggPSBNYXRoLm1pbihmaWxlRGF0YS5ieXRlTGVuZ3RoIC0gcG9zaXRpb24sIE1BWF9QQVlMT0FEX1NJWkUpOwogICAgICBjb25zdCBjaHVuayA9IG5ldyBVaW50OEFycmF5KGZpbGVEYXRhLCBwb3NpdGlvbiwgbGVuZ3RoKTsKICAgICAgcG9zaXRpb24gKz0gbGVuZ3RoOwoKICAgICAgY29uc3QgYmFzZTY0ID0gYnRvYShTdHJpbmcuZnJvbUNoYXJDb2RlLmFwcGx5KG51bGwsIGNodW5rKSk7CiAgICAgIHlpZWxkIHsKICAgICAgICByZXNwb25zZTogewogICAgICAgICAgYWN0aW9uOiAnYXBwZW5kJywKICAgICAgICAgIGZpbGU6IGZpbGUubmFtZSwKICAgICAgICAgIGRhdGE6IGJhc2U2NCwKICAgICAgICB9LAogICAgICB9OwoKICAgICAgbGV0IHBlcmNlbnREb25lID0gZmlsZURhdGEuYnl0ZUxlbmd0aCA9PT0gMCA/CiAgICAgICAgICAxMDAgOgogICAgICAgICAgTWF0aC5yb3VuZCgocG9zaXRpb24gLyBmaWxlRGF0YS5ieXRlTGVuZ3RoKSAqIDEwMCk7CiAgICAgIHBlcmNlbnQudGV4dENvbnRlbnQgPSBgJHtwZXJjZW50RG9uZX0lIGRvbmVgOwoKICAgIH0gd2hpbGUgKHBvc2l0aW9uIDwgZmlsZURhdGEuYnl0ZUxlbmd0aCk7CiAgfQoKICAvLyBBbGwgZG9uZS4KICB5aWVsZCB7CiAgICByZXNwb25zZTogewogICAgICBhY3Rpb246ICdjb21wbGV0ZScsCiAgICB9CiAgfTsKfQoKc2NvcGUuZ29vZ2xlID0gc2NvcGUuZ29vZ2xlIHx8IHt9OwpzY29wZS5nb29nbGUuY29sYWIgPSBzY29wZS5nb29nbGUuY29sYWIgfHwge307CnNjb3BlLmdvb2dsZS5jb2xhYi5fZmlsZXMgPSB7CiAgX3VwbG9hZEZpbGVzLAogIF91cGxvYWRGaWxlc0NvbnRpbnVlLAp9Owp9KShzZWxmKTsK",
              "headers": [
                [
                  "content-type",
                  "application/javascript"
                ]
              ],
              "ok": true,
              "status": 200,
              "status_text": ""
            }
          }
        },
        "id": "hI8nuTTWRWX6",
        "outputId": "719b1e2b-cd30-40b8-dd70-f69a3268643e"
      },
      "outputs": [
        {
          "data": {
            "text/html": [
              "\n",
              "     <input type=\"file\" id=\"files-45b438a6-f1c4-4ff6-9253-3b54a738fc39\" name=\"files[]\" multiple disabled\n",
              "        style=\"border:none\" />\n",
              "     <output id=\"result-45b438a6-f1c4-4ff6-9253-3b54a738fc39\">\n",
              "      Upload widget is only available when the cell has been executed in the\n",
              "      current browser session. Please rerun this cell to enable.\n",
              "      </output>\n",
              "      <script src=\"/nbextensions/google.colab/files.js\"></script> "
            ],
            "text/plain": [
              "<IPython.core.display.HTML object>"
            ]
          },
          "metadata": {},
          "output_type": "display_data"
        },
        {
          "name": "stdout",
          "output_type": "stream",
          "text": [
            "Saving df_unique.csv to df_unique.csv\n"
          ]
        }
      ],
      "source": [
        "from google.colab import files\n",
        "uploaded = files.upload()"
      ]
    },
    {
      "cell_type": "code",
      "execution_count": null,
      "id": "0f00473f",
      "metadata": {
        "colab": {
          "base_uri": "https://localhost:8080/",
          "height": 206
        },
        "id": "0f00473f",
        "outputId": "f36e5649-51cc-4406-98d3-9228555c0c38"
      },
      "outputs": [
        {
          "data": {
            "text/html": [
              "\n",
              "  <div id=\"df-2987358c-fd89-477a-a2b8-7411dc962286\">\n",
              "    <div class=\"colab-df-container\">\n",
              "      <div>\n",
              "<style scoped>\n",
              "    .dataframe tbody tr th:only-of-type {\n",
              "        vertical-align: middle;\n",
              "    }\n",
              "\n",
              "    .dataframe tbody tr th {\n",
              "        vertical-align: top;\n",
              "    }\n",
              "\n",
              "    .dataframe thead th {\n",
              "        text-align: right;\n",
              "    }\n",
              "</style>\n",
              "<table border=\"1\" class=\"dataframe\">\n",
              "  <thead>\n",
              "    <tr style=\"text-align: right;\">\n",
              "      <th></th>\n",
              "      <th>conv_id</th>\n",
              "      <th>turn_text</th>\n",
              "      <th>bin_symptoms</th>\n",
              "    </tr>\n",
              "  </thead>\n",
              "  <tbody>\n",
              "    <tr>\n",
              "      <th>79782</th>\n",
              "      <td>C5163</td>\n",
              "      <td>Mm-hmm.</td>\n",
              "      <td>0</td>\n",
              "    </tr>\n",
              "    <tr>\n",
              "      <th>79783</th>\n",
              "      <td>C5163</td>\n",
              "      <td>You going with me now [00:42:00] to check?</td>\n",
              "      <td>0</td>\n",
              "    </tr>\n",
              "    <tr>\n",
              "      <th>79784</th>\n",
              "      <td>C5163</td>\n",
              "      <td>I didn’t want to come in with you still changing.</td>\n",
              "      <td>0</td>\n",
              "    </tr>\n",
              "    <tr>\n",
              "      <th>79785</th>\n",
              "      <td>C5163</td>\n",
              "      <td>All right, we need the questionnaire?</td>\n",
              "      <td>0</td>\n",
              "    </tr>\n",
              "    <tr>\n",
              "      <th>79786</th>\n",
              "      <td>C5163</td>\n",
              "      <td>Yeah, but we can do it –</td>\n",
              "      <td>0</td>\n",
              "    </tr>\n",
              "  </tbody>\n",
              "</table>\n",
              "</div>\n",
              "      <button class=\"colab-df-convert\" onclick=\"convertToInteractive('df-2987358c-fd89-477a-a2b8-7411dc962286')\"\n",
              "              title=\"Convert this dataframe to an interactive table.\"\n",
              "              style=\"display:none;\">\n",
              "        \n",
              "  <svg xmlns=\"http://www.w3.org/2000/svg\" height=\"24px\"viewBox=\"0 0 24 24\"\n",
              "       width=\"24px\">\n",
              "    <path d=\"M0 0h24v24H0V0z\" fill=\"none\"/>\n",
              "    <path d=\"M18.56 5.44l.94 2.06.94-2.06 2.06-.94-2.06-.94-.94-2.06-.94 2.06-2.06.94zm-11 1L8.5 8.5l.94-2.06 2.06-.94-2.06-.94L8.5 2.5l-.94 2.06-2.06.94zm10 10l.94 2.06.94-2.06 2.06-.94-2.06-.94-.94-2.06-.94 2.06-2.06.94z\"/><path d=\"M17.41 7.96l-1.37-1.37c-.4-.4-.92-.59-1.43-.59-.52 0-1.04.2-1.43.59L10.3 9.45l-7.72 7.72c-.78.78-.78 2.05 0 2.83L4 21.41c.39.39.9.59 1.41.59.51 0 1.02-.2 1.41-.59l7.78-7.78 2.81-2.81c.8-.78.8-2.07 0-2.86zM5.41 20L4 18.59l7.72-7.72 1.47 1.35L5.41 20z\"/>\n",
              "  </svg>\n",
              "      </button>\n",
              "      \n",
              "  <style>\n",
              "    .colab-df-container {\n",
              "      display:flex;\n",
              "      flex-wrap:wrap;\n",
              "      gap: 12px;\n",
              "    }\n",
              "\n",
              "    .colab-df-convert {\n",
              "      background-color: #E8F0FE;\n",
              "      border: none;\n",
              "      border-radius: 50%;\n",
              "      cursor: pointer;\n",
              "      display: none;\n",
              "      fill: #1967D2;\n",
              "      height: 32px;\n",
              "      padding: 0 0 0 0;\n",
              "      width: 32px;\n",
              "    }\n",
              "\n",
              "    .colab-df-convert:hover {\n",
              "      background-color: #E2EBFA;\n",
              "      box-shadow: 0px 1px 2px rgba(60, 64, 67, 0.3), 0px 1px 3px 1px rgba(60, 64, 67, 0.15);\n",
              "      fill: #174EA6;\n",
              "    }\n",
              "\n",
              "    [theme=dark] .colab-df-convert {\n",
              "      background-color: #3B4455;\n",
              "      fill: #D2E3FC;\n",
              "    }\n",
              "\n",
              "    [theme=dark] .colab-df-convert:hover {\n",
              "      background-color: #434B5C;\n",
              "      box-shadow: 0px 1px 3px 1px rgba(0, 0, 0, 0.15);\n",
              "      filter: drop-shadow(0px 1px 2px rgba(0, 0, 0, 0.3));\n",
              "      fill: #FFFFFF;\n",
              "    }\n",
              "  </style>\n",
              "\n",
              "      <script>\n",
              "        const buttonEl =\n",
              "          document.querySelector('#df-2987358c-fd89-477a-a2b8-7411dc962286 button.colab-df-convert');\n",
              "        buttonEl.style.display =\n",
              "          google.colab.kernel.accessAllowed ? 'block' : 'none';\n",
              "\n",
              "        async function convertToInteractive(key) {\n",
              "          const element = document.querySelector('#df-2987358c-fd89-477a-a2b8-7411dc962286');\n",
              "          const dataTable =\n",
              "            await google.colab.kernel.invokeFunction('convertToInteractive',\n",
              "                                                     [key], {});\n",
              "          if (!dataTable) return;\n",
              "\n",
              "          const docLinkHtml = 'Like what you see? Visit the ' +\n",
              "            '<a target=\"_blank\" href=https://colab.research.google.com/notebooks/data_table.ipynb>data table notebook</a>'\n",
              "            + ' to learn more about interactive tables.';\n",
              "          element.innerHTML = '';\n",
              "          dataTable['output_type'] = 'display_data';\n",
              "          await google.colab.output.renderOutput(dataTable, element);\n",
              "          const docLink = document.createElement('div');\n",
              "          docLink.innerHTML = docLinkHtml;\n",
              "          element.appendChild(docLink);\n",
              "        }\n",
              "      </script>\n",
              "    </div>\n",
              "  </div>\n",
              "  "
            ],
            "text/plain": [
              "      conv_id                                          turn_text  bin_symptoms\n",
              "79782   C5163                                            Mm-hmm.             0\n",
              "79783   C5163         You going with me now [00:42:00] to check?             0\n",
              "79784   C5163  I didn’t want to come in with you still changing.             0\n",
              "79785   C5163              All right, we need the questionnaire?             0\n",
              "79786   C5163                           Yeah, but we can do it –             0"
            ]
          },
          "execution_count": 6,
          "metadata": {},
          "output_type": "execute_result"
        }
      ],
      "source": [
        "labels_df = pd.read_csv(\"df_unique.csv\")\n",
        "labels_df = labels_df[[\"conv_id\", \"turn_text\", \"bin_symptoms\"]]\n",
        "labels_df.tail()"
      ]
    },
    {
      "cell_type": "markdown",
      "id": "tDeCsJZ-Rsfs",
      "metadata": {
        "id": "tDeCsJZ-Rsfs"
      },
      "source": [
        "# Train-Val-Test Split"
      ]
    },
    {
      "cell_type": "code",
      "execution_count": null,
      "id": "9722780c",
      "metadata": {
        "colab": {
          "base_uri": "https://localhost:8080/"
        },
        "id": "9722780c",
        "outputId": "5f3f4503-adb4-4fda-a192-94a6aadcb88d"
      },
      "outputs": [
        {
          "data": {
            "text/html": [
              "\n",
              "  <div id=\"df-7b1b1699-aca2-4950-8d05-0aa610a08e8e\">\n",
              "    <div class=\"colab-df-container\">\n",
              "      <div>\n",
              "<style scoped>\n",
              "    .dataframe tbody tr th:only-of-type {\n",
              "        vertical-align: middle;\n",
              "    }\n",
              "\n",
              "    .dataframe tbody tr th {\n",
              "        vertical-align: top;\n",
              "    }\n",
              "\n",
              "    .dataframe thead th {\n",
              "        text-align: right;\n",
              "    }\n",
              "</style>\n",
              "<table border=\"1\" class=\"dataframe\">\n",
              "  <thead>\n",
              "    <tr style=\"text-align: right;\">\n",
              "      <th></th>\n",
              "      <th>conv_id</th>\n",
              "      <th>turn_text</th>\n",
              "      <th>bin_symptoms</th>\n",
              "      <th>assignment</th>\n",
              "    </tr>\n",
              "  </thead>\n",
              "  <tbody>\n",
              "    <tr>\n",
              "      <th>29</th>\n",
              "      <td>C5024</td>\n",
              "      <td>Yeah, how are you feeling?</td>\n",
              "      <td>1</td>\n",
              "      <td>0</td>\n",
              "    </tr>\n",
              "    <tr>\n",
              "      <th>30</th>\n",
              "      <td>C5024</td>\n",
              "      <td>Uh, so, well, I’ve got, I’ve got hip pains.</td>\n",
              "      <td>1</td>\n",
              "      <td>0</td>\n",
              "    </tr>\n",
              "    <tr>\n",
              "      <th>32</th>\n",
              "      <td>C5024</td>\n",
              "      <td>And I’m not sure if, I assume that’s cancer bu...</td>\n",
              "      <td>1</td>\n",
              "      <td>0</td>\n",
              "    </tr>\n",
              "    <tr>\n",
              "      <th>57</th>\n",
              "      <td>C5024</td>\n",
              "      <td>makes me nervous, if you’re having more pain e...</td>\n",
              "      <td>1</td>\n",
              "      <td>0</td>\n",
              "    </tr>\n",
              "    <tr>\n",
              "      <th>63</th>\n",
              "      <td>C5024</td>\n",
              "      <td>So how, tell me about the pain then.</td>\n",
              "      <td>1</td>\n",
              "      <td>0</td>\n",
              "    </tr>\n",
              "    <tr>\n",
              "      <th>...</th>\n",
              "      <td>...</td>\n",
              "      <td>...</td>\n",
              "      <td>...</td>\n",
              "      <td>...</td>\n",
              "    </tr>\n",
              "    <tr>\n",
              "      <th>79704</th>\n",
              "      <td>C5163</td>\n",
              "      <td>Uh, they’re dry.  I do have – I have to cream ...</td>\n",
              "      <td>1</td>\n",
              "      <td>0</td>\n",
              "    </tr>\n",
              "    <tr>\n",
              "      <th>79705</th>\n",
              "      <td>C5163</td>\n",
              "      <td>But no breakdown of your skin at all?</td>\n",
              "      <td>1</td>\n",
              "      <td>0</td>\n",
              "    </tr>\n",
              "    <tr>\n",
              "      <th>79722</th>\n",
              "      <td>C5163</td>\n",
              "      <td>But only thing is, good thing is, it didn't hu...</td>\n",
              "      <td>1</td>\n",
              "      <td>0</td>\n",
              "    </tr>\n",
              "    <tr>\n",
              "      <th>79723</th>\n",
              "      <td>C5163</td>\n",
              "      <td>You weren’t having cramps at all with it?</td>\n",
              "      <td>1</td>\n",
              "      <td>0</td>\n",
              "    </tr>\n",
              "    <tr>\n",
              "      <th>79728</th>\n",
              "      <td>C5163</td>\n",
              "      <td>No cramps but it did cure my, um, what do you ...</td>\n",
              "      <td>1</td>\n",
              "      <td>0</td>\n",
              "    </tr>\n",
              "  </tbody>\n",
              "</table>\n",
              "<p>10022 rows × 4 columns</p>\n",
              "</div>\n",
              "      <button class=\"colab-df-convert\" onclick=\"convertToInteractive('df-7b1b1699-aca2-4950-8d05-0aa610a08e8e')\"\n",
              "              title=\"Convert this dataframe to an interactive table.\"\n",
              "              style=\"display:none;\">\n",
              "        \n",
              "  <svg xmlns=\"http://www.w3.org/2000/svg\" height=\"24px\"viewBox=\"0 0 24 24\"\n",
              "       width=\"24px\">\n",
              "    <path d=\"M0 0h24v24H0V0z\" fill=\"none\"/>\n",
              "    <path d=\"M18.56 5.44l.94 2.06.94-2.06 2.06-.94-2.06-.94-.94-2.06-.94 2.06-2.06.94zm-11 1L8.5 8.5l.94-2.06 2.06-.94-2.06-.94L8.5 2.5l-.94 2.06-2.06.94zm10 10l.94 2.06.94-2.06 2.06-.94-2.06-.94-.94-2.06-.94 2.06-2.06.94z\"/><path d=\"M17.41 7.96l-1.37-1.37c-.4-.4-.92-.59-1.43-.59-.52 0-1.04.2-1.43.59L10.3 9.45l-7.72 7.72c-.78.78-.78 2.05 0 2.83L4 21.41c.39.39.9.59 1.41.59.51 0 1.02-.2 1.41-.59l7.78-7.78 2.81-2.81c.8-.78.8-2.07 0-2.86zM5.41 20L4 18.59l7.72-7.72 1.47 1.35L5.41 20z\"/>\n",
              "  </svg>\n",
              "      </button>\n",
              "      \n",
              "  <style>\n",
              "    .colab-df-container {\n",
              "      display:flex;\n",
              "      flex-wrap:wrap;\n",
              "      gap: 12px;\n",
              "    }\n",
              "\n",
              "    .colab-df-convert {\n",
              "      background-color: #E8F0FE;\n",
              "      border: none;\n",
              "      border-radius: 50%;\n",
              "      cursor: pointer;\n",
              "      display: none;\n",
              "      fill: #1967D2;\n",
              "      height: 32px;\n",
              "      padding: 0 0 0 0;\n",
              "      width: 32px;\n",
              "    }\n",
              "\n",
              "    .colab-df-convert:hover {\n",
              "      background-color: #E2EBFA;\n",
              "      box-shadow: 0px 1px 2px rgba(60, 64, 67, 0.3), 0px 1px 3px 1px rgba(60, 64, 67, 0.15);\n",
              "      fill: #174EA6;\n",
              "    }\n",
              "\n",
              "    [theme=dark] .colab-df-convert {\n",
              "      background-color: #3B4455;\n",
              "      fill: #D2E3FC;\n",
              "    }\n",
              "\n",
              "    [theme=dark] .colab-df-convert:hover {\n",
              "      background-color: #434B5C;\n",
              "      box-shadow: 0px 1px 3px 1px rgba(0, 0, 0, 0.15);\n",
              "      filter: drop-shadow(0px 1px 2px rgba(0, 0, 0, 0.3));\n",
              "      fill: #FFFFFF;\n",
              "    }\n",
              "  </style>\n",
              "\n",
              "      <script>\n",
              "        const buttonEl =\n",
              "          document.querySelector('#df-7b1b1699-aca2-4950-8d05-0aa610a08e8e button.colab-df-convert');\n",
              "        buttonEl.style.display =\n",
              "          google.colab.kernel.accessAllowed ? 'block' : 'none';\n",
              "\n",
              "        async function convertToInteractive(key) {\n",
              "          const element = document.querySelector('#df-7b1b1699-aca2-4950-8d05-0aa610a08e8e');\n",
              "          const dataTable =\n",
              "            await google.colab.kernel.invokeFunction('convertToInteractive',\n",
              "                                                     [key], {});\n",
              "          if (!dataTable) return;\n",
              "\n",
              "          const docLinkHtml = 'Like what you see? Visit the ' +\n",
              "            '<a target=\"_blank\" href=https://colab.research.google.com/notebooks/data_table.ipynb>data table notebook</a>'\n",
              "            + ' to learn more about interactive tables.';\n",
              "          element.innerHTML = '';\n",
              "          dataTable['output_type'] = 'display_data';\n",
              "          await google.colab.output.renderOutput(dataTable, element);\n",
              "          const docLink = document.createElement('div');\n",
              "          docLink.innerHTML = docLinkHtml;\n",
              "          element.appendChild(docLink);\n",
              "        }\n",
              "      </script>\n",
              "    </div>\n",
              "  </div>\n",
              "  "
            ],
            "text/plain": [
              "      conv_id                                          turn_text  \\\n",
              "29      C5024                         Yeah, how are you feeling?   \n",
              "30      C5024        Uh, so, well, I’ve got, I’ve got hip pains.   \n",
              "32      C5024  And I’m not sure if, I assume that’s cancer bu...   \n",
              "57      C5024  makes me nervous, if you’re having more pain e...   \n",
              "63      C5024               So how, tell me about the pain then.   \n",
              "...       ...                                                ...   \n",
              "79704   C5163  Uh, they’re dry.  I do have – I have to cream ...   \n",
              "79705   C5163              But no breakdown of your skin at all?   \n",
              "79722   C5163  But only thing is, good thing is, it didn't hu...   \n",
              "79723   C5163          You weren’t having cramps at all with it?   \n",
              "79728   C5163  No cramps but it did cure my, um, what do you ...   \n",
              "\n",
              "       bin_symptoms  assignment  \n",
              "29                1           0  \n",
              "30                1           0  \n",
              "32                1           0  \n",
              "57                1           0  \n",
              "63                1           0  \n",
              "...             ...         ...  \n",
              "79704             1           0  \n",
              "79705             1           0  \n",
              "79722             1           0  \n",
              "79723             1           0  \n",
              "79728             1           0  \n",
              "\n",
              "[10022 rows x 4 columns]"
            ]
          },
          "execution_count": 7,
          "metadata": {},
          "output_type": "execute_result"
        }
      ],
      "source": [
        "conv_ids, conv_lengths = np.unique(labels_df[\"conv_id\"], return_counts=True)\n",
        "\n",
        "# Set random seed for replicable result\n",
        "random.seed(42)\n",
        "\n",
        "# 0 for training, 1 for validation, 2 for testing\n",
        "assignment = random.choices(population=[0, 1, 2], weights=[0.8, 0.1, 0.1], k=len(conv_ids))\n",
        "\n",
        "# Use randomized indices to split embeddings_df dataset\n",
        "train_idx   = [True if x == 0 else False for x in assignment]\n",
        "val_idx     = [True if x == 1 else False for x in assignment]\n",
        "test_idx    = [True if x == 2 else False for x in assignment]\n",
        "\n",
        "train_convs = conv_ids[train_idx]\n",
        "val_convs   = conv_ids[val_idx]\n",
        "test_convs  = conv_ids[test_idx]\n",
        "\n",
        "def train_val_test_split(x):\n",
        "    if x in train_convs:\n",
        "        return 0\n",
        "    elif x in val_convs:\n",
        "        return 1\n",
        "    else:\n",
        "        return 2\n",
        "\n",
        "labels_df[\"assignment\"] = labels_df['conv_id'].apply(train_val_test_split)\n",
        "labels_df[labels_df[\"bin_symptoms\"] == 1]"
      ]
    },
    {
      "cell_type": "code",
      "execution_count": null,
      "id": "15895458",
      "metadata": {
        "id": "15895458"
      },
      "outputs": [],
      "source": [
        "#split into train, val and test \n",
        "train_X = labels_df[[\"turn_text\"]][labels_df[\"assignment\"] == 0]\n",
        "val_X   = labels_df[[\"turn_text\"]][labels_df[\"assignment\"] == 1]\n",
        "test_X  = labels_df[[\"turn_text\"]][labels_df[\"assignment\"] == 2]\n",
        "\n",
        "train_y = labels_df[[\"bin_symptoms\"]][labels_df[\"assignment\"] == 0]\n",
        "val_y   = labels_df[[\"bin_symptoms\"]][labels_df[\"assignment\"] == 1]\n",
        "test_y  = labels_df[[\"bin_symptoms\"]][labels_df[\"assignment\"] == 2]"
      ]
    },
    {
      "cell_type": "code",
      "execution_count": null,
      "id": "a1a9c93a",
      "metadata": {
        "colab": {
          "base_uri": "https://localhost:8080/"
        },
        "id": "a1a9c93a",
        "outputId": "42d9df0b-5d63-4236-ca72-3ab48c4d40a0"
      },
      "outputs": [
        {
          "name": "stdout",
          "output_type": "stream",
          "text": [
            "Weight for class 0: 0.57\n",
            "Weight for class 1: 3.90\n"
          ]
        }
      ],
      "source": [
        "#compute class weight\n",
        "#I ended up not using this because somehow the model performs better without it \n",
        "neg = len(train_y[train_y[\"bin_symptoms\"] == 0])\n",
        "pos = len(train_y[train_y[\"bin_symptoms\"] == 1])\n",
        "total = neg + pos\n",
        "\n",
        "weight_for_0 = (1 / neg) * (total / 2.0)\n",
        "weight_for_1 = (1 / pos) * (total / 2.0)\n",
        "\n",
        "class_weight = {0: weight_for_0, 1: weight_for_1}\n",
        "\n",
        "print('Weight for class 0: {:.2f}'.format(weight_for_0))\n",
        "print('Weight for class 1: {:.2f}'.format(weight_for_1))"
      ]
    },
    {
      "cell_type": "code",
      "execution_count": null,
      "id": "ad8dcd3f",
      "metadata": {
        "id": "ad8dcd3f"
      },
      "outputs": [],
      "source": [
        "# Convert to tensor\n",
        "train_X = tf.convert_to_tensor(train_X)\n",
        "val_X   = tf.convert_to_tensor(val_X)\n",
        "test_X  = tf.convert_to_tensor(test_X)\n",
        "\n",
        "train_y = tf.convert_to_tensor(train_y, dtype=np.int64)\n",
        "val_y   = tf.convert_to_tensor(val_y, dtype=np.int64)\n",
        "test_y  = tf.convert_to_tensor(test_y, dtype=np.int64)"
      ]
    },
    {
      "cell_type": "markdown",
      "id": "yJnc5k9IT1cC",
      "metadata": {
        "id": "yJnc5k9IT1cC"
      },
      "source": [
        "# Model"
      ]
    },
    {
      "cell_type": "code",
      "execution_count": null,
      "id": "a7871102",
      "metadata": {
        "id": "a7871102"
      },
      "outputs": [],
      "source": [
        "def build_classifier_model():\n",
        "    text_input = tf.keras.layers.Input(shape=(), dtype=tf.string, name='text')\n",
        "    preprocessing_layer = hub.KerasLayer(tfhub_handle_preprocess, name='preprocessing')\n",
        "    encoder_inputs = preprocessing_layer(text_input)\n",
        "    encoder = hub.KerasLayer(tfhub_handle_encoder, trainable=True, name='BERT_encoder')\n",
        "    outputs = encoder(encoder_inputs)\n",
        "    net = outputs['pooled_output']\n",
        "    net = tf.keras.layers.Dropout(0.05)(net)\n",
        "    net = tf.keras.layers.Dense(1, activation='sigmoid', name='classifier')(net)\n",
        "    return tf.keras.Model(text_input, net)\n",
        "\n",
        "classifier_model = build_classifier_model()"
      ]
    },
    {
      "cell_type": "code",
      "execution_count": null,
      "id": "3WHW4jEjzDSO",
      "metadata": {
        "colab": {
          "base_uri": "https://localhost:8080/"
        },
        "id": "3WHW4jEjzDSO",
        "outputId": "5a1876f1-78e0-47f6-b956-25a64e1169c1"
      },
      "outputs": [
        {
          "name": "stdout",
          "output_type": "stream",
          "text": [
            "Model: \"model\"\n",
            "__________________________________________________________________________________________________\n",
            " Layer (type)                   Output Shape         Param #     Connected to                     \n",
            "==================================================================================================\n",
            " text (InputLayer)              [(None,)]            0           []                               \n",
            "                                                                                                  \n",
            " preprocessing (KerasLayer)     {'input_mask': (Non  0           ['text[0][0]']                   \n",
            "                                e, 128),                                                          \n",
            "                                 'input_word_ids':                                                \n",
            "                                (None, 128),                                                      \n",
            "                                 'input_type_ids':                                                \n",
            "                                (None, 128)}                                                      \n",
            "                                                                                                  \n",
            " BERT_encoder (KerasLayer)      {'sequence_output':  28763649    ['preprocessing[0][0]',          \n",
            "                                 (None, 128, 512),                'preprocessing[0][1]',          \n",
            "                                 'pooled_output': (               'preprocessing[0][2]']          \n",
            "                                None, 512),                                                       \n",
            "                                 'encoder_outputs':                                               \n",
            "                                 [(None, 128, 512),                                               \n",
            "                                 (None, 128, 512),                                                \n",
            "                                 (None, 128, 512),                                                \n",
            "                                 (None, 128, 512)],                                               \n",
            "                                 'default': (None,                                                \n",
            "                                512)}                                                             \n",
            "                                                                                                  \n",
            " dropout (Dropout)              (None, 512)          0           ['BERT_encoder[0][5]']           \n",
            "                                                                                                  \n",
            " classifier (Dense)             (None, 1)            513         ['dropout[0][0]']                \n",
            "                                                                                                  \n",
            "==================================================================================================\n",
            "Total params: 28,764,162\n",
            "Trainable params: 28,764,161\n",
            "Non-trainable params: 1\n",
            "__________________________________________________________________________________________________\n"
          ]
        }
      ],
      "source": [
        "classifier_model.summary()"
      ]
    },
    {
      "cell_type": "code",
      "execution_count": null,
      "id": "eILy-aqYT-3Y",
      "metadata": {
        "colab": {
          "base_uri": "https://localhost:8080/",
          "height": 466
        },
        "id": "eILy-aqYT-3Y",
        "outputId": "3a782b2f-c61a-4110-dc8c-eae151df9470"
      },
      "outputs": [
        {
          "data": {
            "image/png": "[encoded data removed]",
            "text/plain": [
              "<IPython.core.display.Image object>"
            ]
          },
          "execution_count": 15,
          "metadata": {},
          "output_type": "execute_result"
        }
      ],
      "source": [
        "keras.utils.plot_model(classifier_model)"
      ]
    },
    {
      "cell_type": "code",
      "execution_count": null,
      "id": "eaeb708b",
      "metadata": {
        "id": "eaeb708b"
      },
      "outputs": [],
      "source": [
        "#set hyperparameters\n",
        "#this is the list that I found to be the best performing after lots of trials and errors\n",
        "epochs = 20\n",
        "steps_per_epoch = 200\n",
        "num_train_steps = steps_per_epoch * epochs\n",
        "num_warmup_steps = int(0.1*num_train_steps)\n",
        "init_lr = 3e-5\n",
        "\n",
        "#initialize an AdamW optimizer \n",
        "optimizer = optimization.create_optimizer(\n",
        "    init_lr=init_lr,\n",
        "    num_train_steps=num_train_steps,\n",
        "    num_warmup_steps=num_warmup_steps,\n",
        "    optimizer_type='adamw'\n",
        ")"
      ]
    },
    {
      "cell_type": "code",
      "execution_count": null,
      "id": "12db93de",
      "metadata": {
        "colab": {
          "base_uri": "https://localhost:8080/"
        },
        "id": "12db93de",
        "outputId": "c712499b-ee2d-4f64-986a-2b4f05f0d917"
      },
      "outputs": [
        {
          "name": "stdout",
          "output_type": "stream",
          "text": [
            "Epoch 1/20\n",
            "200/200 [==============================] - 112s 485ms/step - loss: 0.3806 - accuracy: 0.8533 - auc: 0.6968 - recall: 0.0991 - precision: 0.3539 - val_loss: 0.3909 - val_accuracy: 0.8400 - val_auc: 0.8346 - val_recall: 0.3294 - val_precision: 0.8000\n",
            "Epoch 2/20\n",
            "200/200 [==============================] - 95s 477ms/step - loss: 0.2600 - accuracy: 0.9023 - auc: 0.8480 - recall: 0.3586 - precision: 0.6699 - val_loss: 0.3404 - val_accuracy: 0.8706 - val_auc: 0.8780 - val_recall: 0.4647 - val_precision: 0.8634\n",
            "Epoch 3/20\n",
            "200/200 [==============================] - 95s 476ms/step - loss: 0.2454 - accuracy: 0.9108 - auc: 0.8772 - recall: 0.4453 - precision: 0.7510 - val_loss: 0.3032 - val_accuracy: 0.8913 - val_auc: 0.8889 - val_recall: 0.5735 - val_precision: 0.8705\n",
            "Epoch 4/20\n",
            "200/200 [==============================] - 96s 478ms/step - loss: 0.2333 - accuracy: 0.9136 - auc: 0.8913 - recall: 0.4871 - precision: 0.7481 - val_loss: 0.3152 - val_accuracy: 0.8825 - val_auc: 0.8864 - val_recall: 0.4912 - val_precision: 0.9176\n",
            "Epoch 5/20\n",
            "200/200 [==============================] - 94s 469ms/step - loss: 0.2338 - accuracy: 0.9145 - auc: 0.8940 - recall: 0.4814 - precision: 0.7524 - val_loss: 0.3226 - val_accuracy: 0.8850 - val_auc: 0.8932 - val_recall: 0.5235 - val_precision: 0.8900\n",
            "Epoch 6/20\n",
            "200/200 [==============================] - 94s 469ms/step - loss: 0.2387 - accuracy: 0.9109 - auc: 0.8978 - recall: 0.5058 - precision: 0.7500 - val_loss: 0.2805 - val_accuracy: 0.9000 - val_auc: 0.9044 - val_recall: 0.6176 - val_precision: 0.8750\n",
            "Epoch 7/20\n",
            "200/200 [==============================] - 93s 467ms/step - loss: 0.2180 - accuracy: 0.9150 - auc: 0.9102 - recall: 0.5085 - precision: 0.7473 - val_loss: 0.2940 - val_accuracy: 0.8913 - val_auc: 0.9001 - val_recall: 0.5824 - val_precision: 0.8609\n",
            "Epoch 8/20\n",
            "200/200 [==============================] - 93s 465ms/step - loss: 0.2107 - accuracy: 0.9248 - auc: 0.9155 - recall: 0.5574 - precision: 0.8003 - val_loss: 0.2894 - val_accuracy: 0.8931 - val_auc: 0.9055 - val_recall: 0.5618 - val_precision: 0.8967\n",
            "Epoch 9/20\n",
            "200/200 [==============================] - 93s 464ms/step - loss: 0.2207 - accuracy: 0.9192 - auc: 0.9068 - recall: 0.5231 - precision: 0.7766 - val_loss: 0.2922 - val_accuracy: 0.8950 - val_auc: 0.9104 - val_recall: 0.5794 - val_precision: 0.8874\n",
            "Epoch 10/20\n",
            "200/200 [==============================] - 93s 465ms/step - loss: 0.2124 - accuracy: 0.9206 - auc: 0.9114 - recall: 0.5163 - precision: 0.7697 - val_loss: 0.2808 - val_accuracy: 0.8969 - val_auc: 0.9123 - val_recall: 0.5882 - val_precision: 0.8889\n",
            "Epoch 11/20\n",
            "200/200 [==============================] - 92s 463ms/step - loss: 0.1970 - accuracy: 0.9249 - auc: 0.9323 - recall: 0.5855 - precision: 0.7926 - val_loss: 0.2734 - val_accuracy: 0.8963 - val_auc: 0.9114 - val_recall: 0.6529 - val_precision: 0.8222\n",
            "Epoch 12/20\n",
            "200/200 [==============================] - 93s 464ms/step - loss: 0.1878 - accuracy: 0.9308 - auc: 0.9337 - recall: 0.5963 - precision: 0.8063 - val_loss: 0.2734 - val_accuracy: 0.8981 - val_auc: 0.9176 - val_recall: 0.6118 - val_precision: 0.8703\n",
            "Epoch 13/20\n",
            "200/200 [==============================] - 93s 463ms/step - loss: 0.1877 - accuracy: 0.9361 - auc: 0.9304 - recall: 0.6020 - precision: 0.8371 - val_loss: 0.2870 - val_accuracy: 0.8925 - val_auc: 0.9135 - val_recall: 0.5618 - val_precision: 0.8925\n",
            "Epoch 14/20\n",
            "200/200 [==============================] - 93s 463ms/step - loss: 0.1948 - accuracy: 0.9277 - auc: 0.9323 - recall: 0.5711 - precision: 0.8048 - val_loss: 0.2641 - val_accuracy: 0.9031 - val_auc: 0.9178 - val_recall: 0.6471 - val_precision: 0.8627\n",
            "Epoch 15/20\n",
            "200/200 [==============================] - 93s 464ms/step - loss: 0.1819 - accuracy: 0.9323 - auc: 0.9417 - recall: 0.6179 - precision: 0.8137 - val_loss: 0.2734 - val_accuracy: 0.9025 - val_auc: 0.9148 - val_recall: 0.6382 - val_precision: 0.8680\n",
            "Epoch 16/20\n",
            "200/200 [==============================] - 93s 463ms/step - loss: 0.1788 - accuracy: 0.9347 - auc: 0.9336 - recall: 0.5889 - precision: 0.7945 - val_loss: 0.2732 - val_accuracy: 0.9044 - val_auc: 0.9163 - val_recall: 0.6235 - val_precision: 0.8945\n",
            "Epoch 17/20\n",
            "200/200 [==============================] - 93s 463ms/step - loss: 0.1821 - accuracy: 0.9331 - auc: 0.9426 - recall: 0.6431 - precision: 0.8389 - val_loss: 0.2761 - val_accuracy: 0.9056 - val_auc: 0.9163 - val_recall: 0.6382 - val_precision: 0.8857\n"
          ]
        }
      ],
      "source": [
        "#define metrics\n",
        "METRICS = [\n",
        "    tf.keras.metrics.BinaryAccuracy(name='accuracy'),\n",
        "    tf.keras.metrics.AUC(name = 'auc'),\n",
        "    tf.keras.metrics.Recall(name = 'recall'),\n",
        "    tf.keras.metrics.Precision(name = 'precision')\n",
        "]\n",
        "\n",
        "#compile the model \n",
        "classifier_model.compile(\n",
        "    optimizer=optimizer,\n",
        "    loss=tf.keras.losses.BinaryCrossentropy(from_logits=False),#using binary ce as the loss \n",
        "    metrics=METRICS\n",
        ")\n",
        "\n",
        "#add an early stopping condition:\n",
        "#stop training when the validation auc does not improve for 3 or more epochs \n",
        "callback = tf.keras.callbacks.EarlyStopping(monitor='val_auc', patience=3)\n",
        "\n",
        "#fit model \n",
        "history = classifier_model.fit(\n",
        "    x=train_X,\n",
        "    y=train_y, \n",
        "    steps_per_epoch=steps_per_epoch,\n",
        "    epochs=epochs,\n",
        "    shuffle=True,\n",
        "    batch_size=32,\n",
        "    validation_data=(val_X, val_y),\n",
        "    validation_steps=50,\n",
        "    callbacks=[callback],\n",
        "#     class_weight=class_weight\n",
        ")\n"
      ]
    },
    {
      "cell_type": "code",
      "execution_count": null,
      "id": "abedda49",
      "metadata": {
        "colab": {
          "base_uri": "https://localhost:8080/"
        },
        "id": "abedda49",
        "outputId": "ca897cd8-e805-4f13-8a36-4f843904e462"
      },
      "outputs": [
        {
          "name": "stdout",
          "output_type": "stream",
          "text": [
            "212/212 [==============================] - 43s 201ms/step - loss: 0.2229 - accuracy: 0.9139 - auc: 0.9287 - recall: 0.5966 - precision: 0.7671\n"
          ]
        },
        {
          "data": {
            "text/plain": [
              "[0.22293074429035187,\n",
              " 0.913877010345459,\n",
              " 0.9287094473838806,\n",
              " 0.5965965986251831,\n",
              " 0.7670527696609497]"
            ]
          },
          "execution_count": 18,
          "metadata": {},
          "output_type": "execute_result"
        }
      ],
      "source": [
        "#see performance on the testing set \n",
        "\n",
        "classifier_model.evaluate(\n",
        "    x=test_X,\n",
        "    y=test_y\n",
        ")"
      ]
    },
    {
      "cell_type": "code",
      "execution_count": null,
      "id": "Mr1ShrlGatIb",
      "metadata": {
        "id": "Mr1ShrlGatIb"
      },
      "outputs": [],
      "source": [
        "#a function to how the metrics changed throughout history \n",
        "\n",
        "def plot_metrics(metrics, history):\n",
        "  history_dict = history.history\n",
        "  fig, ax = plt.subplots(2, 2, figsize = (10, 10))\n",
        "  idx = 0\n",
        "  for i in range(2):\n",
        "    for j in range(2):\n",
        "      train_history = history_dict[metrics[idx]]\n",
        "      val_history = history_dict['val_' + metrics[idx]]\n",
        "      epochs = range(1, len(train_history) + 1)\n",
        "      ax[i,j].plot(epochs, train_history, 'r', label='Training ' + metrics[idx])\n",
        "      ax[i,j].plot(epochs, val_history, 'b', label='Validation ' + metrics[idx])\n",
        "      ax[i,j].set(\n",
        "          xlabel = 'epochs', \n",
        "          ylabel = metrics[idx]\n",
        "      )\n",
        "      ax[i,j].legend()\n",
        "      idx += 1"
      ]
    },
    {
      "cell_type": "code",
      "execution_count": null,
      "id": "w1j03zKJchKE",
      "metadata": {
        "colab": {
          "base_uri": "https://localhost:8080/",
          "height": 607
        },
        "id": "w1j03zKJchKE",
        "outputId": "038b25ff-caeb-4b19-9701-3c40d93924f0"
      },
      "outputs": [
        {
          "data": {
            "image/png": "[encoded data removed]",
            "text/plain": [
              "<Figure size 720x720 with 4 Axes>"
            ]
          },
          "metadata": {
            "needs_background": "light"
          },
          "output_type": "display_data"
        }
      ],
      "source": [
        "#plot history \n",
        "plot_metrics(metrics = ['accuracy', 'auc', 'precision', 'recall'], history = history)"
      ]
    },
    {
      "cell_type": "markdown",
      "id": "cd59dba6",
      "metadata": {
        "id": "cd59dba6"
      },
      "source": [
        "# Save Model"
      ]
    },
    {
      "cell_type": "code",
      "execution_count": null,
      "id": "1auKGRanegwf",
      "metadata": {
        "colab": {
          "base_uri": "https://localhost:8080/"
        },
        "id": "1auKGRanegwf",
        "outputId": "b548785c-67c9-4c3e-cdb4-7b1ffe2c7de3"
      },
      "outputs": [
        {
          "name": "stdout",
          "output_type": "stream",
          "text": [
            "Mounted at /content/drive\n"
          ]
        }
      ],
      "source": [
        "from google.colab import drive\n",
        "drive.mount('/content/drive')"
      ]
    },
    {
      "cell_type": "code",
      "execution_count": null,
      "id": "46e76e81",
      "metadata": {
        "id": "46e76e81"
      },
      "outputs": [],
      "source": [
        "classifier_model.save('/content/drive/My Drive/bert_nn.h5')"
      ]
    },
    {
      "cell_type": "markdown",
      "id": "035f3e79",
      "metadata": {
        "id": "035f3e79"
      },
      "source": [
        "# Load Model"
      ]
    },
    {
      "cell_type": "code",
      "execution_count": null,
      "id": "nIXUI2sim59H",
      "metadata": {
        "id": "nIXUI2sim59H"
      },
      "outputs": [],
      "source": [
        "#if you are loading the model without running previous cells\n",
        "#make sure you initialize an AdamW optimizer before loading the model \n",
        "epochs = 20\n",
        "steps_per_epoch = 200\n",
        "num_train_steps = steps_per_epoch * epochs\n",
        "num_warmup_steps = int(0.1*num_train_steps)\n",
        "init_lr = 3e-5\n",
        "\n",
        "optimizer2 = optimization.create_optimizer(\n",
        "    init_lr=init_lr,\n",
        "    num_train_steps=num_train_steps,\n",
        "    num_warmup_steps=num_warmup_steps,\n",
        "    optimizer_type='adamw'\n",
        ")"
      ]
    },
    {
      "cell_type": "code",
      "execution_count": null,
      "id": "c2d06baf",
      "metadata": {
        "id": "c2d06baf"
      },
      "outputs": [],
      "source": [
        "#load the model \n",
        "loaded_model = tf.keras.models.load_model('/content/drive/My Drive/bert_nn.h5', custom_objects={'AdamWeightDecay': optimizer2, 'KerasLayer':hub.KerasLayer})"
      ]
    },
    {
      "cell_type": "code",
      "execution_count": null,
      "id": "u2yAJpEWm3UD",
      "metadata": {
        "colab": {
          "base_uri": "https://localhost:8080/"
        },
        "id": "u2yAJpEWm3UD",
        "outputId": "cde29c73-8fb7-48cf-ad5d-0e471f3372e7"
      },
      "outputs": [
        {
          "name": "stdout",
          "output_type": "stream",
          "text": [
            "212/212 [==============================] - 44s 205ms/step - loss: 0.2229 - accuracy: 0.9139 - auc: 0.9287 - recall: 0.5966 - precision: 0.7671\n"
          ]
        },
        {
          "data": {
            "text/plain": [
              "[0.22293074429035187,\n",
              " 0.913877010345459,\n",
              " 0.9287094473838806,\n",
              " 0.5965965986251831,\n",
              " 0.7670527696609497]"
            ]
          },
          "execution_count": 26,
          "metadata": {},
          "output_type": "execute_result"
        }
      ],
      "source": [
        "#evaluate the testing performance \n",
        "loaded_model.evaluate(\n",
        "    x=test_X,\n",
        "    y=test_y\n",
        ")"
      ]
    },
    {
      "cell_type": "markdown",
      "id": "huREBjeC_ULR",
      "metadata": {
        "id": "huREBjeC_ULR"
      },
      "source": [
        "## Get Confidence Interval "
      ]
    },
    {
      "cell_type": "code",
      "execution_count": null,
      "id": "VeMTU5R5_O1n",
      "metadata": {
        "id": "VeMTU5R5_O1n"
      },
      "outputs": [],
      "source": [
        "preds = loaded_model.predict(test_X)"
      ]
    },
    {
      "cell_type": "code",
      "execution_count": null,
      "id": "h8NHmlgz_S7U",
      "metadata": {
        "id": "h8NHmlgz_S7U"
      },
      "outputs": [],
      "source": [
        "np.save('/content/drive/My Drive/y_true',test_y)\n",
        "np.save('/content/drive/My Drive/y_pred_bert_orig',preds)"
      ]
    },
    {
      "cell_type": "code",
      "execution_count": null,
      "id": "FCiQo100--Gm",
      "metadata": {
        "colab": {
          "base_uri": "https://localhost:8080/"
        },
        "id": "FCiQo100--Gm",
        "outputId": "25b5c571-988a-429f-9097-cd1372d15978"
      },
      "outputs": [
        {
          "name": "stdout",
          "output_type": "stream",
          "text": [
            "Accuracy: 0.91+-0.01\n",
            "AUC: 0.91+-0.01\n",
            "Precision: 0.77+-0.03\n",
            "Recall: 0.6+-0.03\n"
          ]
        }
      ],
      "source": [
        "functions = {\n",
        "    'Accuracy': accuracy_score,\n",
        "    'AUC': roc_auc_score,\n",
        "    'Precision': precision_score,\n",
        "    'Recall': recall_score\n",
        "}\n",
        "\n",
        "for name, func in functions.items():\n",
        "  if name != 'AUC':\n",
        "    res = bootstrap((test_y,preds > 0.5), func, vectorized = False, paired = True, random_state = 42, method = 'basic', n_resamples = 1000)\n",
        "  else:\n",
        "    es = bootstrap((test_y,preds), func, vectorized = False, paired = True, random_state = 42, method = 'basic', n_resamples = 1000)\n",
        "  mid = (res.confidence_interval.high + res.confidence_interval.low)/2\n",
        "  print( name + ': '+ str(round(mid[0], 2)) +  '+-' +  str(round(res.confidence_interval.high[0] - mid[0],2)))\n"
      ]
    },
    {
      "cell_type": "markdown",
      "id": "kAoRbx9udOt-",
      "metadata": {
        "id": "kAoRbx9udOt-"
      },
      "source": [
        "# Qualitative Analysis"
      ]
    },
    {
      "cell_type": "markdown",
      "id": "P7jyZo2ZrU_z",
      "metadata": {
        "id": "P7jyZo2ZrU_z"
      },
      "source": [
        "## Plot Confusion Matrix"
      ]
    },
    {
      "cell_type": "code",
      "execution_count": null,
      "id": "NCJ183nn18cP",
      "metadata": {
        "colab": {
          "base_uri": "https://localhost:8080/"
        },
        "id": "NCJ183nn18cP",
        "outputId": "0de39f50-2676-4aa0-b310-f843131ccc26"
      },
      "outputs": [
        {
          "name": "stdout",
          "output_type": "stream",
          "text": [
            "[[5601  181]\n",
            " [ 403  596]]\n"
          ]
        }
      ],
      "source": [
        "from sklearn.metrics import confusion_matrix\n",
        "\n",
        "#Generate the confusion matrix\n",
        "cf_matrix = confusion_matrix(test_y, preds)\n",
        "\n",
        "print(cf_matrix)"
      ]
    },
    {
      "cell_type": "code",
      "execution_count": null,
      "id": "36eHS_LwrcSm",
      "metadata": {
        "colab": {
          "base_uri": "https://localhost:8080/",
          "height": 307
        },
        "id": "36eHS_LwrcSm",
        "outputId": "7f57f943-fabd-494c-bd25-e52ef8dc0bfc"
      },
      "outputs": [
        {
          "data": {
            "image/png": "[encoded data removed]",
            "text/plain": [
              "<Figure size 432x288 with 2 Axes>"
            ]
          },
          "metadata": {
            "needs_background": "light"
          },
          "output_type": "display_data"
        }
      ],
      "source": [
        "import seaborn as sn\n",
        "ax = sns.heatmap(cf_matrix, annot=True, cmap='Blues', fmt='g')\n",
        "\n",
        "ax.set_title('BERT Confusion Matrix');\n",
        "ax.set_xlabel('\\nPredicted Values')\n",
        "ax.set_ylabel('Actual Values ');\n",
        "\n",
        "## Ticket labels - List must be in alphabetical order\n",
        "ax.xaxis.set_ticklabels(['False','True'])\n",
        "ax.yaxis.set_ticklabels(['False','True'])\n",
        "\n",
        "## Display the visualization of the Confusion Matrix.\n",
        "plt.show()"
      ]
    },
    {
      "cell_type": "markdown",
      "id": "SDfW4S68188B",
      "metadata": {
        "id": "SDfW4S68188B"
      },
      "source": [
        "## True Positives"
      ]
    },
    {
      "cell_type": "code",
      "execution_count": null,
      "id": "BdMPf8Xd2IGO",
      "metadata": {
        "colab": {
          "base_uri": "https://localhost:8080/"
        },
        "id": "BdMPf8Xd2IGO",
        "outputId": "8a2bd92d-aa37-43e7-e44e-0d7514b3dbcb"
      },
      "outputs": [
        {
          "data": {
            "text/plain": [
              "<tf.Tensor: shape=(10,), dtype=string, numpy=\n",
              "array([b'Sick to my stomach and diarrhea.',\n",
              "       b'Okay. Is there any chance of getting maybe some Zofran or something? The Compazine just \\xe2\\x80\\x93',\n",
              "       b'All right. Zofran, yeah, we can do Zofran.',\n",
              "       b'I have no pain here. No pain, okay? But right here, oh my god, oh my god.',\n",
              "       b\"Yeah, it gets better but when I get these pains, I know I got to shit. I'm sorry, Jean. Sorry, Doc.\",\n",
              "       b\"When I go to the bathroom, it's buckling over. You know what I'm saying? It's like \\xe2\\x80\\x93\",\n",
              "       b\"You're getting cramping pain.\",\n",
              "       b\"I feel like he's not getting any nutrition either because as soon as he eats, within ten minutes he's in the bathroom and like he's running.\",\n",
              "       b'Tonight. Okay. Other than being nauseous, now I have been throwing up.',\n",
              "       b\"I'm going to be honest with ya. It seems like if I take Compazine and Imodium, I throw up about a \\xe2\\x80\\x93 it's just a matter of time. Just a matter of time. So what I do, like this morning, I get up, had a half a bagel. I waited a half hour, took my Xeloda, and then I took Imodium and that was about 7:00. Then I took another one at 9:00 when we left to come out here just so I didn't \\xe2\\x80\\x93\"],\n",
              "      dtype=object)>"
            ]
          },
          "execution_count": 15,
          "metadata": {},
          "output_type": "execute_result"
        }
      ],
      "source": [
        "test_X[(test_y == 1) & (preds == 1)][:10]"
      ]
    },
    {
      "cell_type": "markdown",
      "id": "gbgubpNG2Bf2",
      "metadata": {
        "id": "gbgubpNG2Bf2"
      },
      "source": [
        "## True Negatives"
      ]
    },
    {
      "cell_type": "code",
      "execution_count": null,
      "id": "Apu4TGFP2Jti",
      "metadata": {
        "colab": {
          "base_uri": "https://localhost:8080/"
        },
        "id": "Apu4TGFP2Jti",
        "outputId": "0cc1355b-f257-4a44-d3d4-8734d9c19066"
      },
      "outputs": [
        {
          "data": {
            "text/plain": [
              "<tf.Tensor: shape=(10,), dtype=string, numpy=\n",
              "array([b'Okay, conversation C7230, 7230.', b'You wait outside?',\n",
              "       b\"I'm here.\", b'Hey, Nicole. Thanks.', b\"It's over here too.\",\n",
              "       b\"I think it's hernia.\",\n",
              "       b'Probably not. We can show him. _____ _____ _____ _____.',\n",
              "       b\"All right, they need to get somebody in a room then because there's no one in.\",\n",
              "       b'Hey, Doc.', b'Hello.'], dtype=object)>"
            ]
          },
          "execution_count": 16,
          "metadata": {},
          "output_type": "execute_result"
        }
      ],
      "source": [
        "test_X[(test_y == 0) & (preds == 0)][:10]"
      ]
    },
    {
      "cell_type": "markdown",
      "id": "xbK-4Yc1xVjQ",
      "metadata": {
        "id": "xbK-4Yc1xVjQ"
      },
      "source": [
        "## False Positives "
      ]
    },
    {
      "cell_type": "code",
      "execution_count": null,
      "id": "Ty1CQ_FPvMaX",
      "metadata": {
        "colab": {
          "base_uri": "https://localhost:8080/"
        },
        "id": "Ty1CQ_FPvMaX",
        "outputId": "d0092361-6105-40c3-a55d-c459ca3c8036"
      },
      "outputs": [
        {
          "data": {
            "text/plain": [
              "<tf.Tensor: shape=(10,), dtype=string, numpy=\n",
              "array([b\"I could eat something, I'd feel a lot better.\",\n",
              "       b'Once a day both of them. On my week off, about Tuesday I start feeling 100 percent. But like today \\xe2\\x80\\x93',\n",
              "       b\"Okay. Then me and my friend the Luvinox, how \\xe2\\x80\\x93 I mean, when does it get too high, when you're getting too close to the muscles?\",\n",
              "       b\"Yeah. I'm getting pretty good letting it go completely limp and then just kind of letting it come out. That seems to help some.\",\n",
              "       b'Sneakers?', b'And the prednisone.', b'Is he eating good now?',\n",
              "       b\"He said he didn't understand why he was \\xe2\\x80\\x93 you know, he said they don't find any infection, there's no fever-like infection.\",\n",
              "       b\"And prednisone's for your bones.\",\n",
              "       b'The swallowing at times, I guess.'], dtype=object)>"
            ]
          },
          "execution_count": 29,
          "metadata": {},
          "output_type": "execute_result"
        }
      ],
      "source": [
        "test_X[(test_y == 0) & (preds == 1)][:10]"
      ]
    },
    {
      "cell_type": "markdown",
      "id": "jt7wC0Q3xqXv",
      "metadata": {
        "id": "jt7wC0Q3xqXv"
      },
      "source": [
        "## False Negatives"
      ]
    },
    {
      "cell_type": "code",
      "execution_count": null,
      "id": "nk6y0_Fgvvrh",
      "metadata": {
        "colab": {
          "base_uri": "https://localhost:8080/"
        },
        "id": "nk6y0_Fgvvrh",
        "outputId": "030a1ebe-87e4-44c4-b5c1-788c9b963120"
      },
      "outputs": [
        {
          "data": {
            "text/plain": [
              "<tf.Tensor: shape=(10,), dtype=string, numpy=\n",
              "array([b'Did you get better during the week off?',\n",
              "       b'Oh my, yeah. Oh my, yeah.',\n",
              "       b'What about in the week off? Does that get better?', b'No.',\n",
              "       b\"Yeah. So what happens is the Xeloda is not allowing proper colon function, and you don't absorb as much water so you got \\xe2\\x80\\x93\",\n",
              "       b\"Not from anything I gave you to read. No, I have not heard that. In fact, the Zaloda, while it may be contributing to some thinning, shouldn't be causing it, but the _____ can, so \\xe2\\x80\\x93\",\n",
              "       b'I know. I just used to have hair. We grew attached to each other.',\n",
              "       b'He could probably figure it out, yeah, but I walk in, and he goes, \"Oh, you got a haircut,\" and he was absolutely serious. I go, \"Oh, that\\'s a low blow, man,\" and then he realizes what\\'s happening. He goes, \"Oh, I\\'m sorry.\" I said, \"Yeah, I told my oncologist to take a little off the top, and he took a little bit too much.\"',\n",
              "       b\"Yeah, but it actually hasn't all come out, so \\xe2\\x80\\x93\",\n",
              "       b'It will.'], dtype=object)>"
            ]
          },
          "execution_count": 30,
          "metadata": {},
          "output_type": "execute_result"
        }
      ],
      "source": [
        "test_X[(test_y == 1) & (preds == 0)][:10]"
      ]
    },
    {
      "cell_type": "code",
      "execution_count": null,
      "id": "SMGEjQjHxwgb",
      "metadata": {
        "id": "SMGEjQjHxwgb"
      },
      "outputs": [],
      "source": []
    }
  ],
  "metadata": {
    "accelerator": "GPU",
    "colab": {
      "collapsed_sections": [
        "tDeCsJZ-Rsfs"
      ],
      "name": "bert_with_nn_orig.ipynb",
      "provenance": []
    },
    "kernelspec": {
      "display_name": "Python 3",
      "language": "python",
      "name": "python3"
    },
    "language_info": {
      "codemirror_mode": {
        "name": "ipython",
        "version": 3
      },
      "file_extension": ".py",
      "mimetype": "text/x-python",
      "name": "python",
      "nbconvert_exporter": "python",
      "pygments_lexer": "ipython3",
      "version": "3.7.1"
    }
  },
  "nbformat": 4,
  "nbformat_minor": 5
}
