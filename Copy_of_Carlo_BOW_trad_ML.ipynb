{
  "nbformat": 4,
  "nbformat_minor": 0,
  "metadata": {
    "colab": {
      "name": "Copy of Carlo BOW trad ML.ipynb",
      "provenance": [],
      "collapsed_sections": [],
      "machine_shape": "hm"
    },
    "kernelspec": {
      "name": "python3",
      "display_name": "Python 3"
    },
    "language_info": {
      "name": "python"
    },
    "accelerator": "GPU"
  },
  "cells": [
    {
      "cell_type": "code",
      "execution_count": null,
      "metadata": {
        "colab": {
          "resources": {
            "http://localhost:8080/nbextensions/google.colab/files.js": {
              "data": "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",
              "ok": true,
              "headers": [
                [
                  "content-type",
                  "application/javascript"
                ]
              ],
              "status": 200,
              "status_text": ""
            }
          },
          "base_uri": "https://localhost:8080/",
          "height": 73
        },
        "id": "30mk5SLRCY80",
        "outputId": "f0637491-981d-48d5-9d89-51855285d943"
      },
      "outputs": [
        {
          "output_type": "display_data",
          "data": {
            "text/plain": [
              "<IPython.core.display.HTML object>"
            ],
            "text/html": [
              "\n",
              "     <input type=\"file\" id=\"files-5a5dfb6e-9b87-4f8f-815c-58ffce349877\" name=\"files[]\" multiple disabled\n",
              "        style=\"border:none\" />\n",
              "     <output id=\"result-5a5dfb6e-9b87-4f8f-815c-58ffce349877\">\n",
              "      Upload widget is only available when the cell has been executed in the\n",
              "      current browser session. Please rerun this cell to enable.\n",
              "      </output>\n",
              "      <script src=\"/nbextensions/google.colab/files.js\"></script> "
            ]
          },
          "metadata": {}
        },
        {
          "output_type": "stream",
          "name": "stdout",
          "text": [
            "Saving data_unstacked.csv to data_unstacked.csv\n"
          ]
        }
      ],
      "source": [
        "from google.colab import files\n",
        "uploaded = files.upload()"
      ]
    },
    {
      "cell_type": "code",
      "source": [
        "import numpy as np\n",
        "import pandas as pd\n",
        "import io"
      ],
      "metadata": {
        "id": "yqZ63qDCDgf1"
      },
      "execution_count": null,
      "outputs": []
    },
    {
      "cell_type": "code",
      "source": [
        "df = pd.read_csv(io.BytesIO(uploaded['data_unstacked.csv']))"
      ],
      "metadata": {
        "id": "tz8hGsTBEb5T"
      },
      "execution_count": null,
      "outputs": []
    },
    {
      "cell_type": "code",
      "source": [
        "df.head()"
      ],
      "metadata": {
        "colab": {
          "base_uri": "https://localhost:8080/",
          "height": 337
        },
        "id": "mYnYrwTlHsGB",
        "outputId": "d9b4a748-fd71-4543-c585-38f020a11541"
      },
      "execution_count": null,
      "outputs": [
        {
          "output_type": "execute_result",
          "data": {
            "text/plain": [
              "      FILENAME            SPEAKER  TURN_NUMBER            TURN_TEXT ANNOTATOR  \\\n",
              "0  C5024_CLEAN        FACILITATOR            0  Conversation C5024.     ELISE   \n",
              "1  C5024_CLEAN        FACILITATOR            0  Conversation C5024.      KATE   \n",
              "2  C5024_CLEAN        FACILITATOR            0  Conversation C5024.    NICOLE   \n",
              "3  C5024_CLEAN  ONCOLOGIST (MALE)            1                 Hey.     ELISE   \n",
              "4  C5024_CLEAN  ONCOLOGIST (MALE)            1                 Hey.      KATE   \n",
              "\n",
              "   BATCH CONV_ID         ROLE   PT_ID PT_SEX  PRIMARYMDID    MDID  HCPID  \\\n",
              "0      0   C5024  facilitator  1219.0      M       5020.0  5020.0    NaN   \n",
              "1      0   C5024  facilitator  1219.0      M       5020.0  5020.0    NaN   \n",
              "2      0   C5024  facilitator  1219.0      M       5020.0  5020.0    NaN   \n",
              "3      0   C5024    clinician  1219.0      M       5020.0  5020.0    NaN   \n",
              "4      0   C5024    clinician  1219.0      M       5020.0  5020.0    NaN   \n",
              "\n",
              "   HCPID2  PTSITE  PTRANDGRP  CONVNUM  FUNCTIONAL_STATUS  \\\n",
              "0     NaN     1.0        3.0      1.0                  0   \n",
              "1     NaN     1.0        3.0      1.0                  0   \n",
              "2     NaN     1.0        3.0      1.0                  0   \n",
              "3     NaN     1.0        3.0      1.0                  0   \n",
              "4     NaN     1.0        3.0      1.0                  0   \n",
              "\n",
              "   ILLNESS_UNDERSTANDING  SYMPTOMS  \n",
              "0                      0         0  \n",
              "1                      0         0  \n",
              "2                      0         0  \n",
              "3                      0         0  \n",
              "4                      0         0  "
            ],
            "text/html": [
              "\n",
              "  <div id=\"df-4ed2d00f-e562-454b-ad9e-829287ea0e29\">\n",
              "    <div class=\"colab-df-container\">\n",
              "      <div>\n",
              "<style scoped>\n",
              "    .dataframe tbody tr th:only-of-type {\n",
              "        vertical-align: middle;\n",
              "    }\n",
              "\n",
              "    .dataframe tbody tr th {\n",
              "        vertical-align: top;\n",
              "    }\n",
              "\n",
              "    .dataframe thead th {\n",
              "        text-align: right;\n",
              "    }\n",
              "</style>\n",
              "<table border=\"1\" class=\"dataframe\">\n",
              "  <thead>\n",
              "    <tr style=\"text-align: right;\">\n",
              "      <th></th>\n",
              "      <th>FILENAME</th>\n",
              "      <th>SPEAKER</th>\n",
              "      <th>TURN_NUMBER</th>\n",
              "      <th>TURN_TEXT</th>\n",
              "      <th>ANNOTATOR</th>\n",
              "      <th>BATCH</th>\n",
              "      <th>CONV_ID</th>\n",
              "      <th>ROLE</th>\n",
              "      <th>PT_ID</th>\n",
              "      <th>PT_SEX</th>\n",
              "      <th>PRIMARYMDID</th>\n",
              "      <th>MDID</th>\n",
              "      <th>HCPID</th>\n",
              "      <th>HCPID2</th>\n",
              "      <th>PTSITE</th>\n",
              "      <th>PTRANDGRP</th>\n",
              "      <th>CONVNUM</th>\n",
              "      <th>FUNCTIONAL_STATUS</th>\n",
              "      <th>ILLNESS_UNDERSTANDING</th>\n",
              "      <th>SYMPTOMS</th>\n",
              "    </tr>\n",
              "  </thead>\n",
              "  <tbody>\n",
              "    <tr>\n",
              "      <th>0</th>\n",
              "      <td>C5024_CLEAN</td>\n",
              "      <td>FACILITATOR</td>\n",
              "      <td>0</td>\n",
              "      <td>Conversation C5024.</td>\n",
              "      <td>ELISE</td>\n",
              "      <td>0</td>\n",
              "      <td>C5024</td>\n",
              "      <td>facilitator</td>\n",
              "      <td>1219.0</td>\n",
              "      <td>M</td>\n",
              "      <td>5020.0</td>\n",
              "      <td>5020.0</td>\n",
              "      <td>NaN</td>\n",
              "      <td>NaN</td>\n",
              "      <td>1.0</td>\n",
              "      <td>3.0</td>\n",
              "      <td>1.0</td>\n",
              "      <td>0</td>\n",
              "      <td>0</td>\n",
              "      <td>0</td>\n",
              "    </tr>\n",
              "    <tr>\n",
              "      <th>1</th>\n",
              "      <td>C5024_CLEAN</td>\n",
              "      <td>FACILITATOR</td>\n",
              "      <td>0</td>\n",
              "      <td>Conversation C5024.</td>\n",
              "      <td>KATE</td>\n",
              "      <td>0</td>\n",
              "      <td>C5024</td>\n",
              "      <td>facilitator</td>\n",
              "      <td>1219.0</td>\n",
              "      <td>M</td>\n",
              "      <td>5020.0</td>\n",
              "      <td>5020.0</td>\n",
              "      <td>NaN</td>\n",
              "      <td>NaN</td>\n",
              "      <td>1.0</td>\n",
              "      <td>3.0</td>\n",
              "      <td>1.0</td>\n",
              "      <td>0</td>\n",
              "      <td>0</td>\n",
              "      <td>0</td>\n",
              "    </tr>\n",
              "    <tr>\n",
              "      <th>2</th>\n",
              "      <td>C5024_CLEAN</td>\n",
              "      <td>FACILITATOR</td>\n",
              "      <td>0</td>\n",
              "      <td>Conversation C5024.</td>\n",
              "      <td>NICOLE</td>\n",
              "      <td>0</td>\n",
              "      <td>C5024</td>\n",
              "      <td>facilitator</td>\n",
              "      <td>1219.0</td>\n",
              "      <td>M</td>\n",
              "      <td>5020.0</td>\n",
              "      <td>5020.0</td>\n",
              "      <td>NaN</td>\n",
              "      <td>NaN</td>\n",
              "      <td>1.0</td>\n",
              "      <td>3.0</td>\n",
              "      <td>1.0</td>\n",
              "      <td>0</td>\n",
              "      <td>0</td>\n",
              "      <td>0</td>\n",
              "    </tr>\n",
              "    <tr>\n",
              "      <th>3</th>\n",
              "      <td>C5024_CLEAN</td>\n",
              "      <td>ONCOLOGIST (MALE)</td>\n",
              "      <td>1</td>\n",
              "      <td>Hey.</td>\n",
              "      <td>ELISE</td>\n",
              "      <td>0</td>\n",
              "      <td>C5024</td>\n",
              "      <td>clinician</td>\n",
              "      <td>1219.0</td>\n",
              "      <td>M</td>\n",
              "      <td>5020.0</td>\n",
              "      <td>5020.0</td>\n",
              "      <td>NaN</td>\n",
              "      <td>NaN</td>\n",
              "      <td>1.0</td>\n",
              "      <td>3.0</td>\n",
              "      <td>1.0</td>\n",
              "      <td>0</td>\n",
              "      <td>0</td>\n",
              "      <td>0</td>\n",
              "    </tr>\n",
              "    <tr>\n",
              "      <th>4</th>\n",
              "      <td>C5024_CLEAN</td>\n",
              "      <td>ONCOLOGIST (MALE)</td>\n",
              "      <td>1</td>\n",
              "      <td>Hey.</td>\n",
              "      <td>KATE</td>\n",
              "      <td>0</td>\n",
              "      <td>C5024</td>\n",
              "      <td>clinician</td>\n",
              "      <td>1219.0</td>\n",
              "      <td>M</td>\n",
              "      <td>5020.0</td>\n",
              "      <td>5020.0</td>\n",
              "      <td>NaN</td>\n",
              "      <td>NaN</td>\n",
              "      <td>1.0</td>\n",
              "      <td>3.0</td>\n",
              "      <td>1.0</td>\n",
              "      <td>0</td>\n",
              "      <td>0</td>\n",
              "      <td>0</td>\n",
              "    </tr>\n",
              "  </tbody>\n",
              "</table>\n",
              "</div>\n",
              "      <button class=\"colab-df-convert\" onclick=\"convertToInteractive('df-4ed2d00f-e562-454b-ad9e-829287ea0e29')\"\n",
              "              title=\"Convert this dataframe to an interactive table.\"\n",
              "              style=\"display:none;\">\n",
              "        \n",
              "  <svg xmlns=\"http://www.w3.org/2000/svg\" height=\"24px\"viewBox=\"0 0 24 24\"\n",
              "       width=\"24px\">\n",
              "    <path d=\"M0 0h24v24H0V0z\" fill=\"none\"/>\n",
              "    <path d=\"M18.56 5.44l.94 2.06.94-2.06 2.06-.94-2.06-.94-.94-2.06-.94 2.06-2.06.94zm-11 1L8.5 8.5l.94-2.06 2.06-.94-2.06-.94L8.5 2.5l-.94 2.06-2.06.94zm10 10l.94 2.06.94-2.06 2.06-.94-2.06-.94-.94-2.06-.94 2.06-2.06.94z\"/><path d=\"M17.41 7.96l-1.37-1.37c-.4-.4-.92-.59-1.43-.59-.52 0-1.04.2-1.43.59L10.3 9.45l-7.72 7.72c-.78.78-.78 2.05 0 2.83L4 21.41c.39.39.9.59 1.41.59.51 0 1.02-.2 1.41-.59l7.78-7.78 2.81-2.81c.8-.78.8-2.07 0-2.86zM5.41 20L4 18.59l7.72-7.72 1.47 1.35L5.41 20z\"/>\n",
              "  </svg>\n",
              "      </button>\n",
              "      \n",
              "  <style>\n",
              "    .colab-df-container {\n",
              "      display:flex;\n",
              "      flex-wrap:wrap;\n",
              "      gap: 12px;\n",
              "    }\n",
              "\n",
              "    .colab-df-convert {\n",
              "      background-color: #E8F0FE;\n",
              "      border: none;\n",
              "      border-radius: 50%;\n",
              "      cursor: pointer;\n",
              "      display: none;\n",
              "      fill: #1967D2;\n",
              "      height: 32px;\n",
              "      padding: 0 0 0 0;\n",
              "      width: 32px;\n",
              "    }\n",
              "\n",
              "    .colab-df-convert:hover {\n",
              "      background-color: #E2EBFA;\n",
              "      box-shadow: 0px 1px 2px rgba(60, 64, 67, 0.3), 0px 1px 3px 1px rgba(60, 64, 67, 0.15);\n",
              "      fill: #174EA6;\n",
              "    }\n",
              "\n",
              "    [theme=dark] .colab-df-convert {\n",
              "      background-color: #3B4455;\n",
              "      fill: #D2E3FC;\n",
              "    }\n",
              "\n",
              "    [theme=dark] .colab-df-convert:hover {\n",
              "      background-color: #434B5C;\n",
              "      box-shadow: 0px 1px 3px 1px rgba(0, 0, 0, 0.15);\n",
              "      filter: drop-shadow(0px 1px 2px rgba(0, 0, 0, 0.3));\n",
              "      fill: #FFFFFF;\n",
              "    }\n",
              "  </style>\n",
              "\n",
              "      <script>\n",
              "        const buttonEl =\n",
              "          document.querySelector('#df-4ed2d00f-e562-454b-ad9e-829287ea0e29 button.colab-df-convert');\n",
              "        buttonEl.style.display =\n",
              "          google.colab.kernel.accessAllowed ? 'block' : 'none';\n",
              "\n",
              "        async function convertToInteractive(key) {\n",
              "          const element = document.querySelector('#df-4ed2d00f-e562-454b-ad9e-829287ea0e29');\n",
              "          const dataTable =\n",
              "            await google.colab.kernel.invokeFunction('convertToInteractive',\n",
              "                                                     [key], {});\n",
              "          if (!dataTable) return;\n",
              "\n",
              "          const docLinkHtml = 'Like what you see? Visit the ' +\n",
              "            '<a target=\"_blank\" href=https://colab.research.google.com/notebooks/data_table.ipynb>data table notebook</a>'\n",
              "            + ' to learn more about interactive tables.';\n",
              "          element.innerHTML = '';\n",
              "          dataTable['output_type'] = 'display_data';\n",
              "          await google.colab.output.renderOutput(dataTable, element);\n",
              "          const docLink = document.createElement('div');\n",
              "          docLink.innerHTML = docLinkHtml;\n",
              "          element.appendChild(docLink);\n",
              "        }\n",
              "      </script>\n",
              "    </div>\n",
              "  </div>\n",
              "  "
            ]
          },
          "metadata": {},
          "execution_count": 4
        }
      ]
    },
    {
      "cell_type": "code",
      "source": [
        "# bag of words - taken from 6.871 PS1\n",
        "import re\n",
        "import nltk\n",
        "import pandas as pd\n",
        "from sklearn.feature_extraction.text import CountVectorizer, TfidfVectorizer "
      ],
      "metadata": {
        "id": "Kt_iENJRJvCi"
      },
      "execution_count": null,
      "outputs": []
    },
    {
      "cell_type": "code",
      "source": [
        "# note: this function was inspired by the following link's preprocessing function: \n",
        "# https://kavita-ganesan.com/how-to-use-countvectorizer/#.Yg0SrujMJdh\n",
        "def my_cool_preprocessor(text):\n",
        "    text=text.lower() # convert to all lower case\n",
        "    text=re.sub(\"\\\\W\",\" \",text) # remove special chars\n",
        "    text=re.sub(\"\\\\s+(in|the|all|for|and|on)\\\\s+\",\" _connector_ \",text) # normalize certain words\n",
        "    text = re.sub(r'\\d+', '', text) # remove digits\n",
        "    return text\n",
        "\n",
        "corpus = df[\"TURN_TEXT\"]\n",
        "count_vec = CountVectorizer(max_features = 100, stop_words='english', preprocessor = my_cool_preprocessor)\n",
        "count_data = count_vec.fit_transform(corpus)\n",
        "cv_data = pd.DataFrame(count_data.toarray(), columns = count_vec.get_feature_names_out())\n"
      ],
      "metadata": {
        "id": "eEv9yF3YLfXt"
      },
      "execution_count": null,
      "outputs": []
    },
    {
      "cell_type": "code",
      "source": [
        "df_combined = pd.concat([df, cv_data], axis=1)"
      ],
      "metadata": {
        "id": "6psvpbhfLh_g"
      },
      "execution_count": null,
      "outputs": []
    },
    {
      "cell_type": "code",
      "source": [
        "df_combined.head()"
      ],
      "metadata": {
        "colab": {
          "base_uri": "https://localhost:8080/",
          "height": 236
        },
        "id": "UFUXuouSjBlr",
        "outputId": "e5c5468b-5b60-4084-cc88-a7094f12a518"
      },
      "execution_count": null,
      "outputs": [
        {
          "output_type": "execute_result",
          "data": {
            "text/plain": [
              "      FILENAME            SPEAKER  TURN_NUMBER            TURN_TEXT ANNOTATOR  \\\n",
              "0  C5024_CLEAN        FACILITATOR            0  Conversation C5024.     ELISE   \n",
              "1  C5024_CLEAN        FACILITATOR            0  Conversation C5024.      KATE   \n",
              "2  C5024_CLEAN        FACILITATOR            0  Conversation C5024.    NICOLE   \n",
              "3  C5024_CLEAN  ONCOLOGIST (MALE)            1                 Hey.     ELISE   \n",
              "4  C5024_CLEAN  ONCOLOGIST (MALE)            1                 Hey.      KATE   \n",
              "\n",
              "   BATCH CONV_ID         ROLE   PT_ID PT_SEX  ...  ve  want  way  week  weeks  \\\n",
              "0      0   C5024  facilitator  1219.0      M  ...   0     0    0     0      0   \n",
              "1      0   C5024  facilitator  1219.0      M  ...   0     0    0     0      0   \n",
              "2      0   C5024  facilitator  1219.0      M  ...   0     0    0     0      0   \n",
              "3      0   C5024    clinician  1219.0      M  ...   0     0    0     0      0   \n",
              "4      0   C5024    clinician  1219.0      M  ...   0     0    0     0      0   \n",
              "\n",
              "   went  work  yeah  yep  yes  \n",
              "0     0     0     0    0    0  \n",
              "1     0     0     0    0    0  \n",
              "2     0     0     0    0    0  \n",
              "3     0     0     0    0    0  \n",
              "4     0     0     0    0    0  \n",
              "\n",
              "[5 rows x 120 columns]"
            ],
            "text/html": [
              "\n",
              "  <div id=\"df-0ddfc662-0919-4c0f-aba9-dbe8af968a2f\">\n",
              "    <div class=\"colab-df-container\">\n",
              "      <div>\n",
              "<style scoped>\n",
              "    .dataframe tbody tr th:only-of-type {\n",
              "        vertical-align: middle;\n",
              "    }\n",
              "\n",
              "    .dataframe tbody tr th {\n",
              "        vertical-align: top;\n",
              "    }\n",
              "\n",
              "    .dataframe thead th {\n",
              "        text-align: right;\n",
              "    }\n",
              "</style>\n",
              "<table border=\"1\" class=\"dataframe\">\n",
              "  <thead>\n",
              "    <tr style=\"text-align: right;\">\n",
              "      <th></th>\n",
              "      <th>FILENAME</th>\n",
              "      <th>SPEAKER</th>\n",
              "      <th>TURN_NUMBER</th>\n",
              "      <th>TURN_TEXT</th>\n",
              "      <th>ANNOTATOR</th>\n",
              "      <th>BATCH</th>\n",
              "      <th>CONV_ID</th>\n",
              "      <th>ROLE</th>\n",
              "      <th>PT_ID</th>\n",
              "      <th>PT_SEX</th>\n",
              "      <th>...</th>\n",
              "      <th>ve</th>\n",
              "      <th>want</th>\n",
              "      <th>way</th>\n",
              "      <th>week</th>\n",
              "      <th>weeks</th>\n",
              "      <th>went</th>\n",
              "      <th>work</th>\n",
              "      <th>yeah</th>\n",
              "      <th>yep</th>\n",
              "      <th>yes</th>\n",
              "    </tr>\n",
              "  </thead>\n",
              "  <tbody>\n",
              "    <tr>\n",
              "      <th>0</th>\n",
              "      <td>C5024_CLEAN</td>\n",
              "      <td>FACILITATOR</td>\n",
              "      <td>0</td>\n",
              "      <td>Conversation C5024.</td>\n",
              "      <td>ELISE</td>\n",
              "      <td>0</td>\n",
              "      <td>C5024</td>\n",
              "      <td>facilitator</td>\n",
              "      <td>1219.0</td>\n",
              "      <td>M</td>\n",
              "      <td>...</td>\n",
              "      <td>0</td>\n",
              "      <td>0</td>\n",
              "      <td>0</td>\n",
              "      <td>0</td>\n",
              "      <td>0</td>\n",
              "      <td>0</td>\n",
              "      <td>0</td>\n",
              "      <td>0</td>\n",
              "      <td>0</td>\n",
              "      <td>0</td>\n",
              "    </tr>\n",
              "    <tr>\n",
              "      <th>1</th>\n",
              "      <td>C5024_CLEAN</td>\n",
              "      <td>FACILITATOR</td>\n",
              "      <td>0</td>\n",
              "      <td>Conversation C5024.</td>\n",
              "      <td>KATE</td>\n",
              "      <td>0</td>\n",
              "      <td>C5024</td>\n",
              "      <td>facilitator</td>\n",
              "      <td>1219.0</td>\n",
              "      <td>M</td>\n",
              "      <td>...</td>\n",
              "      <td>0</td>\n",
              "      <td>0</td>\n",
              "      <td>0</td>\n",
              "      <td>0</td>\n",
              "      <td>0</td>\n",
              "      <td>0</td>\n",
              "      <td>0</td>\n",
              "      <td>0</td>\n",
              "      <td>0</td>\n",
              "      <td>0</td>\n",
              "    </tr>\n",
              "    <tr>\n",
              "      <th>2</th>\n",
              "      <td>C5024_CLEAN</td>\n",
              "      <td>FACILITATOR</td>\n",
              "      <td>0</td>\n",
              "      <td>Conversation C5024.</td>\n",
              "      <td>NICOLE</td>\n",
              "      <td>0</td>\n",
              "      <td>C5024</td>\n",
              "      <td>facilitator</td>\n",
              "      <td>1219.0</td>\n",
              "      <td>M</td>\n",
              "      <td>...</td>\n",
              "      <td>0</td>\n",
              "      <td>0</td>\n",
              "      <td>0</td>\n",
              "      <td>0</td>\n",
              "      <td>0</td>\n",
              "      <td>0</td>\n",
              "      <td>0</td>\n",
              "      <td>0</td>\n",
              "      <td>0</td>\n",
              "      <td>0</td>\n",
              "    </tr>\n",
              "    <tr>\n",
              "      <th>3</th>\n",
              "      <td>C5024_CLEAN</td>\n",
              "      <td>ONCOLOGIST (MALE)</td>\n",
              "      <td>1</td>\n",
              "      <td>Hey.</td>\n",
              "      <td>ELISE</td>\n",
              "      <td>0</td>\n",
              "      <td>C5024</td>\n",
              "      <td>clinician</td>\n",
              "      <td>1219.0</td>\n",
              "      <td>M</td>\n",
              "      <td>...</td>\n",
              "      <td>0</td>\n",
              "      <td>0</td>\n",
              "      <td>0</td>\n",
              "      <td>0</td>\n",
              "      <td>0</td>\n",
              "      <td>0</td>\n",
              "      <td>0</td>\n",
              "      <td>0</td>\n",
              "      <td>0</td>\n",
              "      <td>0</td>\n",
              "    </tr>\n",
              "    <tr>\n",
              "      <th>4</th>\n",
              "      <td>C5024_CLEAN</td>\n",
              "      <td>ONCOLOGIST (MALE)</td>\n",
              "      <td>1</td>\n",
              "      <td>Hey.</td>\n",
              "      <td>KATE</td>\n",
              "      <td>0</td>\n",
              "      <td>C5024</td>\n",
              "      <td>clinician</td>\n",
              "      <td>1219.0</td>\n",
              "      <td>M</td>\n",
              "      <td>...</td>\n",
              "      <td>0</td>\n",
              "      <td>0</td>\n",
              "      <td>0</td>\n",
              "      <td>0</td>\n",
              "      <td>0</td>\n",
              "      <td>0</td>\n",
              "      <td>0</td>\n",
              "      <td>0</td>\n",
              "      <td>0</td>\n",
              "      <td>0</td>\n",
              "    </tr>\n",
              "  </tbody>\n",
              "</table>\n",
              "<p>5 rows × 120 columns</p>\n",
              "</div>\n",
              "      <button class=\"colab-df-convert\" onclick=\"convertToInteractive('df-0ddfc662-0919-4c0f-aba9-dbe8af968a2f')\"\n",
              "              title=\"Convert this dataframe to an interactive table.\"\n",
              "              style=\"display:none;\">\n",
              "        \n",
              "  <svg xmlns=\"http://www.w3.org/2000/svg\" height=\"24px\"viewBox=\"0 0 24 24\"\n",
              "       width=\"24px\">\n",
              "    <path d=\"M0 0h24v24H0V0z\" fill=\"none\"/>\n",
              "    <path d=\"M18.56 5.44l.94 2.06.94-2.06 2.06-.94-2.06-.94-.94-2.06-.94 2.06-2.06.94zm-11 1L8.5 8.5l.94-2.06 2.06-.94-2.06-.94L8.5 2.5l-.94 2.06-2.06.94zm10 10l.94 2.06.94-2.06 2.06-.94-2.06-.94-.94-2.06-.94 2.06-2.06.94z\"/><path d=\"M17.41 7.96l-1.37-1.37c-.4-.4-.92-.59-1.43-.59-.52 0-1.04.2-1.43.59L10.3 9.45l-7.72 7.72c-.78.78-.78 2.05 0 2.83L4 21.41c.39.39.9.59 1.41.59.51 0 1.02-.2 1.41-.59l7.78-7.78 2.81-2.81c.8-.78.8-2.07 0-2.86zM5.41 20L4 18.59l7.72-7.72 1.47 1.35L5.41 20z\"/>\n",
              "  </svg>\n",
              "      </button>\n",
              "      \n",
              "  <style>\n",
              "    .colab-df-container {\n",
              "      display:flex;\n",
              "      flex-wrap:wrap;\n",
              "      gap: 12px;\n",
              "    }\n",
              "\n",
              "    .colab-df-convert {\n",
              "      background-color: #E8F0FE;\n",
              "      border: none;\n",
              "      border-radius: 50%;\n",
              "      cursor: pointer;\n",
              "      display: none;\n",
              "      fill: #1967D2;\n",
              "      height: 32px;\n",
              "      padding: 0 0 0 0;\n",
              "      width: 32px;\n",
              "    }\n",
              "\n",
              "    .colab-df-convert:hover {\n",
              "      background-color: #E2EBFA;\n",
              "      box-shadow: 0px 1px 2px rgba(60, 64, 67, 0.3), 0px 1px 3px 1px rgba(60, 64, 67, 0.15);\n",
              "      fill: #174EA6;\n",
              "    }\n",
              "\n",
              "    [theme=dark] .colab-df-convert {\n",
              "      background-color: #3B4455;\n",
              "      fill: #D2E3FC;\n",
              "    }\n",
              "\n",
              "    [theme=dark] .colab-df-convert:hover {\n",
              "      background-color: #434B5C;\n",
              "      box-shadow: 0px 1px 3px 1px rgba(0, 0, 0, 0.15);\n",
              "      filter: drop-shadow(0px 1px 2px rgba(0, 0, 0, 0.3));\n",
              "      fill: #FFFFFF;\n",
              "    }\n",
              "  </style>\n",
              "\n",
              "      <script>\n",
              "        const buttonEl =\n",
              "          document.querySelector('#df-0ddfc662-0919-4c0f-aba9-dbe8af968a2f button.colab-df-convert');\n",
              "        buttonEl.style.display =\n",
              "          google.colab.kernel.accessAllowed ? 'block' : 'none';\n",
              "\n",
              "        async function convertToInteractive(key) {\n",
              "          const element = document.querySelector('#df-0ddfc662-0919-4c0f-aba9-dbe8af968a2f');\n",
              "          const dataTable =\n",
              "            await google.colab.kernel.invokeFunction('convertToInteractive',\n",
              "                                                     [key], {});\n",
              "          if (!dataTable) return;\n",
              "\n",
              "          const docLinkHtml = 'Like what you see? Visit the ' +\n",
              "            '<a target=\"_blank\" href=https://colab.research.google.com/notebooks/data_table.ipynb>data table notebook</a>'\n",
              "            + ' to learn more about interactive tables.';\n",
              "          element.innerHTML = '';\n",
              "          dataTable['output_type'] = 'display_data';\n",
              "          await google.colab.output.renderOutput(dataTable, element);\n",
              "          const docLink = document.createElement('div');\n",
              "          docLink.innerHTML = docLinkHtml;\n",
              "          element.appendChild(docLink);\n",
              "        }\n",
              "      </script>\n",
              "    </div>\n",
              "  </div>\n",
              "  "
            ]
          },
          "metadata": {},
          "execution_count": 8
        }
      ]
    },
    {
      "cell_type": "code",
      "source": [
        "#create subdatasets for train/val/test\n",
        "df_train, df_valid, df_test = np.split(df_combined.sample(frac=1, random_state=42), \n",
        "                       [int(.6*len(df_combined)), int(.8*len(df_combined))])\n",
        "\n"
      ],
      "metadata": {
        "id": "aZ-RgfpKLmPg"
      },
      "execution_count": null,
      "outputs": []
    },
    {
      "cell_type": "code",
      "source": [
        "# train the logistic regression using the text features as features\n",
        "feat_names_lab = list(df_combined)[20:]\n",
        "X_df_train = df_train[feat_names_lab].values\n",
        "y_df_train = df_train['SYMPTOMS'].values\n",
        "print(X_df_train.shape)\n",
        "print(y_df_train.shape)\n",
        "\n",
        "X_df_valid = df_valid[feat_names_lab].values\n",
        "y_df_valid = df_valid['SYMPTOMS'].values\n",
        "print(X_df_valid.shape)\n",
        "print(y_df_valid.shape)\n",
        "\n",
        "X_df_test = df_test[feat_names_lab].values\n",
        "y_df_test = df_test['SYMPTOMS'].values\n",
        "print(X_df_test.shape)\n",
        "print(y_df_test.shape)"
      ],
      "metadata": {
        "colab": {
          "base_uri": "https://localhost:8080/"
        },
        "id": "P_leM8nzMtD4",
        "outputId": "e118c1ed-48c7-474e-ba46-5b91cebed0b8"
      },
      "execution_count": null,
      "outputs": [
        {
          "output_type": "stream",
          "name": "stdout",
          "text": [
            "(69003, 100)\n",
            "(69003,)\n",
            "(23001, 100)\n",
            "(23001,)\n",
            "(23001, 100)\n",
            "(23001,)\n"
          ]
        }
      ]
    },
    {
      "cell_type": "code",
      "source": [
        "# write a loop going through all C and penalty values, select the values with best validation accuracy (see chunk below)\n",
        "from sklearn.preprocessing import MinMaxScaler, StandardScaler\n",
        "\n",
        "from sklearn.linear_model import LogisticRegression\n",
        "from sklearn.model_selection import GridSearchCV\n",
        "from sklearn.model_selection import cross_val_score\n",
        "\n",
        "from sklearn.metrics import confusion_matrix\n",
        "from sklearn.metrics import plot_confusion_matrix\n",
        "from sklearn.metrics import accuracy_score\n",
        "from sklearn.metrics import f1_score\n",
        "from sklearn.metrics import recall_score\n",
        "from sklearn.metrics import precision_score\n",
        "from sklearn.metrics import roc_curve\n",
        "from sklearn.metrics import roc_auc_score\n",
        "from sklearn.pipeline import Pipeline\n",
        "\n",
        "d = {'C': [0.1,0.25,0.5,1., 0.1,0.25,0.5,1.], 'penalty': ['l1', 'l1', 'l1', 'l1', 'l2', 'l2', 'l2', 'l2']}\n",
        "d = pd.DataFrame(data=d)\n",
        "for i in d.index:\n",
        "  pipe = Pipeline([('norm', StandardScaler()), ('LR', LogisticRegression(C=d[\"C\"][i], penalty=d[\"penalty\"][i], solver='liblinear'))])\n",
        "  pipe.fit(X_df_train, y_df_train)\n",
        "  ypred = pipe.predict(X_df_valid)\n",
        "  #accuracy\n",
        "  d.loc[i, \"validation_acc\"] = accuracy_score(y_df_valid, ypred)\n",
        "\n",
        "max_validation_acc = d[\"validation_acc\"].max()\n",
        "C_best = d[d[\"validation_acc\"] == max_validation_acc ][[\"C\"]].squeeze()\n",
        "penalty_best = d[d[\"validation_acc\"] == max_validation_acc ][[\"penalty\"]].squeeze()\n",
        "\n",
        "#on test data\n",
        "ypred2 = pipe.predict(X_df_test)\n",
        "acc = accuracy_score(y_df_test, ypred2)\n",
        "print(f'test accuracy: {acc}')"
      ],
      "metadata": {
        "colab": {
          "base_uri": "https://localhost:8080/"
        },
        "id": "jjvNak1gMvRw",
        "outputId": "56cada9a-bb10-4704-cbe6-51342184778a"
      },
      "execution_count": null,
      "outputs": [
        {
          "output_type": "stream",
          "name": "stdout",
          "text": [
            "test accuracy: 0.8688752662927699\n"
          ]
        }
      ]
    },
    {
      "cell_type": "code",
      "source": [
        "d"
      ],
      "metadata": {
        "id": "H6ecc6028Fkl",
        "outputId": "6b3da555-610b-46f9-8f81-07b200468a3a",
        "colab": {
          "base_uri": "https://localhost:8080/",
          "height": 300
        }
      },
      "execution_count": null,
      "outputs": [
        {
          "output_type": "execute_result",
          "data": {
            "text/plain": [
              "      C penalty  validation_acc\n",
              "0  0.10      l1        0.873571\n",
              "1  0.25      l1        0.873658\n",
              "2  0.50      l1        0.873745\n",
              "3  1.00      l1        0.873745\n",
              "4  0.10      l2        0.873745\n",
              "5  0.25      l2        0.873745\n",
              "6  0.50      l2        0.873745\n",
              "7  1.00      l2        0.873745"
            ],
            "text/html": [
              "\n",
              "  <div id=\"df-522b192d-aa2c-4128-931b-09919acf6b12\">\n",
              "    <div class=\"colab-df-container\">\n",
              "      <div>\n",
              "<style scoped>\n",
              "    .dataframe tbody tr th:only-of-type {\n",
              "        vertical-align: middle;\n",
              "    }\n",
              "\n",
              "    .dataframe tbody tr th {\n",
              "        vertical-align: top;\n",
              "    }\n",
              "\n",
              "    .dataframe thead th {\n",
              "        text-align: right;\n",
              "    }\n",
              "</style>\n",
              "<table border=\"1\" class=\"dataframe\">\n",
              "  <thead>\n",
              "    <tr style=\"text-align: right;\">\n",
              "      <th></th>\n",
              "      <th>C</th>\n",
              "      <th>penalty</th>\n",
              "      <th>validation_acc</th>\n",
              "    </tr>\n",
              "  </thead>\n",
              "  <tbody>\n",
              "    <tr>\n",
              "      <th>0</th>\n",
              "      <td>0.10</td>\n",
              "      <td>l1</td>\n",
              "      <td>0.873571</td>\n",
              "    </tr>\n",
              "    <tr>\n",
              "      <th>1</th>\n",
              "      <td>0.25</td>\n",
              "      <td>l1</td>\n",
              "      <td>0.873658</td>\n",
              "    </tr>\n",
              "    <tr>\n",
              "      <th>2</th>\n",
              "      <td>0.50</td>\n",
              "      <td>l1</td>\n",
              "      <td>0.873745</td>\n",
              "    </tr>\n",
              "    <tr>\n",
              "      <th>3</th>\n",
              "      <td>1.00</td>\n",
              "      <td>l1</td>\n",
              "      <td>0.873745</td>\n",
              "    </tr>\n",
              "    <tr>\n",
              "      <th>4</th>\n",
              "      <td>0.10</td>\n",
              "      <td>l2</td>\n",
              "      <td>0.873745</td>\n",
              "    </tr>\n",
              "    <tr>\n",
              "      <th>5</th>\n",
              "      <td>0.25</td>\n",
              "      <td>l2</td>\n",
              "      <td>0.873745</td>\n",
              "    </tr>\n",
              "    <tr>\n",
              "      <th>6</th>\n",
              "      <td>0.50</td>\n",
              "      <td>l2</td>\n",
              "      <td>0.873745</td>\n",
              "    </tr>\n",
              "    <tr>\n",
              "      <th>7</th>\n",
              "      <td>1.00</td>\n",
              "      <td>l2</td>\n",
              "      <td>0.873745</td>\n",
              "    </tr>\n",
              "  </tbody>\n",
              "</table>\n",
              "</div>\n",
              "      <button class=\"colab-df-convert\" onclick=\"convertToInteractive('df-522b192d-aa2c-4128-931b-09919acf6b12')\"\n",
              "              title=\"Convert this dataframe to an interactive table.\"\n",
              "              style=\"display:none;\">\n",
              "        \n",
              "  <svg xmlns=\"http://www.w3.org/2000/svg\" height=\"24px\"viewBox=\"0 0 24 24\"\n",
              "       width=\"24px\">\n",
              "    <path d=\"M0 0h24v24H0V0z\" fill=\"none\"/>\n",
              "    <path d=\"M18.56 5.44l.94 2.06.94-2.06 2.06-.94-2.06-.94-.94-2.06-.94 2.06-2.06.94zm-11 1L8.5 8.5l.94-2.06 2.06-.94-2.06-.94L8.5 2.5l-.94 2.06-2.06.94zm10 10l.94 2.06.94-2.06 2.06-.94-2.06-.94-.94-2.06-.94 2.06-2.06.94z\"/><path d=\"M17.41 7.96l-1.37-1.37c-.4-.4-.92-.59-1.43-.59-.52 0-1.04.2-1.43.59L10.3 9.45l-7.72 7.72c-.78.78-.78 2.05 0 2.83L4 21.41c.39.39.9.59 1.41.59.51 0 1.02-.2 1.41-.59l7.78-7.78 2.81-2.81c.8-.78.8-2.07 0-2.86zM5.41 20L4 18.59l7.72-7.72 1.47 1.35L5.41 20z\"/>\n",
              "  </svg>\n",
              "      </button>\n",
              "      \n",
              "  <style>\n",
              "    .colab-df-container {\n",
              "      display:flex;\n",
              "      flex-wrap:wrap;\n",
              "      gap: 12px;\n",
              "    }\n",
              "\n",
              "    .colab-df-convert {\n",
              "      background-color: #E8F0FE;\n",
              "      border: none;\n",
              "      border-radius: 50%;\n",
              "      cursor: pointer;\n",
              "      display: none;\n",
              "      fill: #1967D2;\n",
              "      height: 32px;\n",
              "      padding: 0 0 0 0;\n",
              "      width: 32px;\n",
              "    }\n",
              "\n",
              "    .colab-df-convert:hover {\n",
              "      background-color: #E2EBFA;\n",
              "      box-shadow: 0px 1px 2px rgba(60, 64, 67, 0.3), 0px 1px 3px 1px rgba(60, 64, 67, 0.15);\n",
              "      fill: #174EA6;\n",
              "    }\n",
              "\n",
              "    [theme=dark] .colab-df-convert {\n",
              "      background-color: #3B4455;\n",
              "      fill: #D2E3FC;\n",
              "    }\n",
              "\n",
              "    [theme=dark] .colab-df-convert:hover {\n",
              "      background-color: #434B5C;\n",
              "      box-shadow: 0px 1px 3px 1px rgba(0, 0, 0, 0.15);\n",
              "      filter: drop-shadow(0px 1px 2px rgba(0, 0, 0, 0.3));\n",
              "      fill: #FFFFFF;\n",
              "    }\n",
              "  </style>\n",
              "\n",
              "      <script>\n",
              "        const buttonEl =\n",
              "          document.querySelector('#df-522b192d-aa2c-4128-931b-09919acf6b12 button.colab-df-convert');\n",
              "        buttonEl.style.display =\n",
              "          google.colab.kernel.accessAllowed ? 'block' : 'none';\n",
              "\n",
              "        async function convertToInteractive(key) {\n",
              "          const element = document.querySelector('#df-522b192d-aa2c-4128-931b-09919acf6b12');\n",
              "          const dataTable =\n",
              "            await google.colab.kernel.invokeFunction('convertToInteractive',\n",
              "                                                     [key], {});\n",
              "          if (!dataTable) return;\n",
              "\n",
              "          const docLinkHtml = 'Like what you see? Visit the ' +\n",
              "            '<a target=\"_blank\" href=https://colab.research.google.com/notebooks/data_table.ipynb>data table notebook</a>'\n",
              "            + ' to learn more about interactive tables.';\n",
              "          element.innerHTML = '';\n",
              "          dataTable['output_type'] = 'display_data';\n",
              "          await google.colab.output.renderOutput(dataTable, element);\n",
              "          const docLink = document.createElement('div');\n",
              "          docLink.innerHTML = docLinkHtml;\n",
              "          element.appendChild(docLink);\n",
              "        }\n",
              "      </script>\n",
              "    </div>\n",
              "  </div>\n",
              "  "
            ]
          },
          "metadata": {},
          "execution_count": 69
        }
      ]
    },
    {
      "cell_type": "markdown",
      "source": [
        "# Tiana's Part "
      ],
      "metadata": {
        "id": "jiCmQ22RxzOM"
      }
    },
    {
      "cell_type": "markdown",
      "source": [
        "## Evaluation of the LR Model"
      ],
      "metadata": {
        "id": "3bPxeGAn1qKo"
      }
    },
    {
      "cell_type": "code",
      "source": [
        "#extract model from pipeline\n",
        "lr = pipe['LR']"
      ],
      "metadata": {
        "id": "5VfMksKAvmaJ"
      },
      "execution_count": null,
      "outputs": []
    },
    {
      "cell_type": "markdown",
      "source": [
        "Here I evaluate the model from prediction imbalance, AUC, and sensitivity\n",
        "\n",
        "1. The LR model only predicts 0 or 3. Possibly due to the fact that class 1 and class 2 consists of only a tiny proportion of the data to begin with. \n",
        "\n",
        "2. Weighted multiclass AUC is 0.693. Out of the 4 classes, class 0 and 3 have individual AUC (OVR) of 0.73 while the other two classes only have AUC 0.63 and 0.68.\n",
        "\n",
        "3. Sensitivity for class 3 is at 2%. Out of 2460 cases with class 3, the model identified 54 cases correctly."
      ],
      "metadata": {
        "id": "Vog6grZ7x7zH"
      }
    },
    {
      "cell_type": "code",
      "source": [
        "#count the number of times each class appeared in predictions\n",
        "from collections import Counter\n",
        "Counter(lr.predict(X_df_test))"
      ],
      "metadata": {
        "colab": {
          "base_uri": "https://localhost:8080/"
        },
        "id": "Nb6CttTMvnda",
        "outputId": "da49aef5-f0f0-44d6-90b1-425cfd80694f"
      },
      "execution_count": null,
      "outputs": [
        {
          "output_type": "execute_result",
          "data": {
            "text/plain": [
              "Counter({0: 22872, 3: 129})"
            ]
          },
          "metadata": {},
          "execution_count": 52
        }
      ]
    },
    {
      "cell_type": "code",
      "source": [
        "#count the number of times each class appeared in actual dataset \n",
        "Counter(y_df_test)"
      ],
      "metadata": {
        "colab": {
          "base_uri": "https://localhost:8080/"
        },
        "id": "aVS1jRkMweNB",
        "outputId": "5533944d-397f-4bb1-f8e5-01119aa82cbe"
      },
      "execution_count": null,
      "outputs": [
        {
          "output_type": "execute_result",
          "data": {
            "text/plain": [
              "Counter({0: 19679, 1: 337, 2: 525, 3: 2460})"
            ]
          },
          "metadata": {},
          "execution_count": 53
        }
      ]
    },
    {
      "cell_type": "code",
      "source": [
        "#weighted average of auc across four classes\n",
        "from sklearn.metrics import roc_auc_score\n",
        "roc_auc_score(y_df_test, lr.predict_proba(X_df_test), multi_class='ovr')"
      ],
      "metadata": {
        "colab": {
          "base_uri": "https://localhost:8080/"
        },
        "id": "GlfJcFffyYL5",
        "outputId": "395603c2-13d9-4b63-c179-cda409ed075b"
      },
      "execution_count": null,
      "outputs": [
        {
          "output_type": "execute_result",
          "data": {
            "text/plain": [
              "0.6929535430467888"
            ]
          },
          "metadata": {},
          "execution_count": 54
        }
      ]
    },
    {
      "cell_type": "code",
      "source": [
        "#get one-versus-rest auc score for each class\n",
        "for label in [0,1,2,3]:\n",
        "  y_bin = [1 if x == label else 0 for x in y_df_test]\n",
        "  pred = lr.predict_proba(X_df_test)[:,label]\n",
        "  auc = roc_auc_score(y_bin, pred)\n",
        "  print(f\"Class {label} has OVR AUC of {auc}\")"
      ],
      "metadata": {
        "colab": {
          "base_uri": "https://localhost:8080/"
        },
        "id": "FeCS8ph0zg4y",
        "outputId": "f697ff38-417d-4ed0-e39b-9c64c78c1c6a"
      },
      "execution_count": null,
      "outputs": [
        {
          "output_type": "stream",
          "name": "stdout",
          "text": [
            "Class 0 has OVR AUC of 0.7309213845495337\n",
            "Class 1 has OVR AUC of 0.6274325169342666\n",
            "Class 2 has OVR AUC of 0.6797498707616165\n",
            "Class 3 has OVR AUC of 0.7337103999417386\n"
          ]
        }
      ]
    },
    {
      "cell_type": "code",
      "source": [
        "#sensitivity for class 3 \n",
        "pred3 = np.array([1 if x == 3 else 0 for x in lr.predict(X_df_test)])\n",
        "true3 = np.array([1 if x == 3 else 0 for x in y_df_test])\n",
        "\n",
        "sum(pred3[true3 == 1])/sum(true3[true3 == 1])"
      ],
      "metadata": {
        "colab": {
          "base_uri": "https://localhost:8080/"
        },
        "id": "99HK-G2Z5LIH",
        "outputId": "b2ebd693-3e16-4eb6-e390-56fd4f6aeb01"
      },
      "execution_count": null,
      "outputs": [
        {
          "output_type": "execute_result",
          "data": {
            "text/plain": [
              "0.02195121951219512"
            ]
          },
          "metadata": {},
          "execution_count": 63
        }
      ]
    },
    {
      "cell_type": "markdown",
      "source": [
        "## Feature Importance of the LR Model"
      ],
      "metadata": {
        "id": "Rew-s3OK2eSR"
      }
    },
    {
      "cell_type": "markdown",
      "source": [
        "Unlike we conjectured, most of the words that have the highest influence on the probability of being class 3 are **NOT** directly describing the symptoms. Instead they tend to be more related to how patients express their feelings, i.e. \"like\", \"feeling\", \"feel\", \"bad\".\n",
        "\n",
        "Also, the nature of bag-of-words made it hard to recover the contextual relationship between words used in a sentence. For instance, the model is sensitive to the word \"feel\", but it does not capture what the patient said after the word \"feel\", i.e. the actual symptom that we want to extract. "
      ],
      "metadata": {
        "id": "GFbocHJU2xeV"
      }
    },
    {
      "cell_type": "code",
      "source": [
        "feature_importance = pd.DataFrame({\n",
        "    'features': feat_names_lab,\n",
        "    'coefs': lr.coef_[-1,:]\n",
        "})"
      ],
      "metadata": {
        "id": "dOFSFYDJv7ab"
      },
      "execution_count": null,
      "outputs": []
    },
    {
      "cell_type": "code",
      "source": [
        "feature_importance.sort_values(by = 'coefs', ascending = False).head(20)"
      ],
      "metadata": {
        "colab": {
          "base_uri": "https://localhost:8080/",
          "height": 676
        },
        "id": "jAIa0LNFxXYp",
        "outputId": "ba37579c-550b-42a3-a3a4-36c4d11531af"
      },
      "execution_count": null,
      "outputs": [
        {
          "output_type": "execute_result",
          "data": {
            "text/plain": [
              "       features     coefs\n",
              "62         pain  0.569341\n",
              "1   _connector_  0.224086\n",
              "44         like  0.125166\n",
              "24      feeling  0.120519\n",
              "23         feel  0.115601\n",
              "33       having  0.104779\n",
              "45       little  0.088023\n",
              "59        night  0.084602\n",
              "8         cause  0.084436\n",
              "18         does  0.076090\n",
              "76       taking  0.076009\n",
              "3           bad  0.070944\n",
              "88           uh  0.068588\n",
              "38         just  0.063372\n",
              "14         days  0.062924\n",
              "89           um  0.062626\n",
              "26      getting  0.058190\n",
              "53         mean  0.057116\n",
              "64       pretty  0.056239\n",
              "5           bit  0.054203"
            ],
            "text/html": [
              "\n",
              "  <div id=\"df-342a25e3-bcc0-4e40-a1d8-3bf3e5c0f44f\">\n",
              "    <div class=\"colab-df-container\">\n",
              "      <div>\n",
              "<style scoped>\n",
              "    .dataframe tbody tr th:only-of-type {\n",
              "        vertical-align: middle;\n",
              "    }\n",
              "\n",
              "    .dataframe tbody tr th {\n",
              "        vertical-align: top;\n",
              "    }\n",
              "\n",
              "    .dataframe thead th {\n",
              "        text-align: right;\n",
              "    }\n",
              "</style>\n",
              "<table border=\"1\" class=\"dataframe\">\n",
              "  <thead>\n",
              "    <tr style=\"text-align: right;\">\n",
              "      <th></th>\n",
              "      <th>features</th>\n",
              "      <th>coefs</th>\n",
              "    </tr>\n",
              "  </thead>\n",
              "  <tbody>\n",
              "    <tr>\n",
              "      <th>62</th>\n",
              "      <td>pain</td>\n",
              "      <td>0.569341</td>\n",
              "    </tr>\n",
              "    <tr>\n",
              "      <th>1</th>\n",
              "      <td>_connector_</td>\n",
              "      <td>0.224086</td>\n",
              "    </tr>\n",
              "    <tr>\n",
              "      <th>44</th>\n",
              "      <td>like</td>\n",
              "      <td>0.125166</td>\n",
              "    </tr>\n",
              "    <tr>\n",
              "      <th>24</th>\n",
              "      <td>feeling</td>\n",
              "      <td>0.120519</td>\n",
              "    </tr>\n",
              "    <tr>\n",
              "      <th>23</th>\n",
              "      <td>feel</td>\n",
              "      <td>0.115601</td>\n",
              "    </tr>\n",
              "    <tr>\n",
              "      <th>33</th>\n",
              "      <td>having</td>\n",
              "      <td>0.104779</td>\n",
              "    </tr>\n",
              "    <tr>\n",
              "      <th>45</th>\n",
              "      <td>little</td>\n",
              "      <td>0.088023</td>\n",
              "    </tr>\n",
              "    <tr>\n",
              "      <th>59</th>\n",
              "      <td>night</td>\n",
              "      <td>0.084602</td>\n",
              "    </tr>\n",
              "    <tr>\n",
              "      <th>8</th>\n",
              "      <td>cause</td>\n",
              "      <td>0.084436</td>\n",
              "    </tr>\n",
              "    <tr>\n",
              "      <th>18</th>\n",
              "      <td>does</td>\n",
              "      <td>0.076090</td>\n",
              "    </tr>\n",
              "    <tr>\n",
              "      <th>76</th>\n",
              "      <td>taking</td>\n",
              "      <td>0.076009</td>\n",
              "    </tr>\n",
              "    <tr>\n",
              "      <th>3</th>\n",
              "      <td>bad</td>\n",
              "      <td>0.070944</td>\n",
              "    </tr>\n",
              "    <tr>\n",
              "      <th>88</th>\n",
              "      <td>uh</td>\n",
              "      <td>0.068588</td>\n",
              "    </tr>\n",
              "    <tr>\n",
              "      <th>38</th>\n",
              "      <td>just</td>\n",
              "      <td>0.063372</td>\n",
              "    </tr>\n",
              "    <tr>\n",
              "      <th>14</th>\n",
              "      <td>days</td>\n",
              "      <td>0.062924</td>\n",
              "    </tr>\n",
              "    <tr>\n",
              "      <th>89</th>\n",
              "      <td>um</td>\n",
              "      <td>0.062626</td>\n",
              "    </tr>\n",
              "    <tr>\n",
              "      <th>26</th>\n",
              "      <td>getting</td>\n",
              "      <td>0.058190</td>\n",
              "    </tr>\n",
              "    <tr>\n",
              "      <th>53</th>\n",
              "      <td>mean</td>\n",
              "      <td>0.057116</td>\n",
              "    </tr>\n",
              "    <tr>\n",
              "      <th>64</th>\n",
              "      <td>pretty</td>\n",
              "      <td>0.056239</td>\n",
              "    </tr>\n",
              "    <tr>\n",
              "      <th>5</th>\n",
              "      <td>bit</td>\n",
              "      <td>0.054203</td>\n",
              "    </tr>\n",
              "  </tbody>\n",
              "</table>\n",
              "</div>\n",
              "      <button class=\"colab-df-convert\" onclick=\"convertToInteractive('df-342a25e3-bcc0-4e40-a1d8-3bf3e5c0f44f')\"\n",
              "              title=\"Convert this dataframe to an interactive table.\"\n",
              "              style=\"display:none;\">\n",
              "        \n",
              "  <svg xmlns=\"http://www.w3.org/2000/svg\" height=\"24px\"viewBox=\"0 0 24 24\"\n",
              "       width=\"24px\">\n",
              "    <path d=\"M0 0h24v24H0V0z\" fill=\"none\"/>\n",
              "    <path d=\"M18.56 5.44l.94 2.06.94-2.06 2.06-.94-2.06-.94-.94-2.06-.94 2.06-2.06.94zm-11 1L8.5 8.5l.94-2.06 2.06-.94-2.06-.94L8.5 2.5l-.94 2.06-2.06.94zm10 10l.94 2.06.94-2.06 2.06-.94-2.06-.94-.94-2.06-.94 2.06-2.06.94z\"/><path d=\"M17.41 7.96l-1.37-1.37c-.4-.4-.92-.59-1.43-.59-.52 0-1.04.2-1.43.59L10.3 9.45l-7.72 7.72c-.78.78-.78 2.05 0 2.83L4 21.41c.39.39.9.59 1.41.59.51 0 1.02-.2 1.41-.59l7.78-7.78 2.81-2.81c.8-.78.8-2.07 0-2.86zM5.41 20L4 18.59l7.72-7.72 1.47 1.35L5.41 20z\"/>\n",
              "  </svg>\n",
              "      </button>\n",
              "      \n",
              "  <style>\n",
              "    .colab-df-container {\n",
              "      display:flex;\n",
              "      flex-wrap:wrap;\n",
              "      gap: 12px;\n",
              "    }\n",
              "\n",
              "    .colab-df-convert {\n",
              "      background-color: #E8F0FE;\n",
              "      border: none;\n",
              "      border-radius: 50%;\n",
              "      cursor: pointer;\n",
              "      display: none;\n",
              "      fill: #1967D2;\n",
              "      height: 32px;\n",
              "      padding: 0 0 0 0;\n",
              "      width: 32px;\n",
              "    }\n",
              "\n",
              "    .colab-df-convert:hover {\n",
              "      background-color: #E2EBFA;\n",
              "      box-shadow: 0px 1px 2px rgba(60, 64, 67, 0.3), 0px 1px 3px 1px rgba(60, 64, 67, 0.15);\n",
              "      fill: #174EA6;\n",
              "    }\n",
              "\n",
              "    [theme=dark] .colab-df-convert {\n",
              "      background-color: #3B4455;\n",
              "      fill: #D2E3FC;\n",
              "    }\n",
              "\n",
              "    [theme=dark] .colab-df-convert:hover {\n",
              "      background-color: #434B5C;\n",
              "      box-shadow: 0px 1px 3px 1px rgba(0, 0, 0, 0.15);\n",
              "      filter: drop-shadow(0px 1px 2px rgba(0, 0, 0, 0.3));\n",
              "      fill: #FFFFFF;\n",
              "    }\n",
              "  </style>\n",
              "\n",
              "      <script>\n",
              "        const buttonEl =\n",
              "          document.querySelector('#df-342a25e3-bcc0-4e40-a1d8-3bf3e5c0f44f button.colab-df-convert');\n",
              "        buttonEl.style.display =\n",
              "          google.colab.kernel.accessAllowed ? 'block' : 'none';\n",
              "\n",
              "        async function convertToInteractive(key) {\n",
              "          const element = document.querySelector('#df-342a25e3-bcc0-4e40-a1d8-3bf3e5c0f44f');\n",
              "          const dataTable =\n",
              "            await google.colab.kernel.invokeFunction('convertToInteractive',\n",
              "                                                     [key], {});\n",
              "          if (!dataTable) return;\n",
              "\n",
              "          const docLinkHtml = 'Like what you see? Visit the ' +\n",
              "            '<a target=\"_blank\" href=https://colab.research.google.com/notebooks/data_table.ipynb>data table notebook</a>'\n",
              "            + ' to learn more about interactive tables.';\n",
              "          element.innerHTML = '';\n",
              "          dataTable['output_type'] = 'display_data';\n",
              "          await google.colab.output.renderOutput(dataTable, element);\n",
              "          const docLink = document.createElement('div');\n",
              "          docLink.innerHTML = docLinkHtml;\n",
              "          element.appendChild(docLink);\n",
              "        }\n",
              "      </script>\n",
              "    </div>\n",
              "  </div>\n",
              "  "
            ]
          },
          "metadata": {},
          "execution_count": 57
        }
      ]
    },
    {
      "cell_type": "markdown",
      "source": [
        "## Trying XGBoost "
      ],
      "metadata": {
        "id": "xnQw_WOO756A"
      }
    },
    {
      "cell_type": "code",
      "source": [
        "from sklearn.utils import class_weight\n",
        "import xgboost as xgb\n",
        "\n",
        "#do gridsearch to find best parameters for XGBoost \n",
        "def run_xgb(x_train, y_train, metric = 'roc_auc_ovr_weighted', max_depth = np.arange(2,6,2), learning_rate = [0.1], n_estimators = np.arange(100,350,50)):\n",
        "    print('running gridsearch for xgb...')\n",
        "    classes_weights = class_weight.compute_sample_weight(\n",
        "                                class_weight='balanced',\n",
        "                                y=y_train\n",
        "                        )\n",
        "    cv_folds = 3\n",
        "    param_grid = {'max_depth': max_depth,\n",
        "                  'learning_rate':learning_rate,\n",
        "                  'n_estimators':n_estimators\n",
        "                 }\n",
        "    \n",
        "    est = xgb.XGBClassifier(verbosity=1, objective = \"multi:softmax\", num_class = 4, sample_weight = classes_weights)\n",
        "\n",
        "    #grid search\n",
        "    gs = GridSearchCV(estimator = est, \n",
        "                            param_grid=param_grid, \n",
        "                            scoring = metric, \n",
        "                            cv= cv_folds, \n",
        "                            verbose=1)\n",
        "    gs.fit(x_train, y_train, sample_weight = classes_weights)\n",
        "    print(gs.best_params_)\n",
        "\n",
        "    return gs.best_estimator_"
      ],
      "metadata": {
        "id": "hFq6-4jq7cS_"
      },
      "execution_count": null,
      "outputs": []
    },
    {
      "cell_type": "code",
      "source": [
        "model = run_xgb(X_df_train, y_df_train)"
      ],
      "metadata": {
        "colab": {
          "base_uri": "https://localhost:8080/"
        },
        "id": "QmfRRvy27Ym0",
        "outputId": "76c9d5ea-61c5-4c63-c43a-76225e99606e"
      },
      "execution_count": null,
      "outputs": [
        {
          "output_type": "stream",
          "name": "stdout",
          "text": [
            "running gridsearch for xgb...\n",
            "Fitting 3 folds for each of 10 candidates, totalling 30 fits\n",
            "{'learning_rate': 0.1, 'max_depth': 4, 'n_estimators': 250}\n"
          ]
        }
      ]
    },
    {
      "cell_type": "markdown",
      "source": [
        "### Evaluation of XGBoost (Using same metric as before)\n",
        "\n",
        "We observe that the AUC remains pretty much the same, but prediction imbalance and sensitivity improved a lot compared to LR."
      ],
      "metadata": {
        "id": "PJnsvQdIHPKV"
      }
    },
    {
      "cell_type": "code",
      "source": [
        "from collections import Counter\n",
        "#check model prediction breakdown \n",
        "Counter(model.predict(X_df_test))"
      ],
      "metadata": {
        "colab": {
          "base_uri": "https://localhost:8080/"
        },
        "id": "zXkaoxXEHWM_",
        "outputId": "c787b895-6063-479d-f42c-b1bd86aa78f8"
      },
      "execution_count": null,
      "outputs": [
        {
          "output_type": "execute_result",
          "data": {
            "text/plain": [
              "Counter({0: 13842, 1: 2831, 2: 4267, 3: 2061})"
            ]
          },
          "metadata": {},
          "execution_count": 26
        }
      ]
    },
    {
      "cell_type": "code",
      "source": [
        "d = Counter(y_df_test)"
      ],
      "metadata": {
        "id": "eL7jnJ1NTOVB"
      },
      "execution_count": null,
      "outputs": []
    },
    {
      "cell_type": "code",
      "source": [
        "for key, value in d.items():\n",
        "  print((key, value/len(y_df_test)))"
      ],
      "metadata": {
        "colab": {
          "base_uri": "https://localhost:8080/"
        },
        "id": "QHh3SkdtTmuX",
        "outputId": "ed161abe-d769-4333-cfd1-1f7f0eb7d4d7"
      },
      "execution_count": null,
      "outputs": [
        {
          "output_type": "stream",
          "name": "stdout",
          "text": [
            "(0, 0.8555714968914395)\n",
            "(3, 0.10695187165775401)\n",
            "(2, 0.022825094561106037)\n",
            "(1, 0.014651536889700448)\n"
          ]
        }
      ]
    },
    {
      "cell_type": "code",
      "source": [
        "from sklearn.metrics import recall_score\n",
        "from sklearn.metrics import precision_score\n",
        "from sklearn.metrics import roc_curve\n",
        "from sklearn.metrics import roc_auc_score"
      ],
      "metadata": {
        "id": "lJ2tV1McNo7r"
      },
      "execution_count": null,
      "outputs": []
    },
    {
      "cell_type": "code",
      "source": [
        "#weighted average of auc across four classes\n",
        "roc_auc_score(y_df_test, model.predict_proba(X_df_test), multi_class='ovr')"
      ],
      "metadata": {
        "colab": {
          "base_uri": "https://localhost:8080/"
        },
        "id": "hMVin4vTGHOv",
        "outputId": "260af385-ef4b-477c-acf8-cdcec53ca5bd"
      },
      "execution_count": null,
      "outputs": [
        {
          "output_type": "execute_result",
          "data": {
            "text/plain": [
              "0.6906900391088917"
            ]
          },
          "metadata": {},
          "execution_count": 25
        }
      ]
    },
    {
      "cell_type": "code",
      "source": [
        "#get one-versus-rest auc score for each class\n",
        "for label in [0,1,2,3]:\n",
        "  y_bin = [1 if x == label else 0 for x in y_df_test]\n",
        "  pred = model.predict_proba(X_df_test)[:,label]\n",
        "  auc = roc_auc_score(y_bin, pred)\n",
        "  print(f\"Class {label} has OVR AUC of {auc}\")"
      ],
      "metadata": {
        "colab": {
          "base_uri": "https://localhost:8080/"
        },
        "id": "hhGSAmPkGdqM",
        "outputId": "6af0161f-79d6-4693-c131-f5b191955ccf"
      },
      "execution_count": null,
      "outputs": [
        {
          "output_type": "stream",
          "name": "stdout",
          "text": [
            "Class 0 has OVR AUC of 0.7543734983817176\n",
            "Class 1 has OVR AUC of 0.5992790694873162\n",
            "Class 2 has OVR AUC of 0.6609990762633582\n",
            "Class 3 has OVR AUC of 0.7481085123031748\n"
          ]
        }
      ]
    },
    {
      "cell_type": "code",
      "source": [
        "#sensitivity for class 3 \n",
        "pred3 = np.array([1 if x == 3 else 0 for x in model.predict(X_df_test)])\n",
        "true3 = np.array([1 if x == 3 else 0 for x in y_df_test])\n",
        "\n",
        "sum(pred3[true3 == 1])/sum(true3[true3 == 1])"
      ],
      "metadata": {
        "colab": {
          "base_uri": "https://localhost:8080/"
        },
        "id": "noIWDLZGGjzn",
        "outputId": "eb94386b-82f2-456f-a8b7-877685aac9f8"
      },
      "execution_count": null,
      "outputs": [
        {
          "output_type": "execute_result",
          "data": {
            "text/plain": [
              "0.3170731707317073"
            ]
          },
          "metadata": {},
          "execution_count": 28
        }
      ]
    },
    {
      "cell_type": "code",
      "source": [
        "#precision \n",
        "precision_score(true3, pred3)"
      ],
      "metadata": {
        "colab": {
          "base_uri": "https://localhost:8080/"
        },
        "id": "MWtajUsHOo18",
        "outputId": "895ebae7-c673-4650-a2a2-c39e5e74defd"
      },
      "execution_count": null,
      "outputs": [
        {
          "output_type": "execute_result",
          "data": {
            "text/plain": [
              "0.3784570596797671"
            ]
          },
          "metadata": {},
          "execution_count": 31
        }
      ]
    },
    {
      "cell_type": "code",
      "source": [
        "#saving model\n",
        "from google.colab import drive\n",
        "drive.mount('/content/drive')\n",
        "\n",
        "# import pickle\n",
        "# pickle.dump(model, open('/content/drive/My Drive/xgb_6871_project.pkl', 'wb'))"
      ],
      "metadata": {
        "colab": {
          "base_uri": "https://localhost:8080/"
        },
        "id": "_Pu02F4WLftn",
        "outputId": "8d4566b1-cb9e-4299-f047-adb43e00006b"
      },
      "execution_count": null,
      "outputs": [
        {
          "output_type": "stream",
          "name": "stdout",
          "text": [
            "Mounted at /content/drive\n"
          ]
        }
      ]
    },
    {
      "cell_type": "code",
      "source": [
        "import pickle\n",
        "model = pickle.load(open('/content/drive/My Drive/xgb_6871_project.pkl', 'rb'))"
      ],
      "metadata": {
        "id": "jUWsG6vhKiUR"
      },
      "execution_count": null,
      "outputs": []
    },
    {
      "cell_type": "markdown",
      "source": [
        "### Shap Values\n",
        "\n",
        "For XGBoost, analyzing feature importance is a bit tricky because the default feature importance attribute does not tell whether a word increases or decreases the probability of a certain prediction. Instead we can use SHAP plots."
      ],
      "metadata": {
        "id": "pMuzKrWDIDu-"
      }
    },
    {
      "cell_type": "code",
      "source": [
        "import shap \n",
        "explainer = shap.Explainer(model)"
      ],
      "metadata": {
        "id": "SAKAetlGG4Bg"
      },
      "execution_count": null,
      "outputs": []
    },
    {
      "cell_type": "code",
      "source": [
        "shap_obj = explainer(X_df_train)"
      ],
      "metadata": {
        "id": "qMOUbXVcJN27"
      },
      "execution_count": null,
      "outputs": []
    },
    {
      "cell_type": "code",
      "source": [
        "#plot shap values for class 3\n",
        "shap.summary_plot(shap_obj[:,:,-1], max_display=15, feature_names = feat_names_lab)"
      ],
      "metadata": {
        "colab": {
          "base_uri": "https://localhost:8080/",
          "height": 477
        },
        "id": "7dLOSdbKJgmc",
        "outputId": "ea738419-1480-4a30-fffa-bfc56558133b"
      },
      "execution_count": null,
      "outputs": [
        {
          "output_type": "display_data",
          "data": {
            "text/plain": [
              "<Figure size 576x540 with 2 Axes>"
            ],
            "image/png": "[encoded data removed]"
          },
          "metadata": {
            "needs_background": "light"
          }
        }
      ]
    },
    {
      "cell_type": "markdown",
      "source": [
        "How to interpret SHAP plots: \n",
        "1. The y-axis indicates the variable name, in order of importance from top to \n",
        "bottom. The value next to them is the mean SHAP value.\n",
        "2. On the x-axis is the SHAP value. Indicates how much is the change in log-odds per increment in the frequency of a particular word.\n",
        "\n",
        "See this [link](https://blog.datascienceheroes.com/how-to-interpret-shap-values-in-r/) for more info. \n",
        "\n",
        "Like Logistic Regression, looking at feature importance by XGBoost is NOT helpful for symptom tagging. The only word directly describing symtom is \"pain\". \n",
        "\n",
        "I wonder if keeping connector words like \"and\"/\"or\" is necessary here as it seems to add noise to the datset (both models considered the connector words as important feature). \n"
      ],
      "metadata": {
        "id": "WB3IxUspPnxr"
      }
    },
    {
      "cell_type": "markdown",
      "source": [
        "## Next Step \n",
        "\n",
        "I think before we go on tuning the model, we should spend more time improving the vectorization. Some possible directions are\n",
        "1. Removing words that are highly frequent throughout the corpus, i.e. the connector words and filler words. Methods include adjusting max_df/min_df and/or using TF-IDF.\n",
        "2. Using not just unigram but also bigrams/trigrams\n"
      ],
      "metadata": {
        "id": "SbLQZtcESM69"
      }
    }
  ]
}